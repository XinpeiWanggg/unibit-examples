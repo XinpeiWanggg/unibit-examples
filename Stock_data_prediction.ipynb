{
 "cells": [
  {
   "cell_type": "markdown",
   "metadata": {},
   "source": [
    "# Connecting to UniBit Api"
   ]
  },
  {
   "cell_type": "markdown",
   "metadata": {},
   "source": [
    "Importing Libraries"
   ]
  },
  {
   "cell_type": "code",
   "execution_count": 215,
   "metadata": {},
   "outputs": [],
   "source": [
    "import requests\n",
    "import numpy as np\n",
    "import pandas as pd\n",
    "import json\n",
    "from matplotlib import pyplot as plt\n",
    "import statistics"
   ]
  },
  {
   "cell_type": "code",
   "execution_count": 216,
   "metadata": {},
   "outputs": [],
   "source": [
    "API_KEY = 't48QI4im86eD_ChIz6p-fvV3wXJPae14'## get your free API key"
   ]
  },
  {
   "cell_type": "markdown",
   "metadata": {},
   "source": [
    "Functions definition"
   ]
  },
  {
   "cell_type": "code",
   "execution_count": 217,
   "metadata": {},
   "outputs": [],
   "source": [
    "def getIntraDayByTicker(Ticker):\n",
    "    \"\"\" This function takes as an input ticker symbole\n",
    "    and returns intraday stock price as an object\"\"\"\n",
    "    import requests\n",
    "    import json\n",
    "    response = requests.get('https://api.unibit.ai/realtimestock/'+Ticker+'?AccessKey='+API_KEY)\n",
    "    data_str = response.text\n",
    "    parsed_data = json.loads(data_str)\n",
    "    return parsed_data    "
   ]
  },
  {
   "cell_type": "code",
   "execution_count": 218,
   "metadata": {},
   "outputs": [],
   "source": [
    "def getStockNewsByTicker(Ticker):\n",
    "    \"\"\" This function takes as an input ticker symbole\n",
    "    and returns Latest stock news data array\"\"\"\n",
    "    import requests\n",
    "    import json\n",
    "    response = requests.get('https://api.unibit.ai/news/latest/'+Ticker+'?AccessKey='+API_KEY)\n",
    "    data_str = response.text\n",
    "    parsed_data = json.loads(data_str)\n",
    "    return parsed_data    "
   ]
  },
  {
   "cell_type": "code",
   "execution_count": 219,
   "metadata": {},
   "outputs": [],
   "source": [
    "def getHistoricalPrice(Ticker,rng,interval):\n",
    "    \"\"\" This function takes as an input ticker symbole, range as rng and interval\n",
    "    and returns historical stock price as object\n",
    "    Possible ranges : 1m - 3m - 1y - 3y - 5y - 10y - 20y\n",
    "    A positive number (n). If passed, chart data will return every nth element as defined by Interval\"\"\"\n",
    "    import requests\n",
    "    import json\n",
    "    response = requests.get('https://api.unibit.ai/historicalstockprice/'+Ticker+'?range='+rng+'&interval='+str(interval)+'&AccessKey='+API_KEY)\n",
    "    data_str = response.text\n",
    "    parsed_data = json.loads(data_str)\n",
    "    return parsed_data    "
   ]
  },
  {
   "cell_type": "markdown",
   "metadata": {},
   "source": [
    "Creating the dataframe of intraday price"
   ]
  },
  {
   "cell_type": "code",
   "execution_count": 220,
   "metadata": {},
   "outputs": [
    {
     "name": "stderr",
     "output_type": "stream",
     "text": [
      "ERROR:root:Internal Python error in the inspect module.\n",
      "Below is the traceback from this internal error.\n",
      "\n"
     ]
    },
    {
     "name": "stdout",
     "output_type": "stream",
     "text": [
      "Traceback (most recent call last):\n",
      "  File \"/Users/xinpeiwang/anaconda3/lib/python3.7/site-packages/IPython/core/interactiveshell.py\", line 3267, in run_code\n",
      "    exec(code_obj, self.user_global_ns, self.user_ns)\n",
      "  File \"<ipython-input-220-4f8d88c1e616>\", line 1, in <module>\n",
      "    AAPL_intra = pd.DataFrame(data = getIntraDayByTicker(\"AAPL\"))\n",
      "  File \"/Users/xinpeiwang/anaconda3/lib/python3.7/site-packages/pandas/core/frame.py\", line 348, in __init__\n",
      "    mgr = self._init_dict(data, index, columns, dtype=dtype)\n",
      "  File \"/Users/xinpeiwang/anaconda3/lib/python3.7/site-packages/pandas/core/frame.py\", line 459, in _init_dict\n",
      "    return _arrays_to_mgr(arrays, data_names, index, columns, dtype=dtype)\n",
      "  File \"/Users/xinpeiwang/anaconda3/lib/python3.7/site-packages/pandas/core/frame.py\", line 7356, in _arrays_to_mgr\n",
      "    index = extract_index(arrays)\n",
      "  File \"/Users/xinpeiwang/anaconda3/lib/python3.7/site-packages/pandas/core/frame.py\", line 7393, in extract_index\n",
      "    raise ValueError('If using all scalar values, you must pass'\n",
      "ValueError: If using all scalar values, you must pass an index\n",
      "\n",
      "During handling of the above exception, another exception occurred:\n",
      "\n",
      "Traceback (most recent call last):\n",
      "  File \"/Users/xinpeiwang/anaconda3/lib/python3.7/site-packages/IPython/core/interactiveshell.py\", line 2018, in showtraceback\n",
      "    stb = value._render_traceback_()\n",
      "AttributeError: 'ValueError' object has no attribute '_render_traceback_'\n",
      "\n",
      "During handling of the above exception, another exception occurred:\n",
      "\n",
      "Traceback (most recent call last):\n",
      "  File \"/Users/xinpeiwang/anaconda3/lib/python3.7/site-packages/IPython/core/ultratb.py\", line 1095, in get_records\n",
      "    return _fixed_getinnerframes(etb, number_of_lines_of_context, tb_offset)\n",
      "  File \"/Users/xinpeiwang/anaconda3/lib/python3.7/site-packages/IPython/core/ultratb.py\", line 313, in wrapped\n",
      "    return f(*args, **kwargs)\n",
      "  File \"/Users/xinpeiwang/anaconda3/lib/python3.7/site-packages/IPython/core/ultratb.py\", line 347, in _fixed_getinnerframes\n",
      "    records = fix_frame_records_filenames(inspect.getinnerframes(etb, context))\n",
      "  File \"/Users/xinpeiwang/anaconda3/lib/python3.7/inspect.py\", line 1500, in getinnerframes\n",
      "    frameinfo = (tb.tb_frame,) + getframeinfo(tb, context)\n",
      "  File \"/Users/xinpeiwang/anaconda3/lib/python3.7/inspect.py\", line 1458, in getframeinfo\n",
      "    filename = getsourcefile(frame) or getfile(frame)\n",
      "  File \"/Users/xinpeiwang/anaconda3/lib/python3.7/inspect.py\", line 696, in getsourcefile\n",
      "    if getattr(getmodule(object, filename), '__loader__', None) is not None:\n",
      "  File \"/Users/xinpeiwang/anaconda3/lib/python3.7/inspect.py\", line 725, in getmodule\n",
      "    file = getabsfile(object, _filename)\n",
      "  File \"/Users/xinpeiwang/anaconda3/lib/python3.7/inspect.py\", line 709, in getabsfile\n",
      "    return os.path.normcase(os.path.abspath(_filename))\n",
      "  File \"/Users/xinpeiwang/anaconda3/lib/python3.7/posixpath.py\", line 376, in abspath\n",
      "    cwd = os.getcwd()\n",
      "FileNotFoundError: [Errno 2] No such file or directory\n"
     ]
    },
    {
     "ename": "ValueError",
     "evalue": "If using all scalar values, you must pass an index",
     "output_type": "error",
     "traceback": [
      "\u001b[0;31m---------------------------------------------------------------------------\u001b[0m"
     ]
    }
   ],
   "source": [
    "AAPL_intra = pd.DataFrame(data = getIntraDayByTicker(\"AAPL\"))"
   ]
  },
  {
   "cell_type": "code",
   "execution_count": 221,
   "metadata": {},
   "outputs": [
    {
     "data": {
      "text/html": [
       "<div>\n",
       "<style scoped>\n",
       "    .dataframe tbody tr th:only-of-type {\n",
       "        vertical-align: middle;\n",
       "    }\n",
       "\n",
       "    .dataframe tbody tr th {\n",
       "        vertical-align: top;\n",
       "    }\n",
       "\n",
       "    .dataframe thead th {\n",
       "        text-align: right;\n",
       "    }\n",
       "</style>\n",
       "<table border=\"1\" class=\"dataframe\">\n",
       "  <thead>\n",
       "    <tr style=\"text-align: right;\">\n",
       "      <th></th>\n",
       "      <th>date</th>\n",
       "      <th>minute</th>\n",
       "      <th>price</th>\n",
       "      <th>ticker</th>\n",
       "    </tr>\n",
       "    <tr>\n",
       "      <th>time_index</th>\n",
       "      <th></th>\n",
       "      <th></th>\n",
       "      <th></th>\n",
       "      <th></th>\n",
       "    </tr>\n",
       "  </thead>\n",
       "  <tbody>\n",
       "    <tr>\n",
       "      <th>2019-04-10 15:59:00</th>\n",
       "      <td>20190410</td>\n",
       "      <td>15:59</td>\n",
       "      <td>200.68</td>\n",
       "      <td>AAPL</td>\n",
       "    </tr>\n",
       "    <tr>\n",
       "      <th>2019-04-10 15:58:00</th>\n",
       "      <td>20190410</td>\n",
       "      <td>15:58</td>\n",
       "      <td>200.48</td>\n",
       "      <td>AAPL</td>\n",
       "    </tr>\n",
       "  </tbody>\n",
       "</table>\n",
       "</div>"
      ],
      "text/plain": [
       "                         date minute   price ticker\n",
       "time_index                                         \n",
       "2019-04-10 15:59:00  20190410  15:59  200.68   AAPL\n",
       "2019-04-10 15:58:00  20190410  15:58  200.48   AAPL"
      ]
     },
     "execution_count": 221,
     "metadata": {},
     "output_type": "execute_result"
    }
   ],
   "source": [
    "AAPL_intra.head(2)"
   ]
  },
  {
   "cell_type": "markdown",
   "metadata": {},
   "source": [
    "Adding time index, the combination of date and time and setting it as an index"
   ]
  },
  {
   "cell_type": "code",
   "execution_count": 213,
   "metadata": {},
   "outputs": [],
   "source": [
    "AAPL_intra[\"time_index\"] = pd.to_datetime((AAPL_intra['date'] + AAPL_intra[\"minute\"]).values, format='%Y%m%d%H:%M')\n",
    "AAPL_intra.set_index(\"time_index\",inplace=True)"
   ]
  },
  {
   "cell_type": "markdown",
   "metadata": {},
   "source": [
    "## Visualizing intraday stock price"
   ]
  },
  {
   "cell_type": "markdown",
   "metadata": {},
   "source": [
    "We see that the data isn't consistent between 16 February until 01 March"
   ]
  },
  {
   "cell_type": "code",
   "execution_count": 214,
   "metadata": {
    "scrolled": true
   },
   "outputs": [
    {
     "data": {
      "text/plain": [
       "<matplotlib.axes._subplots.AxesSubplot at 0x1a33981fd0>"
      ]
     },
     "execution_count": 214,
     "metadata": {},
     "output_type": "execute_result"
    },
    {
     "data": {
      "image/png": "[encoded data removed]",
      "text/plain": [
       "<Figure size 576x432 with 1 Axes>"
      ]
     },
     "metadata": {
      "needs_background": "light"
     },
     "output_type": "display_data"
    }
   ],
   "source": [
    "AAPL_intra.tail(4000).price.plot()"
   ]
  },
  {
   "cell_type": "markdown",
   "metadata": {},
   "source": [
    "Creating dataframe of historical stock price"
   ]
  },
  {
   "cell_type": "code",
   "execution_count": 194,
   "metadata": {},
   "outputs": [
    {
     "name": "stderr",
     "output_type": "stream",
     "text": [
      "ERROR:root:Internal Python error in the inspect module.\n",
      "Below is the traceback from this internal error.\n",
      "\n"
     ]
    },
    {
     "name": "stdout",
     "output_type": "stream",
     "text": [
      "Traceback (most recent call last):\n",
      "  File \"/Users/xinpeiwang/anaconda3/lib/python3.7/site-packages/IPython/core/interactiveshell.py\", line 3267, in run_code\n",
      "    exec(code_obj, self.user_global_ns, self.user_ns)\n",
      "  File \"<ipython-input-194-4a74718406ef>\", line 1, in <module>\n",
      "    AAPL_hist = pd.DataFrame(data = getHistoricalPrice(Ticker='AAPL',rng=\"3y\",interval=1)[\"Stock price\"])\n",
      "KeyError: 'Stock price'\n",
      "\n",
      "During handling of the above exception, another exception occurred:\n",
      "\n",
      "Traceback (most recent call last):\n",
      "  File \"/Users/xinpeiwang/anaconda3/lib/python3.7/site-packages/IPython/core/interactiveshell.py\", line 2018, in showtraceback\n",
      "    stb = value._render_traceback_()\n",
      "AttributeError: 'KeyError' object has no attribute '_render_traceback_'\n",
      "\n",
      "During handling of the above exception, another exception occurred:\n",
      "\n",
      "Traceback (most recent call last):\n",
      "  File \"/Users/xinpeiwang/anaconda3/lib/python3.7/site-packages/IPython/core/ultratb.py\", line 1095, in get_records\n",
      "    return _fixed_getinnerframes(etb, number_of_lines_of_context, tb_offset)\n",
      "  File \"/Users/xinpeiwang/anaconda3/lib/python3.7/site-packages/IPython/core/ultratb.py\", line 313, in wrapped\n",
      "    return f(*args, **kwargs)\n",
      "  File \"/Users/xinpeiwang/anaconda3/lib/python3.7/site-packages/IPython/core/ultratb.py\", line 347, in _fixed_getinnerframes\n",
      "    records = fix_frame_records_filenames(inspect.getinnerframes(etb, context))\n",
      "  File \"/Users/xinpeiwang/anaconda3/lib/python3.7/inspect.py\", line 1500, in getinnerframes\n",
      "    frameinfo = (tb.tb_frame,) + getframeinfo(tb, context)\n",
      "  File \"/Users/xinpeiwang/anaconda3/lib/python3.7/inspect.py\", line 1458, in getframeinfo\n",
      "    filename = getsourcefile(frame) or getfile(frame)\n",
      "  File \"/Users/xinpeiwang/anaconda3/lib/python3.7/inspect.py\", line 696, in getsourcefile\n",
      "    if getattr(getmodule(object, filename), '__loader__', None) is not None:\n",
      "  File \"/Users/xinpeiwang/anaconda3/lib/python3.7/inspect.py\", line 725, in getmodule\n",
      "    file = getabsfile(object, _filename)\n",
      "  File \"/Users/xinpeiwang/anaconda3/lib/python3.7/inspect.py\", line 709, in getabsfile\n",
      "    return os.path.normcase(os.path.abspath(_filename))\n",
      "  File \"/Users/xinpeiwang/anaconda3/lib/python3.7/posixpath.py\", line 376, in abspath\n",
      "    cwd = os.getcwd()\n",
      "FileNotFoundError: [Errno 2] No such file or directory\n"
     ]
    },
    {
     "ename": "KeyError",
     "evalue": "'Stock price'",
     "output_type": "error",
     "traceback": [
      "\u001b[0;31m---------------------------------------------------------------------------\u001b[0m"
     ]
    }
   ],
   "source": [
    "AAPL_hist = pd.DataFrame(data = getHistoricalPrice(Ticker='AAPL',rng=\"3y\",interval=1)[\"Stock price\"])"
   ]
  },
  {
   "cell_type": "markdown",
   "metadata": {},
   "source": [
    "Setting the date as an index"
   ]
  },
  {
   "cell_type": "code",
   "execution_count": 195,
   "metadata": {},
   "outputs": [
    {
     "name": "stderr",
     "output_type": "stream",
     "text": [
      "ERROR:root:Internal Python error in the inspect module.\n",
      "Below is the traceback from this internal error.\n",
      "\n"
     ]
    },
    {
     "name": "stdout",
     "output_type": "stream",
     "text": [
      "Traceback (most recent call last):\n",
      "  File \"/Users/xinpeiwang/anaconda3/lib/python3.7/site-packages/IPython/core/interactiveshell.py\", line 3267, in run_code\n",
      "    exec(code_obj, self.user_global_ns, self.user_ns)\n",
      "  File \"<ipython-input-195-b13b6f29ef9f>\", line 1, in <module>\n",
      "    AAPL_hist.date = pd.to_datetime(AAPL_hist.date)\n",
      "  File \"/Users/xinpeiwang/anaconda3/lib/python3.7/site-packages/pandas/core/generic.py\", line 4376, in __getattr__\n",
      "    return object.__getattribute__(self, name)\n",
      "AttributeError: 'DataFrame' object has no attribute 'date'\n",
      "\n",
      "During handling of the above exception, another exception occurred:\n",
      "\n",
      "Traceback (most recent call last):\n",
      "  File \"/Users/xinpeiwang/anaconda3/lib/python3.7/site-packages/IPython/core/interactiveshell.py\", line 2018, in showtraceback\n",
      "    stb = value._render_traceback_()\n",
      "AttributeError: 'AttributeError' object has no attribute '_render_traceback_'\n",
      "\n",
      "During handling of the above exception, another exception occurred:\n",
      "\n",
      "Traceback (most recent call last):\n",
      "  File \"/Users/xinpeiwang/anaconda3/lib/python3.7/site-packages/IPython/core/ultratb.py\", line 1095, in get_records\n",
      "    return _fixed_getinnerframes(etb, number_of_lines_of_context, tb_offset)\n",
      "  File \"/Users/xinpeiwang/anaconda3/lib/python3.7/site-packages/IPython/core/ultratb.py\", line 313, in wrapped\n",
      "    return f(*args, **kwargs)\n",
      "  File \"/Users/xinpeiwang/anaconda3/lib/python3.7/site-packages/IPython/core/ultratb.py\", line 347, in _fixed_getinnerframes\n",
      "    records = fix_frame_records_filenames(inspect.getinnerframes(etb, context))\n",
      "  File \"/Users/xinpeiwang/anaconda3/lib/python3.7/inspect.py\", line 1500, in getinnerframes\n",
      "    frameinfo = (tb.tb_frame,) + getframeinfo(tb, context)\n",
      "  File \"/Users/xinpeiwang/anaconda3/lib/python3.7/inspect.py\", line 1458, in getframeinfo\n",
      "    filename = getsourcefile(frame) or getfile(frame)\n",
      "  File \"/Users/xinpeiwang/anaconda3/lib/python3.7/inspect.py\", line 696, in getsourcefile\n",
      "    if getattr(getmodule(object, filename), '__loader__', None) is not None:\n",
      "  File \"/Users/xinpeiwang/anaconda3/lib/python3.7/inspect.py\", line 725, in getmodule\n",
      "    file = getabsfile(object, _filename)\n",
      "  File \"/Users/xinpeiwang/anaconda3/lib/python3.7/inspect.py\", line 709, in getabsfile\n",
      "    return os.path.normcase(os.path.abspath(_filename))\n",
      "  File \"/Users/xinpeiwang/anaconda3/lib/python3.7/posixpath.py\", line 376, in abspath\n",
      "    cwd = os.getcwd()\n",
      "FileNotFoundError: [Errno 2] No such file or directory\n"
     ]
    },
    {
     "ename": "AttributeError",
     "evalue": "'DataFrame' object has no attribute 'date'",
     "output_type": "error",
     "traceback": [
      "\u001b[0;31m---------------------------------------------------------------------------\u001b[0m"
     ]
    }
   ],
   "source": [
    "AAPL_hist.date = pd.to_datetime(AAPL_hist.date)\n",
    "AAPL_hist.set_index(\"date\",inplace=True)"
   ]
  },
  {
   "cell_type": "markdown",
   "metadata": {},
   "source": [
    "## Visualzing historical stock close price"
   ]
  },
  {
   "cell_type": "markdown",
   "metadata": {},
   "source": [
    "The plot seems accepatable comparable to the intraday plot"
   ]
  },
  {
   "cell_type": "code",
   "execution_count": 196,
   "metadata": {},
   "outputs": [
    {
     "data": {
      "text/plain": [
       "<matplotlib.axes._subplots.AxesSubplot at 0x1a2ac20940>"
      ]
     },
     "execution_count": 196,
     "metadata": {},
     "output_type": "execute_result"
    },
    {
     "data": {
      "image/png": "[encoded data removed]",
      "text/plain": [
       "<Figure size 720x576 with 1 Axes>"
      ]
     },
     "metadata": {
      "needs_background": "light"
     },
     "output_type": "display_data"
    }
   ],
   "source": [
    "AAPL_hist.close.plot(figsize=[10,8])"
   ]
  },
  {
   "cell_type": "markdown",
   "metadata": {},
   "source": [
    "We will continue with the historical data to do some predictions using multiple models"
   ]
  },
  {
   "cell_type": "markdown",
   "metadata": {},
   "source": [
    "# EDA"
   ]
  },
  {
   "cell_type": "code",
   "execution_count": 197,
   "metadata": {
    "scrolled": true
   },
   "outputs": [
    {
     "data": {
      "text/html": [
       "<div>\n",
       "<style scoped>\n",
       "    .dataframe tbody tr th:only-of-type {\n",
       "        vertical-align: middle;\n",
       "    }\n",
       "\n",
       "    .dataframe tbody tr th {\n",
       "        vertical-align: top;\n",
       "    }\n",
       "\n",
       "    .dataframe thead th {\n",
       "        text-align: right;\n",
       "    }\n",
       "</style>\n",
       "<table border=\"1\" class=\"dataframe\">\n",
       "  <thead>\n",
       "    <tr style=\"text-align: right;\">\n",
       "      <th></th>\n",
       "      <th>adj_close</th>\n",
       "      <th>close</th>\n",
       "      <th>high</th>\n",
       "      <th>low</th>\n",
       "      <th>open</th>\n",
       "      <th>volume</th>\n",
       "      <th>anomaly</th>\n",
       "      <th>weekely_close_window_mean</th>\n",
       "      <th>monthly_close_window_mean</th>\n",
       "      <th>weekely_volume_window_mean</th>\n",
       "      <th>monthly_volume_window_mean</th>\n",
       "      <th>lastAnomaly_AAPL</th>\n",
       "    </tr>\n",
       "  </thead>\n",
       "  <tbody>\n",
       "    <tr>\n",
       "      <th>count</th>\n",
       "      <td>1335.000000</td>\n",
       "      <td>1335.000000</td>\n",
       "      <td>1335.000000</td>\n",
       "      <td>1335.000000</td>\n",
       "      <td>1335.000000</td>\n",
       "      <td>1.335000e+03</td>\n",
       "      <td>1335.000000</td>\n",
       "      <td>1335.000000</td>\n",
       "      <td>1335.000000</td>\n",
       "      <td>1.335000e+03</td>\n",
       "      <td>1.335000e+03</td>\n",
       "      <td>1335.000000</td>\n",
       "    </tr>\n",
       "    <tr>\n",
       "      <th>mean</th>\n",
       "      <td>127.807058</td>\n",
       "      <td>132.904374</td>\n",
       "      <td>134.014285</td>\n",
       "      <td>131.708776</td>\n",
       "      <td>132.865478</td>\n",
       "      <td>4.259702e+07</td>\n",
       "      <td>0.820225</td>\n",
       "      <td>132.642248</td>\n",
       "      <td>131.680236</td>\n",
       "      <td>4.272383e+07</td>\n",
       "      <td>4.345553e+07</td>\n",
       "      <td>54.112360</td>\n",
       "    </tr>\n",
       "    <tr>\n",
       "      <th>std</th>\n",
       "      <td>39.941636</td>\n",
       "      <td>37.826301</td>\n",
       "      <td>38.164018</td>\n",
       "      <td>37.452781</td>\n",
       "      <td>37.810714</td>\n",
       "      <td>2.358005e+07</td>\n",
       "      <td>0.572256</td>\n",
       "      <td>37.716554</td>\n",
       "      <td>37.459004</td>\n",
       "      <td>1.880833e+07</td>\n",
       "      <td>1.725995e+07</td>\n",
       "      <td>80.487314</td>\n",
       "    </tr>\n",
       "    <tr>\n",
       "      <th>min</th>\n",
       "      <td>60.505500</td>\n",
       "      <td>71.397100</td>\n",
       "      <td>71.647100</td>\n",
       "      <td>70.507100</td>\n",
       "      <td>70.740000</td>\n",
       "      <td>1.147590e+07</td>\n",
       "      <td>-1.000000</td>\n",
       "      <td>72.051814</td>\n",
       "      <td>74.915273</td>\n",
       "      <td>1.604237e+07</td>\n",
       "      <td>2.005144e+07</td>\n",
       "      <td>0.000000</td>\n",
       "    </tr>\n",
       "    <tr>\n",
       "      <th>25%</th>\n",
       "      <td>98.686200</td>\n",
       "      <td>104.705000</td>\n",
       "      <td>105.685000</td>\n",
       "      <td>103.765000</td>\n",
       "      <td>104.510000</td>\n",
       "      <td>2.632640e+07</td>\n",
       "      <td>1.000000</td>\n",
       "      <td>103.832143</td>\n",
       "      <td>102.438833</td>\n",
       "      <td>2.856084e+07</td>\n",
       "      <td>2.981216e+07</td>\n",
       "      <td>5.000000</td>\n",
       "    </tr>\n",
       "    <tr>\n",
       "      <th>50%</th>\n",
       "      <td>115.616000</td>\n",
       "      <td>122.020000</td>\n",
       "      <td>123.490000</td>\n",
       "      <td>121.600000</td>\n",
       "      <td>122.140000</td>\n",
       "      <td>3.633810e+07</td>\n",
       "      <td>1.000000</td>\n",
       "      <td>121.644286</td>\n",
       "      <td>120.416667</td>\n",
       "      <td>3.859424e+07</td>\n",
       "      <td>4.004360e+07</td>\n",
       "      <td>18.000000</td>\n",
       "    </tr>\n",
       "    <tr>\n",
       "      <th>75%</th>\n",
       "      <td>159.311000</td>\n",
       "      <td>162.200000</td>\n",
       "      <td>163.890000</td>\n",
       "      <td>160.145000</td>\n",
       "      <td>162.370000</td>\n",
       "      <td>5.187150e+07</td>\n",
       "      <td>1.000000</td>\n",
       "      <td>161.509286</td>\n",
       "      <td>160.169000</td>\n",
       "      <td>5.308151e+07</td>\n",
       "      <td>5.156190e+07</td>\n",
       "      <td>56.000000</td>\n",
       "    </tr>\n",
       "    <tr>\n",
       "      <th>max</th>\n",
       "      <td>230.275000</td>\n",
       "      <td>232.070000</td>\n",
       "      <td>233.470000</td>\n",
       "      <td>229.780000</td>\n",
       "      <td>230.780000</td>\n",
       "      <td>2.663808e+08</td>\n",
       "      <td>1.000000</td>\n",
       "      <td>227.368571</td>\n",
       "      <td>223.542333</td>\n",
       "      <td>1.463966e+08</td>\n",
       "      <td>9.818370e+07</td>\n",
       "      <td>327.000000</td>\n",
       "    </tr>\n",
       "  </tbody>\n",
       "</table>\n",
       "</div>"
      ],
      "text/plain": [
       "         adj_close        close         high          low         open  \\\n",
       "count  1335.000000  1335.000000  1335.000000  1335.000000  1335.000000   \n",
       "mean    127.807058   132.904374   134.014285   131.708776   132.865478   \n",
       "std      39.941636    37.826301    38.164018    37.452781    37.810714   \n",
       "min      60.505500    71.397100    71.647100    70.507100    70.740000   \n",
       "25%      98.686200   104.705000   105.685000   103.765000   104.510000   \n",
       "50%     115.616000   122.020000   123.490000   121.600000   122.140000   \n",
       "75%     159.311000   162.200000   163.890000   160.145000   162.370000   \n",
       "max     230.275000   232.070000   233.470000   229.780000   230.780000   \n",
       "\n",
       "             volume      anomaly  weekely_close_window_mean  \\\n",
       "count  1.335000e+03  1335.000000                1335.000000   \n",
       "mean   4.259702e+07     0.820225                 132.642248   \n",
       "std    2.358005e+07     0.572256                  37.716554   \n",
       "min    1.147590e+07    -1.000000                  72.051814   \n",
       "25%    2.632640e+07     1.000000                 103.832143   \n",
       "50%    3.633810e+07     1.000000                 121.644286   \n",
       "75%    5.187150e+07     1.000000                 161.509286   \n",
       "max    2.663808e+08     1.000000                 227.368571   \n",
       "\n",
       "       monthly_close_window_mean  weekely_volume_window_mean  \\\n",
       "count                1335.000000                1.335000e+03   \n",
       "mean                  131.680236                4.272383e+07   \n",
       "std                    37.459004                1.880833e+07   \n",
       "min                    74.915273                1.604237e+07   \n",
       "25%                   102.438833                2.856084e+07   \n",
       "50%                   120.416667                3.859424e+07   \n",
       "75%                   160.169000                5.308151e+07   \n",
       "max                   223.542333                1.463966e+08   \n",
       "\n",
       "       monthly_volume_window_mean  lastAnomaly_AAPL  \n",
       "count                1.335000e+03       1335.000000  \n",
       "mean                 4.345553e+07         54.112360  \n",
       "std                  1.725995e+07         80.487314  \n",
       "min                  2.005144e+07          0.000000  \n",
       "25%                  2.981216e+07          5.000000  \n",
       "50%                  4.004360e+07         18.000000  \n",
       "75%                  5.156190e+07         56.000000  \n",
       "max                  9.818370e+07        327.000000  "
      ]
     },
     "execution_count": 197,
     "metadata": {},
     "output_type": "execute_result"
    }
   ],
   "source": [
    "AAPL_hist.describe()"
   ]
  },
  {
   "cell_type": "code",
   "execution_count": 198,
   "metadata": {},
   "outputs": [
    {
     "name": "stderr",
     "output_type": "stream",
     "text": [
      "/Users/xinpeiwang/anaconda3/lib/python3.7/site-packages/scipy/stats/stats.py:1713: FutureWarning: Using a non-tuple sequence for multidimensional indexing is deprecated; use `arr[tuple(seq)]` instead of `arr[seq]`. In the future this will be interpreted as an array index, `arr[np.array(seq)]`, which will result either in an error or a different result.\n",
      "  return np.add.reduce(sorted[indexer] * weights, axis=axis) / sumval\n"
     ]
    },
    {
     "data": {
      "image/png": "[encoded data removed]",
      "text/plain": [
       "<Figure size 864x432 with 1 Axes>"
      ]
     },
     "metadata": {
      "needs_background": "light"
     },
     "output_type": "display_data"
    }
   ],
   "source": [
    "import seaborn as sns\n",
    "from matplotlib import rcParams\n",
    "\n",
    "#To plot figs on jupyter\n",
    "%matplotlib inline\n",
    "rcParams['figure.figsize'] = 8,6\n",
    "\n",
    "plt.figure(figsize=(12,6))\n",
    "\n",
    "plt.subplot(121)\n",
    "g = sns.distplot(AAPL_hist[\"volume\"])\n",
    "g.set_xlabel(\"\", fontsize=12)\n",
    "g.set_ylabel(\"\", fontsize=12)\n",
    "g.set_title(\"Distribuition\", fontsize=20)\n",
    "\n",
    "plt.show()"
   ]
  },
  {
   "cell_type": "markdown",
   "metadata": {},
   "source": [
    "AAPL stock price and volume evolution"
   ]
  },
  {
   "cell_type": "code",
   "execution_count": 199,
   "metadata": {
    "scrolled": false
   },
   "outputs": [
    {
     "data": {
      "text/plain": [
       "[None,\n",
       " None,\n",
       " None,\n",
       " None,\n",
       " None,\n",
       " None,\n",
       " None,\n",
       " None,\n",
       " None,\n",
       " None,\n",
       " None,\n",
       " None,\n",
       " None,\n",
       " None]"
      ]
     },
     "execution_count": 199,
     "metadata": {},
     "output_type": "execute_result"
    },
    {
     "data": {
      "image/png": "[encoded data removed]",
      "text/plain": [
       "<Figure size 720x576 with 2 Axes>"
      ]
     },
     "metadata": {
      "needs_background": "light"
     },
     "output_type": "display_data"
    }
   ],
   "source": [
    "plt.figure(figsize=[10,8])\n",
    "ax1 = plt.subplot(211)\n",
    "plt.plot(AAPL_hist.close)\n",
    "plt.setp(ax1.get_xticklabels(), fontsize=6)\n",
    "ax2 = plt.subplot(212)\n",
    "plt.plot(AAPL_hist.volume)\n",
    "plt.setp(ax2.get_xticklabels(), fontsize=6)"
   ]
  },
  {
   "cell_type": "markdown",
   "metadata": {},
   "source": [
    "### In this part we will look for anomalies in both volume and price"
   ]
  },
  {
   "cell_type": "markdown",
   "metadata": {},
   "source": [
    "##### Support Vector Machine-Based Anomaly Detection"
   ]
  },
  {
   "cell_type": "code",
   "execution_count": 200,
   "metadata": {},
   "outputs": [
    {
     "name": "stderr",
     "output_type": "stream",
     "text": [
      "/Users/xinpeiwang/anaconda3/lib/python3.7/site-packages/sklearn/preprocessing/data.py:625: DataConversionWarning: Data with input dtype int64, float64 were all converted to float64 by StandardScaler.\n",
      "  return self.partial_fit(X, y)\n",
      "/Users/xinpeiwang/anaconda3/lib/python3.7/site-packages/sklearn/base.py:462: DataConversionWarning: Data with input dtype int64, float64 were all converted to float64 by StandardScaler.\n",
      "  return self.fit(X, **fit_params).transform(X)\n"
     ]
    },
    {
     "data": {
      "image/png": "[encoded data removed]",
      "text/plain": [
       "<Figure size 864x576 with 2 Axes>"
      ]
     },
     "metadata": {
      "needs_background": "light"
     },
     "output_type": "display_data"
    }
   ],
   "source": [
    "from sklearn.preprocessing import StandardScaler\n",
    "from sklearn.svm import OneClassSVM\n",
    "\n",
    "data = AAPL_hist[['close', 'volume']]\n",
    "scaler = StandardScaler()\n",
    "np_scaled = scaler.fit_transform(data)\n",
    "data = pd.DataFrame(np_scaled)\n",
    "# train oneclassSVM \n",
    "outliers_fraction =0.09\n",
    "model = OneClassSVM(nu=outliers_fraction, kernel=\"rbf\", gamma=0.01)\n",
    "model.fit(data)\n",
    "AAPL_hist['anomaly'] = pd.Series(model.predict(data),index=AAPL_hist.index)\n",
    "\n",
    "fig, ax = plt.subplots(figsize=(12,8))\n",
    "a = AAPL_hist.loc[AAPL_hist['anomaly'] == -1, ['close','volume']] #anomaly\n",
    "ax = plt.subplot(212)\n",
    "ax.plot( AAPL_hist['volume'], color='blue')\n",
    "ax.scatter(a.index,a['volume'], color='red')\n",
    "ax1 = plt.subplot(211)\n",
    "ax1.plot( AAPL_hist['close'], color='blue')\n",
    "ax1.scatter(a.index,a['close'], color='red')\n",
    "plt.show();"
   ]
  },
  {
   "cell_type": "code",
   "execution_count": 201,
   "metadata": {},
   "outputs": [
    {
     "data": {
      "text/html": [
       "<style  type=\"text/css\" >\n",
       "    #T_25660cf8_5c1e_11e9_842e_acde48001122row0_col0 {\n",
       "            background-color:  #e5ffe5;\n",
       "        }    #T_25660cf8_5c1e_11e9_842e_acde48001122row0_col1 {\n",
       "            background-color:  #e5ffe5;\n",
       "        }    #T_25660cf8_5c1e_11e9_842e_acde48001122row0_col2 {\n",
       "            background-color:  #e5ffe5;\n",
       "        }    #T_25660cf8_5c1e_11e9_842e_acde48001122row0_col3 {\n",
       "            background-color:  #e5ffe5;\n",
       "        }    #T_25660cf8_5c1e_11e9_842e_acde48001122row0_col4 {\n",
       "            background-color:  #e5ffe5;\n",
       "        }    #T_25660cf8_5c1e_11e9_842e_acde48001122row0_col5 {\n",
       "            background-color:  #e5ffe5;\n",
       "        }    #T_25660cf8_5c1e_11e9_842e_acde48001122row0_col6 {\n",
       "            background-color:  #e5ffe5;\n",
       "        }    #T_25660cf8_5c1e_11e9_842e_acde48001122row0_col7 {\n",
       "            background-color:  #e5ffe5;\n",
       "        }    #T_25660cf8_5c1e_11e9_842e_acde48001122row0_col8 {\n",
       "            background-color:  #e5ffe5;\n",
       "        }    #T_25660cf8_5c1e_11e9_842e_acde48001122row0_col9 {\n",
       "            background-color:  #e5ffe5;\n",
       "        }    #T_25660cf8_5c1e_11e9_842e_acde48001122row0_col10 {\n",
       "            background-color:  #e5ffe5;\n",
       "        }    #T_25660cf8_5c1e_11e9_842e_acde48001122row0_col11 {\n",
       "            background-color:  #e5ffe5;\n",
       "        }    #T_25660cf8_5c1e_11e9_842e_acde48001122row0_col12 {\n",
       "            background-color:  #e5ffe5;\n",
       "        }    #T_25660cf8_5c1e_11e9_842e_acde48001122row0_col13 {\n",
       "            background-color:  #e5ffe5;\n",
       "        }    #T_25660cf8_5c1e_11e9_842e_acde48001122row0_col14 {\n",
       "            background-color:  #008000;\n",
       "        }    #T_25660cf8_5c1e_11e9_842e_acde48001122row0_col15 {\n",
       "            background-color:  #e5ffe5;\n",
       "        }    #T_25660cf8_5c1e_11e9_842e_acde48001122row0_col16 {\n",
       "            background-color:  #e5ffe5;\n",
       "        }    #T_25660cf8_5c1e_11e9_842e_acde48001122row0_col17 {\n",
       "            background-color:  #e5ffe5;\n",
       "        }    #T_25660cf8_5c1e_11e9_842e_acde48001122row0_col18 {\n",
       "            background-color:  #e5ffe5;\n",
       "        }    #T_25660cf8_5c1e_11e9_842e_acde48001122row0_col19 {\n",
       "            background-color:  #e5ffe5;\n",
       "        }    #T_25660cf8_5c1e_11e9_842e_acde48001122row1_col0 {\n",
       "            background-color:  #e5ffe5;\n",
       "        }    #T_25660cf8_5c1e_11e9_842e_acde48001122row1_col1 {\n",
       "            background-color:  #e5ffe5;\n",
       "        }    #T_25660cf8_5c1e_11e9_842e_acde48001122row1_col2 {\n",
       "            background-color:  #e5ffe5;\n",
       "        }    #T_25660cf8_5c1e_11e9_842e_acde48001122row1_col3 {\n",
       "            background-color:  #e5ffe5;\n",
       "        }    #T_25660cf8_5c1e_11e9_842e_acde48001122row1_col4 {\n",
       "            background-color:  #e5ffe5;\n",
       "        }    #T_25660cf8_5c1e_11e9_842e_acde48001122row1_col5 {\n",
       "            background-color:  #e5ffe5;\n",
       "        }    #T_25660cf8_5c1e_11e9_842e_acde48001122row1_col6 {\n",
       "            background-color:  #e5ffe5;\n",
       "        }    #T_25660cf8_5c1e_11e9_842e_acde48001122row1_col7 {\n",
       "            background-color:  #e5ffe5;\n",
       "        }    #T_25660cf8_5c1e_11e9_842e_acde48001122row1_col8 {\n",
       "            background-color:  #e5ffe5;\n",
       "        }    #T_25660cf8_5c1e_11e9_842e_acde48001122row1_col9 {\n",
       "            background-color:  #e5ffe5;\n",
       "        }    #T_25660cf8_5c1e_11e9_842e_acde48001122row1_col10 {\n",
       "            background-color:  #e5ffe5;\n",
       "        }    #T_25660cf8_5c1e_11e9_842e_acde48001122row1_col11 {\n",
       "            background-color:  #e5ffe5;\n",
       "        }    #T_25660cf8_5c1e_11e9_842e_acde48001122row1_col12 {\n",
       "            background-color:  #e5ffe5;\n",
       "        }    #T_25660cf8_5c1e_11e9_842e_acde48001122row1_col13 {\n",
       "            background-color:  #008000;\n",
       "        }    #T_25660cf8_5c1e_11e9_842e_acde48001122row1_col14 {\n",
       "            background-color:  #e5ffe5;\n",
       "        }    #T_25660cf8_5c1e_11e9_842e_acde48001122row1_col15 {\n",
       "            background-color:  #e5ffe5;\n",
       "        }    #T_25660cf8_5c1e_11e9_842e_acde48001122row1_col16 {\n",
       "            background-color:  #e5ffe5;\n",
       "        }    #T_25660cf8_5c1e_11e9_842e_acde48001122row1_col17 {\n",
       "            background-color:  #e5ffe5;\n",
       "        }    #T_25660cf8_5c1e_11e9_842e_acde48001122row1_col18 {\n",
       "            background-color:  #e5ffe5;\n",
       "        }    #T_25660cf8_5c1e_11e9_842e_acde48001122row1_col19 {\n",
       "            background-color:  #e5ffe5;\n",
       "        }    #T_25660cf8_5c1e_11e9_842e_acde48001122row2_col0 {\n",
       "            background-color:  #e5ffe5;\n",
       "        }    #T_25660cf8_5c1e_11e9_842e_acde48001122row2_col1 {\n",
       "            background-color:  #e5ffe5;\n",
       "        }    #T_25660cf8_5c1e_11e9_842e_acde48001122row2_col2 {\n",
       "            background-color:  #e5ffe5;\n",
       "        }    #T_25660cf8_5c1e_11e9_842e_acde48001122row2_col3 {\n",
       "            background-color:  #e5ffe5;\n",
       "        }    #T_25660cf8_5c1e_11e9_842e_acde48001122row2_col4 {\n",
       "            background-color:  #e5ffe5;\n",
       "        }    #T_25660cf8_5c1e_11e9_842e_acde48001122row2_col5 {\n",
       "            background-color:  #e5ffe5;\n",
       "        }    #T_25660cf8_5c1e_11e9_842e_acde48001122row2_col6 {\n",
       "            background-color:  #008000;\n",
       "        }    #T_25660cf8_5c1e_11e9_842e_acde48001122row2_col7 {\n",
       "            background-color:  #e5ffe5;\n",
       "        }    #T_25660cf8_5c1e_11e9_842e_acde48001122row2_col8 {\n",
       "            background-color:  #e5ffe5;\n",
       "        }    #T_25660cf8_5c1e_11e9_842e_acde48001122row2_col9 {\n",
       "            background-color:  #e5ffe5;\n",
       "        }    #T_25660cf8_5c1e_11e9_842e_acde48001122row2_col10 {\n",
       "            background-color:  #e5ffe5;\n",
       "        }    #T_25660cf8_5c1e_11e9_842e_acde48001122row2_col11 {\n",
       "            background-color:  #e5ffe5;\n",
       "        }    #T_25660cf8_5c1e_11e9_842e_acde48001122row2_col12 {\n",
       "            background-color:  #e5ffe5;\n",
       "        }    #T_25660cf8_5c1e_11e9_842e_acde48001122row2_col13 {\n",
       "            background-color:  #e5ffe5;\n",
       "        }    #T_25660cf8_5c1e_11e9_842e_acde48001122row2_col14 {\n",
       "            background-color:  #e5ffe5;\n",
       "        }    #T_25660cf8_5c1e_11e9_842e_acde48001122row2_col15 {\n",
       "            background-color:  #e5ffe5;\n",
       "        }    #T_25660cf8_5c1e_11e9_842e_acde48001122row2_col16 {\n",
       "            background-color:  #e5ffe5;\n",
       "        }    #T_25660cf8_5c1e_11e9_842e_acde48001122row2_col17 {\n",
       "            background-color:  #e5ffe5;\n",
       "        }    #T_25660cf8_5c1e_11e9_842e_acde48001122row2_col18 {\n",
       "            background-color:  #e5ffe5;\n",
       "        }    #T_25660cf8_5c1e_11e9_842e_acde48001122row2_col19 {\n",
       "            background-color:  #e5ffe5;\n",
       "        }    #T_25660cf8_5c1e_11e9_842e_acde48001122row3_col0 {\n",
       "            background-color:  #e5ffe5;\n",
       "        }    #T_25660cf8_5c1e_11e9_842e_acde48001122row3_col1 {\n",
       "            background-color:  #e5ffe5;\n",
       "        }    #T_25660cf8_5c1e_11e9_842e_acde48001122row3_col2 {\n",
       "            background-color:  #e5ffe5;\n",
       "        }    #T_25660cf8_5c1e_11e9_842e_acde48001122row3_col3 {\n",
       "            background-color:  #e5ffe5;\n",
       "        }    #T_25660cf8_5c1e_11e9_842e_acde48001122row3_col4 {\n",
       "            background-color:  #e5ffe5;\n",
       "        }    #T_25660cf8_5c1e_11e9_842e_acde48001122row3_col5 {\n",
       "            background-color:  #e5ffe5;\n",
       "        }    #T_25660cf8_5c1e_11e9_842e_acde48001122row3_col6 {\n",
       "            background-color:  #e5ffe5;\n",
       "        }    #T_25660cf8_5c1e_11e9_842e_acde48001122row3_col7 {\n",
       "            background-color:  #e5ffe5;\n",
       "        }    #T_25660cf8_5c1e_11e9_842e_acde48001122row3_col8 {\n",
       "            background-color:  #e5ffe5;\n",
       "        }    #T_25660cf8_5c1e_11e9_842e_acde48001122row3_col9 {\n",
       "            background-color:  #e5ffe5;\n",
       "        }    #T_25660cf8_5c1e_11e9_842e_acde48001122row3_col10 {\n",
       "            background-color:  #e5ffe5;\n",
       "        }    #T_25660cf8_5c1e_11e9_842e_acde48001122row3_col11 {\n",
       "            background-color:  #e5ffe5;\n",
       "        }    #T_25660cf8_5c1e_11e9_842e_acde48001122row3_col12 {\n",
       "            background-color:  #e5ffe5;\n",
       "        }    #T_25660cf8_5c1e_11e9_842e_acde48001122row3_col13 {\n",
       "            background-color:  #e5ffe5;\n",
       "        }    #T_25660cf8_5c1e_11e9_842e_acde48001122row3_col14 {\n",
       "            background-color:  #e5ffe5;\n",
       "        }    #T_25660cf8_5c1e_11e9_842e_acde48001122row3_col15 {\n",
       "            background-color:  #008000;\n",
       "        }    #T_25660cf8_5c1e_11e9_842e_acde48001122row3_col16 {\n",
       "            background-color:  #e5ffe5;\n",
       "        }    #T_25660cf8_5c1e_11e9_842e_acde48001122row3_col17 {\n",
       "            background-color:  #e5ffe5;\n",
       "        }    #T_25660cf8_5c1e_11e9_842e_acde48001122row3_col18 {\n",
       "            background-color:  #e5ffe5;\n",
       "        }    #T_25660cf8_5c1e_11e9_842e_acde48001122row3_col19 {\n",
       "            background-color:  #e5ffe5;\n",
       "        }    #T_25660cf8_5c1e_11e9_842e_acde48001122row4_col0 {\n",
       "            background-color:  #e5ffe5;\n",
       "        }    #T_25660cf8_5c1e_11e9_842e_acde48001122row4_col1 {\n",
       "            background-color:  #e5ffe5;\n",
       "        }    #T_25660cf8_5c1e_11e9_842e_acde48001122row4_col2 {\n",
       "            background-color:  #e5ffe5;\n",
       "        }    #T_25660cf8_5c1e_11e9_842e_acde48001122row4_col3 {\n",
       "            background-color:  #e5ffe5;\n",
       "        }    #T_25660cf8_5c1e_11e9_842e_acde48001122row4_col4 {\n",
       "            background-color:  #e5ffe5;\n",
       "        }    #T_25660cf8_5c1e_11e9_842e_acde48001122row4_col5 {\n",
       "            background-color:  #e5ffe5;\n",
       "        }    #T_25660cf8_5c1e_11e9_842e_acde48001122row4_col6 {\n",
       "            background-color:  #e5ffe5;\n",
       "        }    #T_25660cf8_5c1e_11e9_842e_acde48001122row4_col7 {\n",
       "            background-color:  #e5ffe5;\n",
       "        }    #T_25660cf8_5c1e_11e9_842e_acde48001122row4_col8 {\n",
       "            background-color:  #e5ffe5;\n",
       "        }    #T_25660cf8_5c1e_11e9_842e_acde48001122row4_col9 {\n",
       "            background-color:  #008000;\n",
       "        }    #T_25660cf8_5c1e_11e9_842e_acde48001122row4_col10 {\n",
       "            background-color:  #e5ffe5;\n",
       "        }    #T_25660cf8_5c1e_11e9_842e_acde48001122row4_col11 {\n",
       "            background-color:  #e5ffe5;\n",
       "        }    #T_25660cf8_5c1e_11e9_842e_acde48001122row4_col12 {\n",
       "            background-color:  #e5ffe5;\n",
       "        }    #T_25660cf8_5c1e_11e9_842e_acde48001122row4_col13 {\n",
       "            background-color:  #e5ffe5;\n",
       "        }    #T_25660cf8_5c1e_11e9_842e_acde48001122row4_col14 {\n",
       "            background-color:  #e5ffe5;\n",
       "        }    #T_25660cf8_5c1e_11e9_842e_acde48001122row4_col15 {\n",
       "            background-color:  #e5ffe5;\n",
       "        }    #T_25660cf8_5c1e_11e9_842e_acde48001122row4_col16 {\n",
       "            background-color:  #e5ffe5;\n",
       "        }    #T_25660cf8_5c1e_11e9_842e_acde48001122row4_col17 {\n",
       "            background-color:  #e5ffe5;\n",
       "        }    #T_25660cf8_5c1e_11e9_842e_acde48001122row4_col18 {\n",
       "            background-color:  #e5ffe5;\n",
       "        }    #T_25660cf8_5c1e_11e9_842e_acde48001122row4_col19 {\n",
       "            background-color:  #e5ffe5;\n",
       "        }    #T_25660cf8_5c1e_11e9_842e_acde48001122row5_col0 {\n",
       "            background-color:  #e5ffe5;\n",
       "        }    #T_25660cf8_5c1e_11e9_842e_acde48001122row5_col1 {\n",
       "            background-color:  #e5ffe5;\n",
       "        }    #T_25660cf8_5c1e_11e9_842e_acde48001122row5_col2 {\n",
       "            background-color:  #e5ffe5;\n",
       "        }    #T_25660cf8_5c1e_11e9_842e_acde48001122row5_col3 {\n",
       "            background-color:  #e5ffe5;\n",
       "        }    #T_25660cf8_5c1e_11e9_842e_acde48001122row5_col4 {\n",
       "            background-color:  #e5ffe5;\n",
       "        }    #T_25660cf8_5c1e_11e9_842e_acde48001122row5_col5 {\n",
       "            background-color:  #e5ffe5;\n",
       "        }    #T_25660cf8_5c1e_11e9_842e_acde48001122row5_col6 {\n",
       "            background-color:  #e5ffe5;\n",
       "        }    #T_25660cf8_5c1e_11e9_842e_acde48001122row5_col7 {\n",
       "            background-color:  #e5ffe5;\n",
       "        }    #T_25660cf8_5c1e_11e9_842e_acde48001122row5_col8 {\n",
       "            background-color:  #008000;\n",
       "        }    #T_25660cf8_5c1e_11e9_842e_acde48001122row5_col9 {\n",
       "            background-color:  #e5ffe5;\n",
       "        }    #T_25660cf8_5c1e_11e9_842e_acde48001122row5_col10 {\n",
       "            background-color:  #e5ffe5;\n",
       "        }    #T_25660cf8_5c1e_11e9_842e_acde48001122row5_col11 {\n",
       "            background-color:  #e5ffe5;\n",
       "        }    #T_25660cf8_5c1e_11e9_842e_acde48001122row5_col12 {\n",
       "            background-color:  #e5ffe5;\n",
       "        }    #T_25660cf8_5c1e_11e9_842e_acde48001122row5_col13 {\n",
       "            background-color:  #e5ffe5;\n",
       "        }    #T_25660cf8_5c1e_11e9_842e_acde48001122row5_col14 {\n",
       "            background-color:  #e5ffe5;\n",
       "        }    #T_25660cf8_5c1e_11e9_842e_acde48001122row5_col15 {\n",
       "            background-color:  #e5ffe5;\n",
       "        }    #T_25660cf8_5c1e_11e9_842e_acde48001122row5_col16 {\n",
       "            background-color:  #e5ffe5;\n",
       "        }    #T_25660cf8_5c1e_11e9_842e_acde48001122row5_col17 {\n",
       "            background-color:  #e5ffe5;\n",
       "        }    #T_25660cf8_5c1e_11e9_842e_acde48001122row5_col18 {\n",
       "            background-color:  #e5ffe5;\n",
       "        }    #T_25660cf8_5c1e_11e9_842e_acde48001122row5_col19 {\n",
       "            background-color:  #e5ffe5;\n",
       "        }    #T_25660cf8_5c1e_11e9_842e_acde48001122row6_col0 {\n",
       "            background-color:  #e5ffe5;\n",
       "        }    #T_25660cf8_5c1e_11e9_842e_acde48001122row6_col1 {\n",
       "            background-color:  #e5ffe5;\n",
       "        }    #T_25660cf8_5c1e_11e9_842e_acde48001122row6_col2 {\n",
       "            background-color:  #e5ffe5;\n",
       "        }    #T_25660cf8_5c1e_11e9_842e_acde48001122row6_col3 {\n",
       "            background-color:  #e5ffe5;\n",
       "        }    #T_25660cf8_5c1e_11e9_842e_acde48001122row6_col4 {\n",
       "            background-color:  #e5ffe5;\n",
       "        }    #T_25660cf8_5c1e_11e9_842e_acde48001122row6_col5 {\n",
       "            background-color:  #e5ffe5;\n",
       "        }    #T_25660cf8_5c1e_11e9_842e_acde48001122row6_col6 {\n",
       "            background-color:  #e5ffe5;\n",
       "        }    #T_25660cf8_5c1e_11e9_842e_acde48001122row6_col7 {\n",
       "            background-color:  #e5ffe5;\n",
       "        }    #T_25660cf8_5c1e_11e9_842e_acde48001122row6_col8 {\n",
       "            background-color:  #e5ffe5;\n",
       "        }    #T_25660cf8_5c1e_11e9_842e_acde48001122row6_col9 {\n",
       "            background-color:  #e5ffe5;\n",
       "        }    #T_25660cf8_5c1e_11e9_842e_acde48001122row6_col10 {\n",
       "            background-color:  #e5ffe5;\n",
       "        }    #T_25660cf8_5c1e_11e9_842e_acde48001122row6_col11 {\n",
       "            background-color:  #e5ffe5;\n",
       "        }    #T_25660cf8_5c1e_11e9_842e_acde48001122row6_col12 {\n",
       "            background-color:  #008000;\n",
       "        }    #T_25660cf8_5c1e_11e9_842e_acde48001122row6_col13 {\n",
       "            background-color:  #e5ffe5;\n",
       "        }    #T_25660cf8_5c1e_11e9_842e_acde48001122row6_col14 {\n",
       "            background-color:  #e5ffe5;\n",
       "        }    #T_25660cf8_5c1e_11e9_842e_acde48001122row6_col15 {\n",
       "            background-color:  #e5ffe5;\n",
       "        }    #T_25660cf8_5c1e_11e9_842e_acde48001122row6_col16 {\n",
       "            background-color:  #e5ffe5;\n",
       "        }    #T_25660cf8_5c1e_11e9_842e_acde48001122row6_col17 {\n",
       "            background-color:  #e5ffe5;\n",
       "        }    #T_25660cf8_5c1e_11e9_842e_acde48001122row6_col18 {\n",
       "            background-color:  #e5ffe5;\n",
       "        }    #T_25660cf8_5c1e_11e9_842e_acde48001122row6_col19 {\n",
       "            background-color:  #e5ffe5;\n",
       "        }    #T_25660cf8_5c1e_11e9_842e_acde48001122row7_col0 {\n",
       "            background-color:  #e5ffe5;\n",
       "        }    #T_25660cf8_5c1e_11e9_842e_acde48001122row7_col1 {\n",
       "            background-color:  #e5ffe5;\n",
       "        }    #T_25660cf8_5c1e_11e9_842e_acde48001122row7_col2 {\n",
       "            background-color:  #e5ffe5;\n",
       "        }    #T_25660cf8_5c1e_11e9_842e_acde48001122row7_col3 {\n",
       "            background-color:  #e5ffe5;\n",
       "        }    #T_25660cf8_5c1e_11e9_842e_acde48001122row7_col4 {\n",
       "            background-color:  #e5ffe5;\n",
       "        }    #T_25660cf8_5c1e_11e9_842e_acde48001122row7_col5 {\n",
       "            background-color:  #e5ffe5;\n",
       "        }    #T_25660cf8_5c1e_11e9_842e_acde48001122row7_col6 {\n",
       "            background-color:  #e5ffe5;\n",
       "        }    #T_25660cf8_5c1e_11e9_842e_acde48001122row7_col7 {\n",
       "            background-color:  #e5ffe5;\n",
       "        }    #T_25660cf8_5c1e_11e9_842e_acde48001122row7_col8 {\n",
       "            background-color:  #e5ffe5;\n",
       "        }    #T_25660cf8_5c1e_11e9_842e_acde48001122row7_col9 {\n",
       "            background-color:  #e5ffe5;\n",
       "        }    #T_25660cf8_5c1e_11e9_842e_acde48001122row7_col10 {\n",
       "            background-color:  #e5ffe5;\n",
       "        }    #T_25660cf8_5c1e_11e9_842e_acde48001122row7_col11 {\n",
       "            background-color:  #008000;\n",
       "        }    #T_25660cf8_5c1e_11e9_842e_acde48001122row7_col12 {\n",
       "            background-color:  #e5ffe5;\n",
       "        }    #T_25660cf8_5c1e_11e9_842e_acde48001122row7_col13 {\n",
       "            background-color:  #e5ffe5;\n",
       "        }    #T_25660cf8_5c1e_11e9_842e_acde48001122row7_col14 {\n",
       "            background-color:  #e5ffe5;\n",
       "        }    #T_25660cf8_5c1e_11e9_842e_acde48001122row7_col15 {\n",
       "            background-color:  #e5ffe5;\n",
       "        }    #T_25660cf8_5c1e_11e9_842e_acde48001122row7_col16 {\n",
       "            background-color:  #e5ffe5;\n",
       "        }    #T_25660cf8_5c1e_11e9_842e_acde48001122row7_col17 {\n",
       "            background-color:  #e5ffe5;\n",
       "        }    #T_25660cf8_5c1e_11e9_842e_acde48001122row7_col18 {\n",
       "            background-color:  #e5ffe5;\n",
       "        }    #T_25660cf8_5c1e_11e9_842e_acde48001122row7_col19 {\n",
       "            background-color:  #e5ffe5;\n",
       "        }    #T_25660cf8_5c1e_11e9_842e_acde48001122row8_col0 {\n",
       "            background-color:  #e5ffe5;\n",
       "        }    #T_25660cf8_5c1e_11e9_842e_acde48001122row8_col1 {\n",
       "            background-color:  #e5ffe5;\n",
       "        }    #T_25660cf8_5c1e_11e9_842e_acde48001122row8_col2 {\n",
       "            background-color:  #e5ffe5;\n",
       "        }    #T_25660cf8_5c1e_11e9_842e_acde48001122row8_col3 {\n",
       "            background-color:  #008000;\n",
       "        }    #T_25660cf8_5c1e_11e9_842e_acde48001122row8_col4 {\n",
       "            background-color:  #e5ffe5;\n",
       "        }    #T_25660cf8_5c1e_11e9_842e_acde48001122row8_col5 {\n",
       "            background-color:  #e5ffe5;\n",
       "        }    #T_25660cf8_5c1e_11e9_842e_acde48001122row8_col6 {\n",
       "            background-color:  #e5ffe5;\n",
       "        }    #T_25660cf8_5c1e_11e9_842e_acde48001122row8_col7 {\n",
       "            background-color:  #e5ffe5;\n",
       "        }    #T_25660cf8_5c1e_11e9_842e_acde48001122row8_col8 {\n",
       "            background-color:  #e5ffe5;\n",
       "        }    #T_25660cf8_5c1e_11e9_842e_acde48001122row8_col9 {\n",
       "            background-color:  #e5ffe5;\n",
       "        }    #T_25660cf8_5c1e_11e9_842e_acde48001122row8_col10 {\n",
       "            background-color:  #e5ffe5;\n",
       "        }    #T_25660cf8_5c1e_11e9_842e_acde48001122row8_col11 {\n",
       "            background-color:  #e5ffe5;\n",
       "        }    #T_25660cf8_5c1e_11e9_842e_acde48001122row8_col12 {\n",
       "            background-color:  #e5ffe5;\n",
       "        }    #T_25660cf8_5c1e_11e9_842e_acde48001122row8_col13 {\n",
       "            background-color:  #e5ffe5;\n",
       "        }    #T_25660cf8_5c1e_11e9_842e_acde48001122row8_col14 {\n",
       "            background-color:  #e5ffe5;\n",
       "        }    #T_25660cf8_5c1e_11e9_842e_acde48001122row8_col15 {\n",
       "            background-color:  #e5ffe5;\n",
       "        }    #T_25660cf8_5c1e_11e9_842e_acde48001122row8_col16 {\n",
       "            background-color:  #e5ffe5;\n",
       "        }    #T_25660cf8_5c1e_11e9_842e_acde48001122row8_col17 {\n",
       "            background-color:  #e5ffe5;\n",
       "        }    #T_25660cf8_5c1e_11e9_842e_acde48001122row8_col18 {\n",
       "            background-color:  #e5ffe5;\n",
       "        }    #T_25660cf8_5c1e_11e9_842e_acde48001122row8_col19 {\n",
       "            background-color:  #e5ffe5;\n",
       "        }    #T_25660cf8_5c1e_11e9_842e_acde48001122row9_col0 {\n",
       "            background-color:  #e5ffe5;\n",
       "        }    #T_25660cf8_5c1e_11e9_842e_acde48001122row9_col1 {\n",
       "            background-color:  #e5ffe5;\n",
       "        }    #T_25660cf8_5c1e_11e9_842e_acde48001122row9_col2 {\n",
       "            background-color:  #e5ffe5;\n",
       "        }    #T_25660cf8_5c1e_11e9_842e_acde48001122row9_col3 {\n",
       "            background-color:  #e5ffe5;\n",
       "        }    #T_25660cf8_5c1e_11e9_842e_acde48001122row9_col4 {\n",
       "            background-color:  #e5ffe5;\n",
       "        }    #T_25660cf8_5c1e_11e9_842e_acde48001122row9_col5 {\n",
       "            background-color:  #e5ffe5;\n",
       "        }    #T_25660cf8_5c1e_11e9_842e_acde48001122row9_col6 {\n",
       "            background-color:  #e5ffe5;\n",
       "        }    #T_25660cf8_5c1e_11e9_842e_acde48001122row9_col7 {\n",
       "            background-color:  #e5ffe5;\n",
       "        }    #T_25660cf8_5c1e_11e9_842e_acde48001122row9_col8 {\n",
       "            background-color:  #e5ffe5;\n",
       "        }    #T_25660cf8_5c1e_11e9_842e_acde48001122row9_col9 {\n",
       "            background-color:  #e5ffe5;\n",
       "        }    #T_25660cf8_5c1e_11e9_842e_acde48001122row9_col10 {\n",
       "            background-color:  #e5ffe5;\n",
       "        }    #T_25660cf8_5c1e_11e9_842e_acde48001122row9_col11 {\n",
       "            background-color:  #e5ffe5;\n",
       "        }    #T_25660cf8_5c1e_11e9_842e_acde48001122row9_col12 {\n",
       "            background-color:  #e5ffe5;\n",
       "        }    #T_25660cf8_5c1e_11e9_842e_acde48001122row9_col13 {\n",
       "            background-color:  #e5ffe5;\n",
       "        }    #T_25660cf8_5c1e_11e9_842e_acde48001122row9_col14 {\n",
       "            background-color:  #e5ffe5;\n",
       "        }    #T_25660cf8_5c1e_11e9_842e_acde48001122row9_col15 {\n",
       "            background-color:  #e5ffe5;\n",
       "        }    #T_25660cf8_5c1e_11e9_842e_acde48001122row9_col16 {\n",
       "            background-color:  #e5ffe5;\n",
       "        }    #T_25660cf8_5c1e_11e9_842e_acde48001122row9_col17 {\n",
       "            background-color:  #008000;\n",
       "        }    #T_25660cf8_5c1e_11e9_842e_acde48001122row9_col18 {\n",
       "            background-color:  #e5ffe5;\n",
       "        }    #T_25660cf8_5c1e_11e9_842e_acde48001122row9_col19 {\n",
       "            background-color:  #e5ffe5;\n",
       "        }    #T_25660cf8_5c1e_11e9_842e_acde48001122row10_col0 {\n",
       "            background-color:  #e5ffe5;\n",
       "        }    #T_25660cf8_5c1e_11e9_842e_acde48001122row10_col1 {\n",
       "            background-color:  #e5ffe5;\n",
       "        }    #T_25660cf8_5c1e_11e9_842e_acde48001122row10_col2 {\n",
       "            background-color:  #e5ffe5;\n",
       "        }    #T_25660cf8_5c1e_11e9_842e_acde48001122row10_col3 {\n",
       "            background-color:  #e5ffe5;\n",
       "        }    #T_25660cf8_5c1e_11e9_842e_acde48001122row10_col4 {\n",
       "            background-color:  #e5ffe5;\n",
       "        }    #T_25660cf8_5c1e_11e9_842e_acde48001122row10_col5 {\n",
       "            background-color:  #008000;\n",
       "        }    #T_25660cf8_5c1e_11e9_842e_acde48001122row10_col6 {\n",
       "            background-color:  #e5ffe5;\n",
       "        }    #T_25660cf8_5c1e_11e9_842e_acde48001122row10_col7 {\n",
       "            background-color:  #e5ffe5;\n",
       "        }    #T_25660cf8_5c1e_11e9_842e_acde48001122row10_col8 {\n",
       "            background-color:  #e5ffe5;\n",
       "        }    #T_25660cf8_5c1e_11e9_842e_acde48001122row10_col9 {\n",
       "            background-color:  #e5ffe5;\n",
       "        }    #T_25660cf8_5c1e_11e9_842e_acde48001122row10_col10 {\n",
       "            background-color:  #e5ffe5;\n",
       "        }    #T_25660cf8_5c1e_11e9_842e_acde48001122row10_col11 {\n",
       "            background-color:  #e5ffe5;\n",
       "        }    #T_25660cf8_5c1e_11e9_842e_acde48001122row10_col12 {\n",
       "            background-color:  #e5ffe5;\n",
       "        }    #T_25660cf8_5c1e_11e9_842e_acde48001122row10_col13 {\n",
       "            background-color:  #e5ffe5;\n",
       "        }    #T_25660cf8_5c1e_11e9_842e_acde48001122row10_col14 {\n",
       "            background-color:  #e5ffe5;\n",
       "        }    #T_25660cf8_5c1e_11e9_842e_acde48001122row10_col15 {\n",
       "            background-color:  #e5ffe5;\n",
       "        }    #T_25660cf8_5c1e_11e9_842e_acde48001122row10_col16 {\n",
       "            background-color:  #e5ffe5;\n",
       "        }    #T_25660cf8_5c1e_11e9_842e_acde48001122row10_col17 {\n",
       "            background-color:  #e5ffe5;\n",
       "        }    #T_25660cf8_5c1e_11e9_842e_acde48001122row10_col18 {\n",
       "            background-color:  #e5ffe5;\n",
       "        }    #T_25660cf8_5c1e_11e9_842e_acde48001122row10_col19 {\n",
       "            background-color:  #e5ffe5;\n",
       "        }    #T_25660cf8_5c1e_11e9_842e_acde48001122row11_col0 {\n",
       "            background-color:  #e5ffe5;\n",
       "        }    #T_25660cf8_5c1e_11e9_842e_acde48001122row11_col1 {\n",
       "            background-color:  #e5ffe5;\n",
       "        }    #T_25660cf8_5c1e_11e9_842e_acde48001122row11_col2 {\n",
       "            background-color:  #e5ffe5;\n",
       "        }    #T_25660cf8_5c1e_11e9_842e_acde48001122row11_col3 {\n",
       "            background-color:  #e5ffe5;\n",
       "        }    #T_25660cf8_5c1e_11e9_842e_acde48001122row11_col4 {\n",
       "            background-color:  #e5ffe5;\n",
       "        }    #T_25660cf8_5c1e_11e9_842e_acde48001122row11_col5 {\n",
       "            background-color:  #e5ffe5;\n",
       "        }    #T_25660cf8_5c1e_11e9_842e_acde48001122row11_col6 {\n",
       "            background-color:  #e5ffe5;\n",
       "        }    #T_25660cf8_5c1e_11e9_842e_acde48001122row11_col7 {\n",
       "            background-color:  #e5ffe5;\n",
       "        }    #T_25660cf8_5c1e_11e9_842e_acde48001122row11_col8 {\n",
       "            background-color:  #e5ffe5;\n",
       "        }    #T_25660cf8_5c1e_11e9_842e_acde48001122row11_col9 {\n",
       "            background-color:  #e5ffe5;\n",
       "        }    #T_25660cf8_5c1e_11e9_842e_acde48001122row11_col10 {\n",
       "            background-color:  #e5ffe5;\n",
       "        }    #T_25660cf8_5c1e_11e9_842e_acde48001122row11_col11 {\n",
       "            background-color:  #e5ffe5;\n",
       "        }    #T_25660cf8_5c1e_11e9_842e_acde48001122row11_col12 {\n",
       "            background-color:  #e5ffe5;\n",
       "        }    #T_25660cf8_5c1e_11e9_842e_acde48001122row11_col13 {\n",
       "            background-color:  #e5ffe5;\n",
       "        }    #T_25660cf8_5c1e_11e9_842e_acde48001122row11_col14 {\n",
       "            background-color:  #e5ffe5;\n",
       "        }    #T_25660cf8_5c1e_11e9_842e_acde48001122row11_col15 {\n",
       "            background-color:  #e5ffe5;\n",
       "        }    #T_25660cf8_5c1e_11e9_842e_acde48001122row11_col16 {\n",
       "            background-color:  #008000;\n",
       "        }    #T_25660cf8_5c1e_11e9_842e_acde48001122row11_col17 {\n",
       "            background-color:  #e5ffe5;\n",
       "        }    #T_25660cf8_5c1e_11e9_842e_acde48001122row11_col18 {\n",
       "            background-color:  #e5ffe5;\n",
       "        }    #T_25660cf8_5c1e_11e9_842e_acde48001122row11_col19 {\n",
       "            background-color:  #e5ffe5;\n",
       "        }    #T_25660cf8_5c1e_11e9_842e_acde48001122row12_col0 {\n",
       "            background-color:  #e5ffe5;\n",
       "        }    #T_25660cf8_5c1e_11e9_842e_acde48001122row12_col1 {\n",
       "            background-color:  #e5ffe5;\n",
       "        }    #T_25660cf8_5c1e_11e9_842e_acde48001122row12_col2 {\n",
       "            background-color:  #e5ffe5;\n",
       "        }    #T_25660cf8_5c1e_11e9_842e_acde48001122row12_col3 {\n",
       "            background-color:  #e5ffe5;\n",
       "        }    #T_25660cf8_5c1e_11e9_842e_acde48001122row12_col4 {\n",
       "            background-color:  #e5ffe5;\n",
       "        }    #T_25660cf8_5c1e_11e9_842e_acde48001122row12_col5 {\n",
       "            background-color:  #e5ffe5;\n",
       "        }    #T_25660cf8_5c1e_11e9_842e_acde48001122row12_col6 {\n",
       "            background-color:  #e5ffe5;\n",
       "        }    #T_25660cf8_5c1e_11e9_842e_acde48001122row12_col7 {\n",
       "            background-color:  #e5ffe5;\n",
       "        }    #T_25660cf8_5c1e_11e9_842e_acde48001122row12_col8 {\n",
       "            background-color:  #e5ffe5;\n",
       "        }    #T_25660cf8_5c1e_11e9_842e_acde48001122row12_col9 {\n",
       "            background-color:  #e5ffe5;\n",
       "        }    #T_25660cf8_5c1e_11e9_842e_acde48001122row12_col10 {\n",
       "            background-color:  #008000;\n",
       "        }    #T_25660cf8_5c1e_11e9_842e_acde48001122row12_col11 {\n",
       "            background-color:  #e5ffe5;\n",
       "        }    #T_25660cf8_5c1e_11e9_842e_acde48001122row12_col12 {\n",
       "            background-color:  #e5ffe5;\n",
       "        }    #T_25660cf8_5c1e_11e9_842e_acde48001122row12_col13 {\n",
       "            background-color:  #e5ffe5;\n",
       "        }    #T_25660cf8_5c1e_11e9_842e_acde48001122row12_col14 {\n",
       "            background-color:  #e5ffe5;\n",
       "        }    #T_25660cf8_5c1e_11e9_842e_acde48001122row12_col15 {\n",
       "            background-color:  #e5ffe5;\n",
       "        }    #T_25660cf8_5c1e_11e9_842e_acde48001122row12_col16 {\n",
       "            background-color:  #e5ffe5;\n",
       "        }    #T_25660cf8_5c1e_11e9_842e_acde48001122row12_col17 {\n",
       "            background-color:  #e5ffe5;\n",
       "        }    #T_25660cf8_5c1e_11e9_842e_acde48001122row12_col18 {\n",
       "            background-color:  #e5ffe5;\n",
       "        }    #T_25660cf8_5c1e_11e9_842e_acde48001122row12_col19 {\n",
       "            background-color:  #e5ffe5;\n",
       "        }    #T_25660cf8_5c1e_11e9_842e_acde48001122row13_col0 {\n",
       "            background-color:  #e5ffe5;\n",
       "        }    #T_25660cf8_5c1e_11e9_842e_acde48001122row13_col1 {\n",
       "            background-color:  #e5ffe5;\n",
       "        }    #T_25660cf8_5c1e_11e9_842e_acde48001122row13_col2 {\n",
       "            background-color:  #e5ffe5;\n",
       "        }    #T_25660cf8_5c1e_11e9_842e_acde48001122row13_col3 {\n",
       "            background-color:  #e5ffe5;\n",
       "        }    #T_25660cf8_5c1e_11e9_842e_acde48001122row13_col4 {\n",
       "            background-color:  #e5ffe5;\n",
       "        }    #T_25660cf8_5c1e_11e9_842e_acde48001122row13_col5 {\n",
       "            background-color:  #e5ffe5;\n",
       "        }    #T_25660cf8_5c1e_11e9_842e_acde48001122row13_col6 {\n",
       "            background-color:  #e5ffe5;\n",
       "        }    #T_25660cf8_5c1e_11e9_842e_acde48001122row13_col7 {\n",
       "            background-color:  #e5ffe5;\n",
       "        }    #T_25660cf8_5c1e_11e9_842e_acde48001122row13_col8 {\n",
       "            background-color:  #e5ffe5;\n",
       "        }    #T_25660cf8_5c1e_11e9_842e_acde48001122row13_col9 {\n",
       "            background-color:  #e5ffe5;\n",
       "        }    #T_25660cf8_5c1e_11e9_842e_acde48001122row13_col10 {\n",
       "            background-color:  #e5ffe5;\n",
       "        }    #T_25660cf8_5c1e_11e9_842e_acde48001122row13_col11 {\n",
       "            background-color:  #e5ffe5;\n",
       "        }    #T_25660cf8_5c1e_11e9_842e_acde48001122row13_col12 {\n",
       "            background-color:  #e5ffe5;\n",
       "        }    #T_25660cf8_5c1e_11e9_842e_acde48001122row13_col13 {\n",
       "            background-color:  #e5ffe5;\n",
       "        }    #T_25660cf8_5c1e_11e9_842e_acde48001122row13_col14 {\n",
       "            background-color:  #e5ffe5;\n",
       "        }    #T_25660cf8_5c1e_11e9_842e_acde48001122row13_col15 {\n",
       "            background-color:  #e5ffe5;\n",
       "        }    #T_25660cf8_5c1e_11e9_842e_acde48001122row13_col16 {\n",
       "            background-color:  #e5ffe5;\n",
       "        }    #T_25660cf8_5c1e_11e9_842e_acde48001122row13_col17 {\n",
       "            background-color:  #e5ffe5;\n",
       "        }    #T_25660cf8_5c1e_11e9_842e_acde48001122row13_col18 {\n",
       "            background-color:  #008000;\n",
       "        }    #T_25660cf8_5c1e_11e9_842e_acde48001122row13_col19 {\n",
       "            background-color:  #e5ffe5;\n",
       "        }    #T_25660cf8_5c1e_11e9_842e_acde48001122row14_col0 {\n",
       "            background-color:  #e5ffe5;\n",
       "        }    #T_25660cf8_5c1e_11e9_842e_acde48001122row14_col1 {\n",
       "            background-color:  #e5ffe5;\n",
       "        }    #T_25660cf8_5c1e_11e9_842e_acde48001122row14_col2 {\n",
       "            background-color:  #008000;\n",
       "        }    #T_25660cf8_5c1e_11e9_842e_acde48001122row14_col3 {\n",
       "            background-color:  #e5ffe5;\n",
       "        }    #T_25660cf8_5c1e_11e9_842e_acde48001122row14_col4 {\n",
       "            background-color:  #e5ffe5;\n",
       "        }    #T_25660cf8_5c1e_11e9_842e_acde48001122row14_col5 {\n",
       "            background-color:  #e5ffe5;\n",
       "        }    #T_25660cf8_5c1e_11e9_842e_acde48001122row14_col6 {\n",
       "            background-color:  #e5ffe5;\n",
       "        }    #T_25660cf8_5c1e_11e9_842e_acde48001122row14_col7 {\n",
       "            background-color:  #e5ffe5;\n",
       "        }    #T_25660cf8_5c1e_11e9_842e_acde48001122row14_col8 {\n",
       "            background-color:  #e5ffe5;\n",
       "        }    #T_25660cf8_5c1e_11e9_842e_acde48001122row14_col9 {\n",
       "            background-color:  #e5ffe5;\n",
       "        }    #T_25660cf8_5c1e_11e9_842e_acde48001122row14_col10 {\n",
       "            background-color:  #e5ffe5;\n",
       "        }    #T_25660cf8_5c1e_11e9_842e_acde48001122row14_col11 {\n",
       "            background-color:  #e5ffe5;\n",
       "        }    #T_25660cf8_5c1e_11e9_842e_acde48001122row14_col12 {\n",
       "            background-color:  #e5ffe5;\n",
       "        }    #T_25660cf8_5c1e_11e9_842e_acde48001122row14_col13 {\n",
       "            background-color:  #e5ffe5;\n",
       "        }    #T_25660cf8_5c1e_11e9_842e_acde48001122row14_col14 {\n",
       "            background-color:  #e5ffe5;\n",
       "        }    #T_25660cf8_5c1e_11e9_842e_acde48001122row14_col15 {\n",
       "            background-color:  #e5ffe5;\n",
       "        }    #T_25660cf8_5c1e_11e9_842e_acde48001122row14_col16 {\n",
       "            background-color:  #e5ffe5;\n",
       "        }    #T_25660cf8_5c1e_11e9_842e_acde48001122row14_col17 {\n",
       "            background-color:  #e5ffe5;\n",
       "        }    #T_25660cf8_5c1e_11e9_842e_acde48001122row14_col18 {\n",
       "            background-color:  #e5ffe5;\n",
       "        }    #T_25660cf8_5c1e_11e9_842e_acde48001122row14_col19 {\n",
       "            background-color:  #e5ffe5;\n",
       "        }    #T_25660cf8_5c1e_11e9_842e_acde48001122row15_col0 {\n",
       "            background-color:  #e5ffe5;\n",
       "        }    #T_25660cf8_5c1e_11e9_842e_acde48001122row15_col1 {\n",
       "            background-color:  #e5ffe5;\n",
       "        }    #T_25660cf8_5c1e_11e9_842e_acde48001122row15_col2 {\n",
       "            background-color:  #e5ffe5;\n",
       "        }    #T_25660cf8_5c1e_11e9_842e_acde48001122row15_col3 {\n",
       "            background-color:  #e5ffe5;\n",
       "        }    #T_25660cf8_5c1e_11e9_842e_acde48001122row15_col4 {\n",
       "            background-color:  #e5ffe5;\n",
       "        }    #T_25660cf8_5c1e_11e9_842e_acde48001122row15_col5 {\n",
       "            background-color:  #e5ffe5;\n",
       "        }    #T_25660cf8_5c1e_11e9_842e_acde48001122row15_col6 {\n",
       "            background-color:  #e5ffe5;\n",
       "        }    #T_25660cf8_5c1e_11e9_842e_acde48001122row15_col7 {\n",
       "            background-color:  #e5ffe5;\n",
       "        }    #T_25660cf8_5c1e_11e9_842e_acde48001122row15_col8 {\n",
       "            background-color:  #e5ffe5;\n",
       "        }    #T_25660cf8_5c1e_11e9_842e_acde48001122row15_col9 {\n",
       "            background-color:  #e5ffe5;\n",
       "        }    #T_25660cf8_5c1e_11e9_842e_acde48001122row15_col10 {\n",
       "            background-color:  #e5ffe5;\n",
       "        }    #T_25660cf8_5c1e_11e9_842e_acde48001122row15_col11 {\n",
       "            background-color:  #e5ffe5;\n",
       "        }    #T_25660cf8_5c1e_11e9_842e_acde48001122row15_col12 {\n",
       "            background-color:  #e5ffe5;\n",
       "        }    #T_25660cf8_5c1e_11e9_842e_acde48001122row15_col13 {\n",
       "            background-color:  #e5ffe5;\n",
       "        }    #T_25660cf8_5c1e_11e9_842e_acde48001122row15_col14 {\n",
       "            background-color:  #e5ffe5;\n",
       "        }    #T_25660cf8_5c1e_11e9_842e_acde48001122row15_col15 {\n",
       "            background-color:  #e5ffe5;\n",
       "        }    #T_25660cf8_5c1e_11e9_842e_acde48001122row15_col16 {\n",
       "            background-color:  #e5ffe5;\n",
       "        }    #T_25660cf8_5c1e_11e9_842e_acde48001122row15_col17 {\n",
       "            background-color:  #e5ffe5;\n",
       "        }    #T_25660cf8_5c1e_11e9_842e_acde48001122row15_col18 {\n",
       "            background-color:  #e5ffe5;\n",
       "        }    #T_25660cf8_5c1e_11e9_842e_acde48001122row15_col19 {\n",
       "            background-color:  #008000;\n",
       "        }    #T_25660cf8_5c1e_11e9_842e_acde48001122row16_col0 {\n",
       "            background-color:  #e5ffe5;\n",
       "        }    #T_25660cf8_5c1e_11e9_842e_acde48001122row16_col1 {\n",
       "            background-color:  #e5ffe5;\n",
       "        }    #T_25660cf8_5c1e_11e9_842e_acde48001122row16_col2 {\n",
       "            background-color:  #e5ffe5;\n",
       "        }    #T_25660cf8_5c1e_11e9_842e_acde48001122row16_col3 {\n",
       "            background-color:  #e5ffe5;\n",
       "        }    #T_25660cf8_5c1e_11e9_842e_acde48001122row16_col4 {\n",
       "            background-color:  #008000;\n",
       "        }    #T_25660cf8_5c1e_11e9_842e_acde48001122row16_col5 {\n",
       "            background-color:  #e5ffe5;\n",
       "        }    #T_25660cf8_5c1e_11e9_842e_acde48001122row16_col6 {\n",
       "            background-color:  #e5ffe5;\n",
       "        }    #T_25660cf8_5c1e_11e9_842e_acde48001122row16_col7 {\n",
       "            background-color:  #e5ffe5;\n",
       "        }    #T_25660cf8_5c1e_11e9_842e_acde48001122row16_col8 {\n",
       "            background-color:  #e5ffe5;\n",
       "        }    #T_25660cf8_5c1e_11e9_842e_acde48001122row16_col9 {\n",
       "            background-color:  #e5ffe5;\n",
       "        }    #T_25660cf8_5c1e_11e9_842e_acde48001122row16_col10 {\n",
       "            background-color:  #e5ffe5;\n",
       "        }    #T_25660cf8_5c1e_11e9_842e_acde48001122row16_col11 {\n",
       "            background-color:  #e5ffe5;\n",
       "        }    #T_25660cf8_5c1e_11e9_842e_acde48001122row16_col12 {\n",
       "            background-color:  #e5ffe5;\n",
       "        }    #T_25660cf8_5c1e_11e9_842e_acde48001122row16_col13 {\n",
       "            background-color:  #e5ffe5;\n",
       "        }    #T_25660cf8_5c1e_11e9_842e_acde48001122row16_col14 {\n",
       "            background-color:  #e5ffe5;\n",
       "        }    #T_25660cf8_5c1e_11e9_842e_acde48001122row16_col15 {\n",
       "            background-color:  #e5ffe5;\n",
       "        }    #T_25660cf8_5c1e_11e9_842e_acde48001122row16_col16 {\n",
       "            background-color:  #e5ffe5;\n",
       "        }    #T_25660cf8_5c1e_11e9_842e_acde48001122row16_col17 {\n",
       "            background-color:  #e5ffe5;\n",
       "        }    #T_25660cf8_5c1e_11e9_842e_acde48001122row16_col18 {\n",
       "            background-color:  #e5ffe5;\n",
       "        }    #T_25660cf8_5c1e_11e9_842e_acde48001122row16_col19 {\n",
       "            background-color:  #e5ffe5;\n",
       "        }    #T_25660cf8_5c1e_11e9_842e_acde48001122row17_col0 {\n",
       "            background-color:  #e5ffe5;\n",
       "        }    #T_25660cf8_5c1e_11e9_842e_acde48001122row17_col1 {\n",
       "            background-color:  #008000;\n",
       "        }    #T_25660cf8_5c1e_11e9_842e_acde48001122row17_col2 {\n",
       "            background-color:  #e5ffe5;\n",
       "        }    #T_25660cf8_5c1e_11e9_842e_acde48001122row17_col3 {\n",
       "            background-color:  #e5ffe5;\n",
       "        }    #T_25660cf8_5c1e_11e9_842e_acde48001122row17_col4 {\n",
       "            background-color:  #e5ffe5;\n",
       "        }    #T_25660cf8_5c1e_11e9_842e_acde48001122row17_col5 {\n",
       "            background-color:  #e5ffe5;\n",
       "        }    #T_25660cf8_5c1e_11e9_842e_acde48001122row17_col6 {\n",
       "            background-color:  #e5ffe5;\n",
       "        }    #T_25660cf8_5c1e_11e9_842e_acde48001122row17_col7 {\n",
       "            background-color:  #e5ffe5;\n",
       "        }    #T_25660cf8_5c1e_11e9_842e_acde48001122row17_col8 {\n",
       "            background-color:  #e5ffe5;\n",
       "        }    #T_25660cf8_5c1e_11e9_842e_acde48001122row17_col9 {\n",
       "            background-color:  #e5ffe5;\n",
       "        }    #T_25660cf8_5c1e_11e9_842e_acde48001122row17_col10 {\n",
       "            background-color:  #e5ffe5;\n",
       "        }    #T_25660cf8_5c1e_11e9_842e_acde48001122row17_col11 {\n",
       "            background-color:  #e5ffe5;\n",
       "        }    #T_25660cf8_5c1e_11e9_842e_acde48001122row17_col12 {\n",
       "            background-color:  #e5ffe5;\n",
       "        }    #T_25660cf8_5c1e_11e9_842e_acde48001122row17_col13 {\n",
       "            background-color:  #e5ffe5;\n",
       "        }    #T_25660cf8_5c1e_11e9_842e_acde48001122row17_col14 {\n",
       "            background-color:  #e5ffe5;\n",
       "        }    #T_25660cf8_5c1e_11e9_842e_acde48001122row17_col15 {\n",
       "            background-color:  #e5ffe5;\n",
       "        }    #T_25660cf8_5c1e_11e9_842e_acde48001122row17_col16 {\n",
       "            background-color:  #e5ffe5;\n",
       "        }    #T_25660cf8_5c1e_11e9_842e_acde48001122row17_col17 {\n",
       "            background-color:  #e5ffe5;\n",
       "        }    #T_25660cf8_5c1e_11e9_842e_acde48001122row17_col18 {\n",
       "            background-color:  #e5ffe5;\n",
       "        }    #T_25660cf8_5c1e_11e9_842e_acde48001122row17_col19 {\n",
       "            background-color:  #e5ffe5;\n",
       "        }    #T_25660cf8_5c1e_11e9_842e_acde48001122row18_col0 {\n",
       "            background-color:  #008000;\n",
       "        }    #T_25660cf8_5c1e_11e9_842e_acde48001122row18_col1 {\n",
       "            background-color:  #e5ffe5;\n",
       "        }    #T_25660cf8_5c1e_11e9_842e_acde48001122row18_col2 {\n",
       "            background-color:  #e5ffe5;\n",
       "        }    #T_25660cf8_5c1e_11e9_842e_acde48001122row18_col3 {\n",
       "            background-color:  #e5ffe5;\n",
       "        }    #T_25660cf8_5c1e_11e9_842e_acde48001122row18_col4 {\n",
       "            background-color:  #e5ffe5;\n",
       "        }    #T_25660cf8_5c1e_11e9_842e_acde48001122row18_col5 {\n",
       "            background-color:  #e5ffe5;\n",
       "        }    #T_25660cf8_5c1e_11e9_842e_acde48001122row18_col6 {\n",
       "            background-color:  #e5ffe5;\n",
       "        }    #T_25660cf8_5c1e_11e9_842e_acde48001122row18_col7 {\n",
       "            background-color:  #e5ffe5;\n",
       "        }    #T_25660cf8_5c1e_11e9_842e_acde48001122row18_col8 {\n",
       "            background-color:  #e5ffe5;\n",
       "        }    #T_25660cf8_5c1e_11e9_842e_acde48001122row18_col9 {\n",
       "            background-color:  #e5ffe5;\n",
       "        }    #T_25660cf8_5c1e_11e9_842e_acde48001122row18_col10 {\n",
       "            background-color:  #e5ffe5;\n",
       "        }    #T_25660cf8_5c1e_11e9_842e_acde48001122row18_col11 {\n",
       "            background-color:  #e5ffe5;\n",
       "        }    #T_25660cf8_5c1e_11e9_842e_acde48001122row18_col12 {\n",
       "            background-color:  #e5ffe5;\n",
       "        }    #T_25660cf8_5c1e_11e9_842e_acde48001122row18_col13 {\n",
       "            background-color:  #e5ffe5;\n",
       "        }    #T_25660cf8_5c1e_11e9_842e_acde48001122row18_col14 {\n",
       "            background-color:  #e5ffe5;\n",
       "        }    #T_25660cf8_5c1e_11e9_842e_acde48001122row18_col15 {\n",
       "            background-color:  #e5ffe5;\n",
       "        }    #T_25660cf8_5c1e_11e9_842e_acde48001122row18_col16 {\n",
       "            background-color:  #e5ffe5;\n",
       "        }    #T_25660cf8_5c1e_11e9_842e_acde48001122row18_col17 {\n",
       "            background-color:  #e5ffe5;\n",
       "        }    #T_25660cf8_5c1e_11e9_842e_acde48001122row18_col18 {\n",
       "            background-color:  #e5ffe5;\n",
       "        }    #T_25660cf8_5c1e_11e9_842e_acde48001122row18_col19 {\n",
       "            background-color:  #e5ffe5;\n",
       "        }    #T_25660cf8_5c1e_11e9_842e_acde48001122row19_col0 {\n",
       "            background-color:  #e5ffe5;\n",
       "        }    #T_25660cf8_5c1e_11e9_842e_acde48001122row19_col1 {\n",
       "            background-color:  #e5ffe5;\n",
       "        }    #T_25660cf8_5c1e_11e9_842e_acde48001122row19_col2 {\n",
       "            background-color:  #e5ffe5;\n",
       "        }    #T_25660cf8_5c1e_11e9_842e_acde48001122row19_col3 {\n",
       "            background-color:  #e5ffe5;\n",
       "        }    #T_25660cf8_5c1e_11e9_842e_acde48001122row19_col4 {\n",
       "            background-color:  #e5ffe5;\n",
       "        }    #T_25660cf8_5c1e_11e9_842e_acde48001122row19_col5 {\n",
       "            background-color:  #e5ffe5;\n",
       "        }    #T_25660cf8_5c1e_11e9_842e_acde48001122row19_col6 {\n",
       "            background-color:  #e5ffe5;\n",
       "        }    #T_25660cf8_5c1e_11e9_842e_acde48001122row19_col7 {\n",
       "            background-color:  #008000;\n",
       "        }    #T_25660cf8_5c1e_11e9_842e_acde48001122row19_col8 {\n",
       "            background-color:  #e5ffe5;\n",
       "        }    #T_25660cf8_5c1e_11e9_842e_acde48001122row19_col9 {\n",
       "            background-color:  #e5ffe5;\n",
       "        }    #T_25660cf8_5c1e_11e9_842e_acde48001122row19_col10 {\n",
       "            background-color:  #e5ffe5;\n",
       "        }    #T_25660cf8_5c1e_11e9_842e_acde48001122row19_col11 {\n",
       "            background-color:  #e5ffe5;\n",
       "        }    #T_25660cf8_5c1e_11e9_842e_acde48001122row19_col12 {\n",
       "            background-color:  #e5ffe5;\n",
       "        }    #T_25660cf8_5c1e_11e9_842e_acde48001122row19_col13 {\n",
       "            background-color:  #e5ffe5;\n",
       "        }    #T_25660cf8_5c1e_11e9_842e_acde48001122row19_col14 {\n",
       "            background-color:  #e5ffe5;\n",
       "        }    #T_25660cf8_5c1e_11e9_842e_acde48001122row19_col15 {\n",
       "            background-color:  #e5ffe5;\n",
       "        }    #T_25660cf8_5c1e_11e9_842e_acde48001122row19_col16 {\n",
       "            background-color:  #e5ffe5;\n",
       "        }    #T_25660cf8_5c1e_11e9_842e_acde48001122row19_col17 {\n",
       "            background-color:  #e5ffe5;\n",
       "        }    #T_25660cf8_5c1e_11e9_842e_acde48001122row19_col18 {\n",
       "            background-color:  #e5ffe5;\n",
       "        }    #T_25660cf8_5c1e_11e9_842e_acde48001122row19_col19 {\n",
       "            background-color:  #e5ffe5;\n",
       "        }</style>  \n",
       "<table id=\"T_25660cf8_5c1e_11e9_842e_acde48001122\" > \n",
       "<thead>    <tr> \n",
       "        <th class=\"index_name level0\" >volume</th> \n",
       "        <th class=\"col_heading level0 col0\" >18526644</th> \n",
       "        <th class=\"col_heading level0 col1\" >18747318</th> \n",
       "        <th class=\"col_heading level0 col2\" >20078698</th> \n",
       "        <th class=\"col_heading level0 col3\" >20780400</th> \n",
       "        <th class=\"col_heading level0 col4\" >23249700</th> \n",
       "        <th class=\"col_heading level0 col5\" >23564000</th> \n",
       "        <th class=\"col_heading level0 col6\" >23579500</th> \n",
       "        <th class=\"col_heading level0 col7\" >25872966</th> \n",
       "        <th class=\"col_heading level0 col8\" >26196000</th> \n",
       "        <th class=\"col_heading level0 col9\" >27449877</th> \n",
       "        <th class=\"col_heading level0 col10\" >27862000</th> \n",
       "        <th class=\"col_heading level0 col11\" >29848400</th> \n",
       "        <th class=\"col_heading level0 col12\" >31018400</th> \n",
       "        <th class=\"col_heading level0 col13\" >31032500</th> \n",
       "        <th class=\"col_heading level0 col14\" >32467600</th> \n",
       "        <th class=\"col_heading level0 col15\" >39025100</th> \n",
       "        <th class=\"col_heading level0 col16\" >41314308</th> \n",
       "        <th class=\"col_heading level0 col17\" >43326124</th> \n",
       "        <th class=\"col_heading level0 col18\" >49392696</th> \n",
       "        <th class=\"col_heading level0 col19\" >49805620</th> \n",
       "    </tr>    <tr> \n",
       "        <th class=\"index_name level0\" >close</th> \n",
       "        <th class=\"blank\" ></th> \n",
       "        <th class=\"blank\" ></th> \n",
       "        <th class=\"blank\" ></th> \n",
       "        <th class=\"blank\" ></th> \n",
       "        <th class=\"blank\" ></th> \n",
       "        <th class=\"blank\" ></th> \n",
       "        <th class=\"blank\" ></th> \n",
       "        <th class=\"blank\" ></th> \n",
       "        <th class=\"blank\" ></th> \n",
       "        <th class=\"blank\" ></th> \n",
       "        <th class=\"blank\" ></th> \n",
       "        <th class=\"blank\" ></th> \n",
       "        <th class=\"blank\" ></th> \n",
       "        <th class=\"blank\" ></th> \n",
       "        <th class=\"blank\" ></th> \n",
       "        <th class=\"blank\" ></th> \n",
       "        <th class=\"blank\" ></th> \n",
       "        <th class=\"blank\" ></th> \n",
       "        <th class=\"blank\" ></th> \n",
       "        <th class=\"blank\" ></th> \n",
       "    </tr></thead> \n",
       "<tbody>    <tr> \n",
       "        <th id=\"T_25660cf8_5c1e_11e9_842e_acde48001122level0_row0\" class=\"row_heading level0 row0\" >180.91</th> \n",
       "        <td id=\"T_25660cf8_5c1e_11e9_842e_acde48001122row0_col0\" class=\"data row0 col0\" >0</td> \n",
       "        <td id=\"T_25660cf8_5c1e_11e9_842e_acde48001122row0_col1\" class=\"data row0 col1\" >0</td> \n",
       "        <td id=\"T_25660cf8_5c1e_11e9_842e_acde48001122row0_col2\" class=\"data row0 col2\" >0</td> \n",
       "        <td id=\"T_25660cf8_5c1e_11e9_842e_acde48001122row0_col3\" class=\"data row0 col3\" >0</td> \n",
       "        <td id=\"T_25660cf8_5c1e_11e9_842e_acde48001122row0_col4\" class=\"data row0 col4\" >0</td> \n",
       "        <td id=\"T_25660cf8_5c1e_11e9_842e_acde48001122row0_col5\" class=\"data row0 col5\" >0</td> \n",
       "        <td id=\"T_25660cf8_5c1e_11e9_842e_acde48001122row0_col6\" class=\"data row0 col6\" >0</td> \n",
       "        <td id=\"T_25660cf8_5c1e_11e9_842e_acde48001122row0_col7\" class=\"data row0 col7\" >0</td> \n",
       "        <td id=\"T_25660cf8_5c1e_11e9_842e_acde48001122row0_col8\" class=\"data row0 col8\" >0</td> \n",
       "        <td id=\"T_25660cf8_5c1e_11e9_842e_acde48001122row0_col9\" class=\"data row0 col9\" >0</td> \n",
       "        <td id=\"T_25660cf8_5c1e_11e9_842e_acde48001122row0_col10\" class=\"data row0 col10\" >0</td> \n",
       "        <td id=\"T_25660cf8_5c1e_11e9_842e_acde48001122row0_col11\" class=\"data row0 col11\" >0</td> \n",
       "        <td id=\"T_25660cf8_5c1e_11e9_842e_acde48001122row0_col12\" class=\"data row0 col12\" >0</td> \n",
       "        <td id=\"T_25660cf8_5c1e_11e9_842e_acde48001122row0_col13\" class=\"data row0 col13\" >0</td> \n",
       "        <td id=\"T_25660cf8_5c1e_11e9_842e_acde48001122row0_col14\" class=\"data row0 col14\" >1</td> \n",
       "        <td id=\"T_25660cf8_5c1e_11e9_842e_acde48001122row0_col15\" class=\"data row0 col15\" >0</td> \n",
       "        <td id=\"T_25660cf8_5c1e_11e9_842e_acde48001122row0_col16\" class=\"data row0 col16\" >0</td> \n",
       "        <td id=\"T_25660cf8_5c1e_11e9_842e_acde48001122row0_col17\" class=\"data row0 col17\" >0</td> \n",
       "        <td id=\"T_25660cf8_5c1e_11e9_842e_acde48001122row0_col18\" class=\"data row0 col18\" >0</td> \n",
       "        <td id=\"T_25660cf8_5c1e_11e9_842e_acde48001122row0_col19\" class=\"data row0 col19\" >0</td> \n",
       "    </tr>    <tr> \n",
       "        <th id=\"T_25660cf8_5c1e_11e9_842e_acde48001122level0_row1\" class=\"row_heading level0 row1\" >181.71</th> \n",
       "        <td id=\"T_25660cf8_5c1e_11e9_842e_acde48001122row1_col0\" class=\"data row1 col0\" >0</td> \n",
       "        <td id=\"T_25660cf8_5c1e_11e9_842e_acde48001122row1_col1\" class=\"data row1 col1\" >0</td> \n",
       "        <td id=\"T_25660cf8_5c1e_11e9_842e_acde48001122row1_col2\" class=\"data row1 col2\" >0</td> \n",
       "        <td id=\"T_25660cf8_5c1e_11e9_842e_acde48001122row1_col3\" class=\"data row1 col3\" >0</td> \n",
       "        <td id=\"T_25660cf8_5c1e_11e9_842e_acde48001122row1_col4\" class=\"data row1 col4\" >0</td> \n",
       "        <td id=\"T_25660cf8_5c1e_11e9_842e_acde48001122row1_col5\" class=\"data row1 col5\" >0</td> \n",
       "        <td id=\"T_25660cf8_5c1e_11e9_842e_acde48001122row1_col6\" class=\"data row1 col6\" >0</td> \n",
       "        <td id=\"T_25660cf8_5c1e_11e9_842e_acde48001122row1_col7\" class=\"data row1 col7\" >0</td> \n",
       "        <td id=\"T_25660cf8_5c1e_11e9_842e_acde48001122row1_col8\" class=\"data row1 col8\" >0</td> \n",
       "        <td id=\"T_25660cf8_5c1e_11e9_842e_acde48001122row1_col9\" class=\"data row1 col9\" >0</td> \n",
       "        <td id=\"T_25660cf8_5c1e_11e9_842e_acde48001122row1_col10\" class=\"data row1 col10\" >0</td> \n",
       "        <td id=\"T_25660cf8_5c1e_11e9_842e_acde48001122row1_col11\" class=\"data row1 col11\" >0</td> \n",
       "        <td id=\"T_25660cf8_5c1e_11e9_842e_acde48001122row1_col12\" class=\"data row1 col12\" >0</td> \n",
       "        <td id=\"T_25660cf8_5c1e_11e9_842e_acde48001122row1_col13\" class=\"data row1 col13\" >1</td> \n",
       "        <td id=\"T_25660cf8_5c1e_11e9_842e_acde48001122row1_col14\" class=\"data row1 col14\" >0</td> \n",
       "        <td id=\"T_25660cf8_5c1e_11e9_842e_acde48001122row1_col15\" class=\"data row1 col15\" >0</td> \n",
       "        <td id=\"T_25660cf8_5c1e_11e9_842e_acde48001122row1_col16\" class=\"data row1 col16\" >0</td> \n",
       "        <td id=\"T_25660cf8_5c1e_11e9_842e_acde48001122row1_col17\" class=\"data row1 col17\" >0</td> \n",
       "        <td id=\"T_25660cf8_5c1e_11e9_842e_acde48001122row1_col18\" class=\"data row1 col18\" >0</td> \n",
       "        <td id=\"T_25660cf8_5c1e_11e9_842e_acde48001122row1_col19\" class=\"data row1 col19\" >0</td> \n",
       "    </tr>    <tr> \n",
       "        <th id=\"T_25660cf8_5c1e_11e9_842e_acde48001122level0_row2\" class=\"row_heading level0 row2\" >183.73</th> \n",
       "        <td id=\"T_25660cf8_5c1e_11e9_842e_acde48001122row2_col0\" class=\"data row2 col0\" >0</td> \n",
       "        <td id=\"T_25660cf8_5c1e_11e9_842e_acde48001122row2_col1\" class=\"data row2 col1\" >0</td> \n",
       "        <td id=\"T_25660cf8_5c1e_11e9_842e_acde48001122row2_col2\" class=\"data row2 col2\" >0</td> \n",
       "        <td id=\"T_25660cf8_5c1e_11e9_842e_acde48001122row2_col3\" class=\"data row2 col3\" >0</td> \n",
       "        <td id=\"T_25660cf8_5c1e_11e9_842e_acde48001122row2_col4\" class=\"data row2 col4\" >0</td> \n",
       "        <td id=\"T_25660cf8_5c1e_11e9_842e_acde48001122row2_col5\" class=\"data row2 col5\" >0</td> \n",
       "        <td id=\"T_25660cf8_5c1e_11e9_842e_acde48001122row2_col6\" class=\"data row2 col6\" >1</td> \n",
       "        <td id=\"T_25660cf8_5c1e_11e9_842e_acde48001122row2_col7\" class=\"data row2 col7\" >0</td> \n",
       "        <td id=\"T_25660cf8_5c1e_11e9_842e_acde48001122row2_col8\" class=\"data row2 col8\" >0</td> \n",
       "        <td id=\"T_25660cf8_5c1e_11e9_842e_acde48001122row2_col9\" class=\"data row2 col9\" >0</td> \n",
       "        <td id=\"T_25660cf8_5c1e_11e9_842e_acde48001122row2_col10\" class=\"data row2 col10\" >0</td> \n",
       "        <td id=\"T_25660cf8_5c1e_11e9_842e_acde48001122row2_col11\" class=\"data row2 col11\" >0</td> \n",
       "        <td id=\"T_25660cf8_5c1e_11e9_842e_acde48001122row2_col12\" class=\"data row2 col12\" >0</td> \n",
       "        <td id=\"T_25660cf8_5c1e_11e9_842e_acde48001122row2_col13\" class=\"data row2 col13\" >0</td> \n",
       "        <td id=\"T_25660cf8_5c1e_11e9_842e_acde48001122row2_col14\" class=\"data row2 col14\" >0</td> \n",
       "        <td id=\"T_25660cf8_5c1e_11e9_842e_acde48001122row2_col15\" class=\"data row2 col15\" >0</td> \n",
       "        <td id=\"T_25660cf8_5c1e_11e9_842e_acde48001122row2_col16\" class=\"data row2 col16\" >0</td> \n",
       "        <td id=\"T_25660cf8_5c1e_11e9_842e_acde48001122row2_col17\" class=\"data row2 col17\" >0</td> \n",
       "        <td id=\"T_25660cf8_5c1e_11e9_842e_acde48001122row2_col18\" class=\"data row2 col18\" >0</td> \n",
       "        <td id=\"T_25660cf8_5c1e_11e9_842e_acde48001122row2_col19\" class=\"data row2 col19\" >0</td> \n",
       "    </tr>    <tr> \n",
       "        <th id=\"T_25660cf8_5c1e_11e9_842e_acde48001122level0_row3\" class=\"row_heading level0 row3\" >186.12</th> \n",
       "        <td id=\"T_25660cf8_5c1e_11e9_842e_acde48001122row3_col0\" class=\"data row3 col0\" >0</td> \n",
       "        <td id=\"T_25660cf8_5c1e_11e9_842e_acde48001122row3_col1\" class=\"data row3 col1\" >0</td> \n",
       "        <td id=\"T_25660cf8_5c1e_11e9_842e_acde48001122row3_col2\" class=\"data row3 col2\" >0</td> \n",
       "        <td id=\"T_25660cf8_5c1e_11e9_842e_acde48001122row3_col3\" class=\"data row3 col3\" >0</td> \n",
       "        <td id=\"T_25660cf8_5c1e_11e9_842e_acde48001122row3_col4\" class=\"data row3 col4\" >0</td> \n",
       "        <td id=\"T_25660cf8_5c1e_11e9_842e_acde48001122row3_col5\" class=\"data row3 col5\" >0</td> \n",
       "        <td id=\"T_25660cf8_5c1e_11e9_842e_acde48001122row3_col6\" class=\"data row3 col6\" >0</td> \n",
       "        <td id=\"T_25660cf8_5c1e_11e9_842e_acde48001122row3_col7\" class=\"data row3 col7\" >0</td> \n",
       "        <td id=\"T_25660cf8_5c1e_11e9_842e_acde48001122row3_col8\" class=\"data row3 col8\" >0</td> \n",
       "        <td id=\"T_25660cf8_5c1e_11e9_842e_acde48001122row3_col9\" class=\"data row3 col9\" >0</td> \n",
       "        <td id=\"T_25660cf8_5c1e_11e9_842e_acde48001122row3_col10\" class=\"data row3 col10\" >0</td> \n",
       "        <td id=\"T_25660cf8_5c1e_11e9_842e_acde48001122row3_col11\" class=\"data row3 col11\" >0</td> \n",
       "        <td id=\"T_25660cf8_5c1e_11e9_842e_acde48001122row3_col12\" class=\"data row3 col12\" >0</td> \n",
       "        <td id=\"T_25660cf8_5c1e_11e9_842e_acde48001122row3_col13\" class=\"data row3 col13\" >0</td> \n",
       "        <td id=\"T_25660cf8_5c1e_11e9_842e_acde48001122row3_col14\" class=\"data row3 col14\" >0</td> \n",
       "        <td id=\"T_25660cf8_5c1e_11e9_842e_acde48001122row3_col15\" class=\"data row3 col15\" >1</td> \n",
       "        <td id=\"T_25660cf8_5c1e_11e9_842e_acde48001122row3_col16\" class=\"data row3 col16\" >0</td> \n",
       "        <td id=\"T_25660cf8_5c1e_11e9_842e_acde48001122row3_col17\" class=\"data row3 col17\" >0</td> \n",
       "        <td id=\"T_25660cf8_5c1e_11e9_842e_acde48001122row3_col18\" class=\"data row3 col18\" >0</td> \n",
       "        <td id=\"T_25660cf8_5c1e_11e9_842e_acde48001122row3_col19\" class=\"data row3 col19\" >0</td> \n",
       "    </tr>    <tr> \n",
       "        <th id=\"T_25660cf8_5c1e_11e9_842e_acde48001122level0_row4\" class=\"row_heading level0 row4\" >186.53</th> \n",
       "        <td id=\"T_25660cf8_5c1e_11e9_842e_acde48001122row4_col0\" class=\"data row4 col0\" >0</td> \n",
       "        <td id=\"T_25660cf8_5c1e_11e9_842e_acde48001122row4_col1\" class=\"data row4 col1\" >0</td> \n",
       "        <td id=\"T_25660cf8_5c1e_11e9_842e_acde48001122row4_col2\" class=\"data row4 col2\" >0</td> \n",
       "        <td id=\"T_25660cf8_5c1e_11e9_842e_acde48001122row4_col3\" class=\"data row4 col3\" >0</td> \n",
       "        <td id=\"T_25660cf8_5c1e_11e9_842e_acde48001122row4_col4\" class=\"data row4 col4\" >0</td> \n",
       "        <td id=\"T_25660cf8_5c1e_11e9_842e_acde48001122row4_col5\" class=\"data row4 col5\" >0</td> \n",
       "        <td id=\"T_25660cf8_5c1e_11e9_842e_acde48001122row4_col6\" class=\"data row4 col6\" >0</td> \n",
       "        <td id=\"T_25660cf8_5c1e_11e9_842e_acde48001122row4_col7\" class=\"data row4 col7\" >0</td> \n",
       "        <td id=\"T_25660cf8_5c1e_11e9_842e_acde48001122row4_col8\" class=\"data row4 col8\" >0</td> \n",
       "        <td id=\"T_25660cf8_5c1e_11e9_842e_acde48001122row4_col9\" class=\"data row4 col9\" >1</td> \n",
       "        <td id=\"T_25660cf8_5c1e_11e9_842e_acde48001122row4_col10\" class=\"data row4 col10\" >0</td> \n",
       "        <td id=\"T_25660cf8_5c1e_11e9_842e_acde48001122row4_col11\" class=\"data row4 col11\" >0</td> \n",
       "        <td id=\"T_25660cf8_5c1e_11e9_842e_acde48001122row4_col12\" class=\"data row4 col12\" >0</td> \n",
       "        <td id=\"T_25660cf8_5c1e_11e9_842e_acde48001122row4_col13\" class=\"data row4 col13\" >0</td> \n",
       "        <td id=\"T_25660cf8_5c1e_11e9_842e_acde48001122row4_col14\" class=\"data row4 col14\" >0</td> \n",
       "        <td id=\"T_25660cf8_5c1e_11e9_842e_acde48001122row4_col15\" class=\"data row4 col15\" >0</td> \n",
       "        <td id=\"T_25660cf8_5c1e_11e9_842e_acde48001122row4_col16\" class=\"data row4 col16\" >0</td> \n",
       "        <td id=\"T_25660cf8_5c1e_11e9_842e_acde48001122row4_col17\" class=\"data row4 col17\" >0</td> \n",
       "        <td id=\"T_25660cf8_5c1e_11e9_842e_acde48001122row4_col18\" class=\"data row4 col18\" >0</td> \n",
       "        <td id=\"T_25660cf8_5c1e_11e9_842e_acde48001122row4_col19\" class=\"data row4 col19\" >0</td> \n",
       "    </tr>    <tr> \n",
       "        <th id=\"T_25660cf8_5c1e_11e9_842e_acde48001122level0_row5\" class=\"row_heading level0 row5\" >188.02</th> \n",
       "        <td id=\"T_25660cf8_5c1e_11e9_842e_acde48001122row5_col0\" class=\"data row5 col0\" >0</td> \n",
       "        <td id=\"T_25660cf8_5c1e_11e9_842e_acde48001122row5_col1\" class=\"data row5 col1\" >0</td> \n",
       "        <td id=\"T_25660cf8_5c1e_11e9_842e_acde48001122row5_col2\" class=\"data row5 col2\" >0</td> \n",
       "        <td id=\"T_25660cf8_5c1e_11e9_842e_acde48001122row5_col3\" class=\"data row5 col3\" >0</td> \n",
       "        <td id=\"T_25660cf8_5c1e_11e9_842e_acde48001122row5_col4\" class=\"data row5 col4\" >0</td> \n",
       "        <td id=\"T_25660cf8_5c1e_11e9_842e_acde48001122row5_col5\" class=\"data row5 col5\" >0</td> \n",
       "        <td id=\"T_25660cf8_5c1e_11e9_842e_acde48001122row5_col6\" class=\"data row5 col6\" >0</td> \n",
       "        <td id=\"T_25660cf8_5c1e_11e9_842e_acde48001122row5_col7\" class=\"data row5 col7\" >0</td> \n",
       "        <td id=\"T_25660cf8_5c1e_11e9_842e_acde48001122row5_col8\" class=\"data row5 col8\" >1</td> \n",
       "        <td id=\"T_25660cf8_5c1e_11e9_842e_acde48001122row5_col9\" class=\"data row5 col9\" >0</td> \n",
       "        <td id=\"T_25660cf8_5c1e_11e9_842e_acde48001122row5_col10\" class=\"data row5 col10\" >0</td> \n",
       "        <td id=\"T_25660cf8_5c1e_11e9_842e_acde48001122row5_col11\" class=\"data row5 col11\" >0</td> \n",
       "        <td id=\"T_25660cf8_5c1e_11e9_842e_acde48001122row5_col12\" class=\"data row5 col12\" >0</td> \n",
       "        <td id=\"T_25660cf8_5c1e_11e9_842e_acde48001122row5_col13\" class=\"data row5 col13\" >0</td> \n",
       "        <td id=\"T_25660cf8_5c1e_11e9_842e_acde48001122row5_col14\" class=\"data row5 col14\" >0</td> \n",
       "        <td id=\"T_25660cf8_5c1e_11e9_842e_acde48001122row5_col15\" class=\"data row5 col15\" >0</td> \n",
       "        <td id=\"T_25660cf8_5c1e_11e9_842e_acde48001122row5_col16\" class=\"data row5 col16\" >0</td> \n",
       "        <td id=\"T_25660cf8_5c1e_11e9_842e_acde48001122row5_col17\" class=\"data row5 col17\" >0</td> \n",
       "        <td id=\"T_25660cf8_5c1e_11e9_842e_acde48001122row5_col18\" class=\"data row5 col18\" >0</td> \n",
       "        <td id=\"T_25660cf8_5c1e_11e9_842e_acde48001122row5_col19\" class=\"data row5 col19\" >0</td> \n",
       "    </tr>    <tr> \n",
       "        <th id=\"T_25660cf8_5c1e_11e9_842e_acde48001122level0_row6\" class=\"row_heading level0 row6\" >188.16</th> \n",
       "        <td id=\"T_25660cf8_5c1e_11e9_842e_acde48001122row6_col0\" class=\"data row6 col0\" >0</td> \n",
       "        <td id=\"T_25660cf8_5c1e_11e9_842e_acde48001122row6_col1\" class=\"data row6 col1\" >0</td> \n",
       "        <td id=\"T_25660cf8_5c1e_11e9_842e_acde48001122row6_col2\" class=\"data row6 col2\" >0</td> \n",
       "        <td id=\"T_25660cf8_5c1e_11e9_842e_acde48001122row6_col3\" class=\"data row6 col3\" >0</td> \n",
       "        <td id=\"T_25660cf8_5c1e_11e9_842e_acde48001122row6_col4\" class=\"data row6 col4\" >0</td> \n",
       "        <td id=\"T_25660cf8_5c1e_11e9_842e_acde48001122row6_col5\" class=\"data row6 col5\" >0</td> \n",
       "        <td id=\"T_25660cf8_5c1e_11e9_842e_acde48001122row6_col6\" class=\"data row6 col6\" >0</td> \n",
       "        <td id=\"T_25660cf8_5c1e_11e9_842e_acde48001122row6_col7\" class=\"data row6 col7\" >0</td> \n",
       "        <td id=\"T_25660cf8_5c1e_11e9_842e_acde48001122row6_col8\" class=\"data row6 col8\" >0</td> \n",
       "        <td id=\"T_25660cf8_5c1e_11e9_842e_acde48001122row6_col9\" class=\"data row6 col9\" >0</td> \n",
       "        <td id=\"T_25660cf8_5c1e_11e9_842e_acde48001122row6_col10\" class=\"data row6 col10\" >0</td> \n",
       "        <td id=\"T_25660cf8_5c1e_11e9_842e_acde48001122row6_col11\" class=\"data row6 col11\" >0</td> \n",
       "        <td id=\"T_25660cf8_5c1e_11e9_842e_acde48001122row6_col12\" class=\"data row6 col12\" >1</td> \n",
       "        <td id=\"T_25660cf8_5c1e_11e9_842e_acde48001122row6_col13\" class=\"data row6 col13\" >0</td> \n",
       "        <td id=\"T_25660cf8_5c1e_11e9_842e_acde48001122row6_col14\" class=\"data row6 col14\" >0</td> \n",
       "        <td id=\"T_25660cf8_5c1e_11e9_842e_acde48001122row6_col15\" class=\"data row6 col15\" >0</td> \n",
       "        <td id=\"T_25660cf8_5c1e_11e9_842e_acde48001122row6_col16\" class=\"data row6 col16\" >0</td> \n",
       "        <td id=\"T_25660cf8_5c1e_11e9_842e_acde48001122row6_col17\" class=\"data row6 col17\" >0</td> \n",
       "        <td id=\"T_25660cf8_5c1e_11e9_842e_acde48001122row6_col18\" class=\"data row6 col18\" >0</td> \n",
       "        <td id=\"T_25660cf8_5c1e_11e9_842e_acde48001122row6_col19\" class=\"data row6 col19\" >0</td> \n",
       "    </tr>    <tr> \n",
       "        <th id=\"T_25660cf8_5c1e_11e9_842e_acde48001122level0_row7\" class=\"row_heading level0 row7\" >188.47</th> \n",
       "        <td id=\"T_25660cf8_5c1e_11e9_842e_acde48001122row7_col0\" class=\"data row7 col0\" >0</td> \n",
       "        <td id=\"T_25660cf8_5c1e_11e9_842e_acde48001122row7_col1\" class=\"data row7 col1\" >0</td> \n",
       "        <td id=\"T_25660cf8_5c1e_11e9_842e_acde48001122row7_col2\" class=\"data row7 col2\" >0</td> \n",
       "        <td id=\"T_25660cf8_5c1e_11e9_842e_acde48001122row7_col3\" class=\"data row7 col3\" >0</td> \n",
       "        <td id=\"T_25660cf8_5c1e_11e9_842e_acde48001122row7_col4\" class=\"data row7 col4\" >0</td> \n",
       "        <td id=\"T_25660cf8_5c1e_11e9_842e_acde48001122row7_col5\" class=\"data row7 col5\" >0</td> \n",
       "        <td id=\"T_25660cf8_5c1e_11e9_842e_acde48001122row7_col6\" class=\"data row7 col6\" >0</td> \n",
       "        <td id=\"T_25660cf8_5c1e_11e9_842e_acde48001122row7_col7\" class=\"data row7 col7\" >0</td> \n",
       "        <td id=\"T_25660cf8_5c1e_11e9_842e_acde48001122row7_col8\" class=\"data row7 col8\" >0</td> \n",
       "        <td id=\"T_25660cf8_5c1e_11e9_842e_acde48001122row7_col9\" class=\"data row7 col9\" >0</td> \n",
       "        <td id=\"T_25660cf8_5c1e_11e9_842e_acde48001122row7_col10\" class=\"data row7 col10\" >0</td> \n",
       "        <td id=\"T_25660cf8_5c1e_11e9_842e_acde48001122row7_col11\" class=\"data row7 col11\" >1</td> \n",
       "        <td id=\"T_25660cf8_5c1e_11e9_842e_acde48001122row7_col12\" class=\"data row7 col12\" >0</td> \n",
       "        <td id=\"T_25660cf8_5c1e_11e9_842e_acde48001122row7_col13\" class=\"data row7 col13\" >0</td> \n",
       "        <td id=\"T_25660cf8_5c1e_11e9_842e_acde48001122row7_col14\" class=\"data row7 col14\" >0</td> \n",
       "        <td id=\"T_25660cf8_5c1e_11e9_842e_acde48001122row7_col15\" class=\"data row7 col15\" >0</td> \n",
       "        <td id=\"T_25660cf8_5c1e_11e9_842e_acde48001122row7_col16\" class=\"data row7 col16\" >0</td> \n",
       "        <td id=\"T_25660cf8_5c1e_11e9_842e_acde48001122row7_col17\" class=\"data row7 col17\" >0</td> \n",
       "        <td id=\"T_25660cf8_5c1e_11e9_842e_acde48001122row7_col18\" class=\"data row7 col18\" >0</td> \n",
       "        <td id=\"T_25660cf8_5c1e_11e9_842e_acde48001122row7_col19\" class=\"data row7 col19\" >0</td> \n",
       "    </tr>    <tr> \n",
       "        <th id=\"T_25660cf8_5c1e_11e9_842e_acde48001122level0_row8\" class=\"row_heading level0 row8\" >188.72</th> \n",
       "        <td id=\"T_25660cf8_5c1e_11e9_842e_acde48001122row8_col0\" class=\"data row8 col0\" >0</td> \n",
       "        <td id=\"T_25660cf8_5c1e_11e9_842e_acde48001122row8_col1\" class=\"data row8 col1\" >0</td> \n",
       "        <td id=\"T_25660cf8_5c1e_11e9_842e_acde48001122row8_col2\" class=\"data row8 col2\" >0</td> \n",
       "        <td id=\"T_25660cf8_5c1e_11e9_842e_acde48001122row8_col3\" class=\"data row8 col3\" >1</td> \n",
       "        <td id=\"T_25660cf8_5c1e_11e9_842e_acde48001122row8_col4\" class=\"data row8 col4\" >0</td> \n",
       "        <td id=\"T_25660cf8_5c1e_11e9_842e_acde48001122row8_col5\" class=\"data row8 col5\" >0</td> \n",
       "        <td id=\"T_25660cf8_5c1e_11e9_842e_acde48001122row8_col6\" class=\"data row8 col6\" >0</td> \n",
       "        <td id=\"T_25660cf8_5c1e_11e9_842e_acde48001122row8_col7\" class=\"data row8 col7\" >0</td> \n",
       "        <td id=\"T_25660cf8_5c1e_11e9_842e_acde48001122row8_col8\" class=\"data row8 col8\" >0</td> \n",
       "        <td id=\"T_25660cf8_5c1e_11e9_842e_acde48001122row8_col9\" class=\"data row8 col9\" >0</td> \n",
       "        <td id=\"T_25660cf8_5c1e_11e9_842e_acde48001122row8_col10\" class=\"data row8 col10\" >0</td> \n",
       "        <td id=\"T_25660cf8_5c1e_11e9_842e_acde48001122row8_col11\" class=\"data row8 col11\" >0</td> \n",
       "        <td id=\"T_25660cf8_5c1e_11e9_842e_acde48001122row8_col12\" class=\"data row8 col12\" >0</td> \n",
       "        <td id=\"T_25660cf8_5c1e_11e9_842e_acde48001122row8_col13\" class=\"data row8 col13\" >0</td> \n",
       "        <td id=\"T_25660cf8_5c1e_11e9_842e_acde48001122row8_col14\" class=\"data row8 col14\" >0</td> \n",
       "        <td id=\"T_25660cf8_5c1e_11e9_842e_acde48001122row8_col15\" class=\"data row8 col15\" >0</td> \n",
       "        <td id=\"T_25660cf8_5c1e_11e9_842e_acde48001122row8_col16\" class=\"data row8 col16\" >0</td> \n",
       "        <td id=\"T_25660cf8_5c1e_11e9_842e_acde48001122row8_col17\" class=\"data row8 col17\" >0</td> \n",
       "        <td id=\"T_25660cf8_5c1e_11e9_842e_acde48001122row8_col18\" class=\"data row8 col18\" >0</td> \n",
       "        <td id=\"T_25660cf8_5c1e_11e9_842e_acde48001122row8_col19\" class=\"data row8 col19\" >0</td> \n",
       "    </tr>    <tr> \n",
       "        <th id=\"T_25660cf8_5c1e_11e9_842e_acde48001122level0_row9\" class=\"row_heading level0 row9\" >188.74</th> \n",
       "        <td id=\"T_25660cf8_5c1e_11e9_842e_acde48001122row9_col0\" class=\"data row9 col0\" >0</td> \n",
       "        <td id=\"T_25660cf8_5c1e_11e9_842e_acde48001122row9_col1\" class=\"data row9 col1\" >0</td> \n",
       "        <td id=\"T_25660cf8_5c1e_11e9_842e_acde48001122row9_col2\" class=\"data row9 col2\" >0</td> \n",
       "        <td id=\"T_25660cf8_5c1e_11e9_842e_acde48001122row9_col3\" class=\"data row9 col3\" >0</td> \n",
       "        <td id=\"T_25660cf8_5c1e_11e9_842e_acde48001122row9_col4\" class=\"data row9 col4\" >0</td> \n",
       "        <td id=\"T_25660cf8_5c1e_11e9_842e_acde48001122row9_col5\" class=\"data row9 col5\" >0</td> \n",
       "        <td id=\"T_25660cf8_5c1e_11e9_842e_acde48001122row9_col6\" class=\"data row9 col6\" >0</td> \n",
       "        <td id=\"T_25660cf8_5c1e_11e9_842e_acde48001122row9_col7\" class=\"data row9 col7\" >0</td> \n",
       "        <td id=\"T_25660cf8_5c1e_11e9_842e_acde48001122row9_col8\" class=\"data row9 col8\" >0</td> \n",
       "        <td id=\"T_25660cf8_5c1e_11e9_842e_acde48001122row9_col9\" class=\"data row9 col9\" >0</td> \n",
       "        <td id=\"T_25660cf8_5c1e_11e9_842e_acde48001122row9_col10\" class=\"data row9 col10\" >0</td> \n",
       "        <td id=\"T_25660cf8_5c1e_11e9_842e_acde48001122row9_col11\" class=\"data row9 col11\" >0</td> \n",
       "        <td id=\"T_25660cf8_5c1e_11e9_842e_acde48001122row9_col12\" class=\"data row9 col12\" >0</td> \n",
       "        <td id=\"T_25660cf8_5c1e_11e9_842e_acde48001122row9_col13\" class=\"data row9 col13\" >0</td> \n",
       "        <td id=\"T_25660cf8_5c1e_11e9_842e_acde48001122row9_col14\" class=\"data row9 col14\" >0</td> \n",
       "        <td id=\"T_25660cf8_5c1e_11e9_842e_acde48001122row9_col15\" class=\"data row9 col15\" >0</td> \n",
       "        <td id=\"T_25660cf8_5c1e_11e9_842e_acde48001122row9_col16\" class=\"data row9 col16\" >0</td> \n",
       "        <td id=\"T_25660cf8_5c1e_11e9_842e_acde48001122row9_col17\" class=\"data row9 col17\" >1</td> \n",
       "        <td id=\"T_25660cf8_5c1e_11e9_842e_acde48001122row9_col18\" class=\"data row9 col18\" >0</td> \n",
       "        <td id=\"T_25660cf8_5c1e_11e9_842e_acde48001122row9_col19\" class=\"data row9 col19\" >0</td> \n",
       "    </tr>    <tr> \n",
       "        <th id=\"T_25660cf8_5c1e_11e9_842e_acde48001122level0_row10\" class=\"row_heading level0 row10\" >189.95</th> \n",
       "        <td id=\"T_25660cf8_5c1e_11e9_842e_acde48001122row10_col0\" class=\"data row10 col0\" >0</td> \n",
       "        <td id=\"T_25660cf8_5c1e_11e9_842e_acde48001122row10_col1\" class=\"data row10 col1\" >0</td> \n",
       "        <td id=\"T_25660cf8_5c1e_11e9_842e_acde48001122row10_col2\" class=\"data row10 col2\" >0</td> \n",
       "        <td id=\"T_25660cf8_5c1e_11e9_842e_acde48001122row10_col3\" class=\"data row10 col3\" >0</td> \n",
       "        <td id=\"T_25660cf8_5c1e_11e9_842e_acde48001122row10_col4\" class=\"data row10 col4\" >0</td> \n",
       "        <td id=\"T_25660cf8_5c1e_11e9_842e_acde48001122row10_col5\" class=\"data row10 col5\" >1</td> \n",
       "        <td id=\"T_25660cf8_5c1e_11e9_842e_acde48001122row10_col6\" class=\"data row10 col6\" >0</td> \n",
       "        <td id=\"T_25660cf8_5c1e_11e9_842e_acde48001122row10_col7\" class=\"data row10 col7\" >0</td> \n",
       "        <td id=\"T_25660cf8_5c1e_11e9_842e_acde48001122row10_col8\" class=\"data row10 col8\" >0</td> \n",
       "        <td id=\"T_25660cf8_5c1e_11e9_842e_acde48001122row10_col9\" class=\"data row10 col9\" >0</td> \n",
       "        <td id=\"T_25660cf8_5c1e_11e9_842e_acde48001122row10_col10\" class=\"data row10 col10\" >0</td> \n",
       "        <td id=\"T_25660cf8_5c1e_11e9_842e_acde48001122row10_col11\" class=\"data row10 col11\" >0</td> \n",
       "        <td id=\"T_25660cf8_5c1e_11e9_842e_acde48001122row10_col12\" class=\"data row10 col12\" >0</td> \n",
       "        <td id=\"T_25660cf8_5c1e_11e9_842e_acde48001122row10_col13\" class=\"data row10 col13\" >0</td> \n",
       "        <td id=\"T_25660cf8_5c1e_11e9_842e_acde48001122row10_col14\" class=\"data row10 col14\" >0</td> \n",
       "        <td id=\"T_25660cf8_5c1e_11e9_842e_acde48001122row10_col15\" class=\"data row10 col15\" >0</td> \n",
       "        <td id=\"T_25660cf8_5c1e_11e9_842e_acde48001122row10_col16\" class=\"data row10 col16\" >0</td> \n",
       "        <td id=\"T_25660cf8_5c1e_11e9_842e_acde48001122row10_col17\" class=\"data row10 col17\" >0</td> \n",
       "        <td id=\"T_25660cf8_5c1e_11e9_842e_acde48001122row10_col18\" class=\"data row10 col18\" >0</td> \n",
       "        <td id=\"T_25660cf8_5c1e_11e9_842e_acde48001122row10_col19\" class=\"data row10 col19\" >0</td> \n",
       "    </tr>    <tr> \n",
       "        <th id=\"T_25660cf8_5c1e_11e9_842e_acde48001122level0_row11\" class=\"row_heading level0 row11\" >191.05</th> \n",
       "        <td id=\"T_25660cf8_5c1e_11e9_842e_acde48001122row11_col0\" class=\"data row11 col0\" >0</td> \n",
       "        <td id=\"T_25660cf8_5c1e_11e9_842e_acde48001122row11_col1\" class=\"data row11 col1\" >0</td> \n",
       "        <td id=\"T_25660cf8_5c1e_11e9_842e_acde48001122row11_col2\" class=\"data row11 col2\" >0</td> \n",
       "        <td id=\"T_25660cf8_5c1e_11e9_842e_acde48001122row11_col3\" class=\"data row11 col3\" >0</td> \n",
       "        <td id=\"T_25660cf8_5c1e_11e9_842e_acde48001122row11_col4\" class=\"data row11 col4\" >0</td> \n",
       "        <td id=\"T_25660cf8_5c1e_11e9_842e_acde48001122row11_col5\" class=\"data row11 col5\" >0</td> \n",
       "        <td id=\"T_25660cf8_5c1e_11e9_842e_acde48001122row11_col6\" class=\"data row11 col6\" >0</td> \n",
       "        <td id=\"T_25660cf8_5c1e_11e9_842e_acde48001122row11_col7\" class=\"data row11 col7\" >0</td> \n",
       "        <td id=\"T_25660cf8_5c1e_11e9_842e_acde48001122row11_col8\" class=\"data row11 col8\" >0</td> \n",
       "        <td id=\"T_25660cf8_5c1e_11e9_842e_acde48001122row11_col9\" class=\"data row11 col9\" >0</td> \n",
       "        <td id=\"T_25660cf8_5c1e_11e9_842e_acde48001122row11_col10\" class=\"data row11 col10\" >0</td> \n",
       "        <td id=\"T_25660cf8_5c1e_11e9_842e_acde48001122row11_col11\" class=\"data row11 col11\" >0</td> \n",
       "        <td id=\"T_25660cf8_5c1e_11e9_842e_acde48001122row11_col12\" class=\"data row11 col12\" >0</td> \n",
       "        <td id=\"T_25660cf8_5c1e_11e9_842e_acde48001122row11_col13\" class=\"data row11 col13\" >0</td> \n",
       "        <td id=\"T_25660cf8_5c1e_11e9_842e_acde48001122row11_col14\" class=\"data row11 col14\" >0</td> \n",
       "        <td id=\"T_25660cf8_5c1e_11e9_842e_acde48001122row11_col15\" class=\"data row11 col15\" >0</td> \n",
       "        <td id=\"T_25660cf8_5c1e_11e9_842e_acde48001122row11_col16\" class=\"data row11 col16\" >1</td> \n",
       "        <td id=\"T_25660cf8_5c1e_11e9_842e_acde48001122row11_col17\" class=\"data row11 col17\" >0</td> \n",
       "        <td id=\"T_25660cf8_5c1e_11e9_842e_acde48001122row11_col18\" class=\"data row11 col18\" >0</td> \n",
       "        <td id=\"T_25660cf8_5c1e_11e9_842e_acde48001122row11_col19\" class=\"data row11 col19\" >0</td> \n",
       "    </tr>    <tr> \n",
       "        <th id=\"T_25660cf8_5c1e_11e9_842e_acde48001122level0_row12\" class=\"row_heading level0 row12\" >191.24</th> \n",
       "        <td id=\"T_25660cf8_5c1e_11e9_842e_acde48001122row12_col0\" class=\"data row12 col0\" >0</td> \n",
       "        <td id=\"T_25660cf8_5c1e_11e9_842e_acde48001122row12_col1\" class=\"data row12 col1\" >0</td> \n",
       "        <td id=\"T_25660cf8_5c1e_11e9_842e_acde48001122row12_col2\" class=\"data row12 col2\" >0</td> \n",
       "        <td id=\"T_25660cf8_5c1e_11e9_842e_acde48001122row12_col3\" class=\"data row12 col3\" >0</td> \n",
       "        <td id=\"T_25660cf8_5c1e_11e9_842e_acde48001122row12_col4\" class=\"data row12 col4\" >0</td> \n",
       "        <td id=\"T_25660cf8_5c1e_11e9_842e_acde48001122row12_col5\" class=\"data row12 col5\" >0</td> \n",
       "        <td id=\"T_25660cf8_5c1e_11e9_842e_acde48001122row12_col6\" class=\"data row12 col6\" >0</td> \n",
       "        <td id=\"T_25660cf8_5c1e_11e9_842e_acde48001122row12_col7\" class=\"data row12 col7\" >0</td> \n",
       "        <td id=\"T_25660cf8_5c1e_11e9_842e_acde48001122row12_col8\" class=\"data row12 col8\" >0</td> \n",
       "        <td id=\"T_25660cf8_5c1e_11e9_842e_acde48001122row12_col9\" class=\"data row12 col9\" >0</td> \n",
       "        <td id=\"T_25660cf8_5c1e_11e9_842e_acde48001122row12_col10\" class=\"data row12 col10\" >1</td> \n",
       "        <td id=\"T_25660cf8_5c1e_11e9_842e_acde48001122row12_col11\" class=\"data row12 col11\" >0</td> \n",
       "        <td id=\"T_25660cf8_5c1e_11e9_842e_acde48001122row12_col12\" class=\"data row12 col12\" >0</td> \n",
       "        <td id=\"T_25660cf8_5c1e_11e9_842e_acde48001122row12_col13\" class=\"data row12 col13\" >0</td> \n",
       "        <td id=\"T_25660cf8_5c1e_11e9_842e_acde48001122row12_col14\" class=\"data row12 col14\" >0</td> \n",
       "        <td id=\"T_25660cf8_5c1e_11e9_842e_acde48001122row12_col15\" class=\"data row12 col15\" >0</td> \n",
       "        <td id=\"T_25660cf8_5c1e_11e9_842e_acde48001122row12_col16\" class=\"data row12 col16\" >0</td> \n",
       "        <td id=\"T_25660cf8_5c1e_11e9_842e_acde48001122row12_col17\" class=\"data row12 col17\" >0</td> \n",
       "        <td id=\"T_25660cf8_5c1e_11e9_842e_acde48001122row12_col18\" class=\"data row12 col18\" >0</td> \n",
       "        <td id=\"T_25660cf8_5c1e_11e9_842e_acde48001122row12_col19\" class=\"data row12 col19\" >0</td> \n",
       "    </tr>    <tr> \n",
       "        <th id=\"T_25660cf8_5c1e_11e9_842e_acde48001122level0_row13\" class=\"row_heading level0 row13\" >192.88</th> \n",
       "        <td id=\"T_25660cf8_5c1e_11e9_842e_acde48001122row13_col0\" class=\"data row13 col0\" >0</td> \n",
       "        <td id=\"T_25660cf8_5c1e_11e9_842e_acde48001122row13_col1\" class=\"data row13 col1\" >0</td> \n",
       "        <td id=\"T_25660cf8_5c1e_11e9_842e_acde48001122row13_col2\" class=\"data row13 col2\" >0</td> \n",
       "        <td id=\"T_25660cf8_5c1e_11e9_842e_acde48001122row13_col3\" class=\"data row13 col3\" >0</td> \n",
       "        <td id=\"T_25660cf8_5c1e_11e9_842e_acde48001122row13_col4\" class=\"data row13 col4\" >0</td> \n",
       "        <td id=\"T_25660cf8_5c1e_11e9_842e_acde48001122row13_col5\" class=\"data row13 col5\" >0</td> \n",
       "        <td id=\"T_25660cf8_5c1e_11e9_842e_acde48001122row13_col6\" class=\"data row13 col6\" >0</td> \n",
       "        <td id=\"T_25660cf8_5c1e_11e9_842e_acde48001122row13_col7\" class=\"data row13 col7\" >0</td> \n",
       "        <td id=\"T_25660cf8_5c1e_11e9_842e_acde48001122row13_col8\" class=\"data row13 col8\" >0</td> \n",
       "        <td id=\"T_25660cf8_5c1e_11e9_842e_acde48001122row13_col9\" class=\"data row13 col9\" >0</td> \n",
       "        <td id=\"T_25660cf8_5c1e_11e9_842e_acde48001122row13_col10\" class=\"data row13 col10\" >0</td> \n",
       "        <td id=\"T_25660cf8_5c1e_11e9_842e_acde48001122row13_col11\" class=\"data row13 col11\" >0</td> \n",
       "        <td id=\"T_25660cf8_5c1e_11e9_842e_acde48001122row13_col12\" class=\"data row13 col12\" >0</td> \n",
       "        <td id=\"T_25660cf8_5c1e_11e9_842e_acde48001122row13_col13\" class=\"data row13 col13\" >0</td> \n",
       "        <td id=\"T_25660cf8_5c1e_11e9_842e_acde48001122row13_col14\" class=\"data row13 col14\" >0</td> \n",
       "        <td id=\"T_25660cf8_5c1e_11e9_842e_acde48001122row13_col15\" class=\"data row13 col15\" >0</td> \n",
       "        <td id=\"T_25660cf8_5c1e_11e9_842e_acde48001122row13_col16\" class=\"data row13 col16\" >0</td> \n",
       "        <td id=\"T_25660cf8_5c1e_11e9_842e_acde48001122row13_col17\" class=\"data row13 col17\" >0</td> \n",
       "        <td id=\"T_25660cf8_5c1e_11e9_842e_acde48001122row13_col18\" class=\"data row13 col18\" >1</td> \n",
       "        <td id=\"T_25660cf8_5c1e_11e9_842e_acde48001122row13_col19\" class=\"data row13 col19\" >0</td> \n",
       "    </tr>    <tr> \n",
       "        <th id=\"T_25660cf8_5c1e_11e9_842e_acde48001122level0_row14\" class=\"row_heading level0 row14\" >194.02</th> \n",
       "        <td id=\"T_25660cf8_5c1e_11e9_842e_acde48001122row14_col0\" class=\"data row14 col0\" >0</td> \n",
       "        <td id=\"T_25660cf8_5c1e_11e9_842e_acde48001122row14_col1\" class=\"data row14 col1\" >0</td> \n",
       "        <td id=\"T_25660cf8_5c1e_11e9_842e_acde48001122row14_col2\" class=\"data row14 col2\" >1</td> \n",
       "        <td id=\"T_25660cf8_5c1e_11e9_842e_acde48001122row14_col3\" class=\"data row14 col3\" >0</td> \n",
       "        <td id=\"T_25660cf8_5c1e_11e9_842e_acde48001122row14_col4\" class=\"data row14 col4\" >0</td> \n",
       "        <td id=\"T_25660cf8_5c1e_11e9_842e_acde48001122row14_col5\" class=\"data row14 col5\" >0</td> \n",
       "        <td id=\"T_25660cf8_5c1e_11e9_842e_acde48001122row14_col6\" class=\"data row14 col6\" >0</td> \n",
       "        <td id=\"T_25660cf8_5c1e_11e9_842e_acde48001122row14_col7\" class=\"data row14 col7\" >0</td> \n",
       "        <td id=\"T_25660cf8_5c1e_11e9_842e_acde48001122row14_col8\" class=\"data row14 col8\" >0</td> \n",
       "        <td id=\"T_25660cf8_5c1e_11e9_842e_acde48001122row14_col9\" class=\"data row14 col9\" >0</td> \n",
       "        <td id=\"T_25660cf8_5c1e_11e9_842e_acde48001122row14_col10\" class=\"data row14 col10\" >0</td> \n",
       "        <td id=\"T_25660cf8_5c1e_11e9_842e_acde48001122row14_col11\" class=\"data row14 col11\" >0</td> \n",
       "        <td id=\"T_25660cf8_5c1e_11e9_842e_acde48001122row14_col12\" class=\"data row14 col12\" >0</td> \n",
       "        <td id=\"T_25660cf8_5c1e_11e9_842e_acde48001122row14_col13\" class=\"data row14 col13\" >0</td> \n",
       "        <td id=\"T_25660cf8_5c1e_11e9_842e_acde48001122row14_col14\" class=\"data row14 col14\" >0</td> \n",
       "        <td id=\"T_25660cf8_5c1e_11e9_842e_acde48001122row14_col15\" class=\"data row14 col15\" >0</td> \n",
       "        <td id=\"T_25660cf8_5c1e_11e9_842e_acde48001122row14_col16\" class=\"data row14 col16\" >0</td> \n",
       "        <td id=\"T_25660cf8_5c1e_11e9_842e_acde48001122row14_col17\" class=\"data row14 col17\" >0</td> \n",
       "        <td id=\"T_25660cf8_5c1e_11e9_842e_acde48001122row14_col18\" class=\"data row14 col18\" >0</td> \n",
       "        <td id=\"T_25660cf8_5c1e_11e9_842e_acde48001122row14_col19\" class=\"data row14 col19\" >0</td> \n",
       "    </tr>    <tr> \n",
       "        <th id=\"T_25660cf8_5c1e_11e9_842e_acde48001122level0_row15\" class=\"row_heading level0 row15\" >195.09</th> \n",
       "        <td id=\"T_25660cf8_5c1e_11e9_842e_acde48001122row15_col0\" class=\"data row15 col0\" >0</td> \n",
       "        <td id=\"T_25660cf8_5c1e_11e9_842e_acde48001122row15_col1\" class=\"data row15 col1\" >0</td> \n",
       "        <td id=\"T_25660cf8_5c1e_11e9_842e_acde48001122row15_col2\" class=\"data row15 col2\" >0</td> \n",
       "        <td id=\"T_25660cf8_5c1e_11e9_842e_acde48001122row15_col3\" class=\"data row15 col3\" >0</td> \n",
       "        <td id=\"T_25660cf8_5c1e_11e9_842e_acde48001122row15_col4\" class=\"data row15 col4\" >0</td> \n",
       "        <td id=\"T_25660cf8_5c1e_11e9_842e_acde48001122row15_col5\" class=\"data row15 col5\" >0</td> \n",
       "        <td id=\"T_25660cf8_5c1e_11e9_842e_acde48001122row15_col6\" class=\"data row15 col6\" >0</td> \n",
       "        <td id=\"T_25660cf8_5c1e_11e9_842e_acde48001122row15_col7\" class=\"data row15 col7\" >0</td> \n",
       "        <td id=\"T_25660cf8_5c1e_11e9_842e_acde48001122row15_col8\" class=\"data row15 col8\" >0</td> \n",
       "        <td id=\"T_25660cf8_5c1e_11e9_842e_acde48001122row15_col9\" class=\"data row15 col9\" >0</td> \n",
       "        <td id=\"T_25660cf8_5c1e_11e9_842e_acde48001122row15_col10\" class=\"data row15 col10\" >0</td> \n",
       "        <td id=\"T_25660cf8_5c1e_11e9_842e_acde48001122row15_col11\" class=\"data row15 col11\" >0</td> \n",
       "        <td id=\"T_25660cf8_5c1e_11e9_842e_acde48001122row15_col12\" class=\"data row15 col12\" >0</td> \n",
       "        <td id=\"T_25660cf8_5c1e_11e9_842e_acde48001122row15_col13\" class=\"data row15 col13\" >0</td> \n",
       "        <td id=\"T_25660cf8_5c1e_11e9_842e_acde48001122row15_col14\" class=\"data row15 col14\" >0</td> \n",
       "        <td id=\"T_25660cf8_5c1e_11e9_842e_acde48001122row15_col15\" class=\"data row15 col15\" >0</td> \n",
       "        <td id=\"T_25660cf8_5c1e_11e9_842e_acde48001122row15_col16\" class=\"data row15 col16\" >0</td> \n",
       "        <td id=\"T_25660cf8_5c1e_11e9_842e_acde48001122row15_col17\" class=\"data row15 col17\" >0</td> \n",
       "        <td id=\"T_25660cf8_5c1e_11e9_842e_acde48001122row15_col18\" class=\"data row15 col18\" >0</td> \n",
       "        <td id=\"T_25660cf8_5c1e_11e9_842e_acde48001122row15_col19\" class=\"data row15 col19\" >1</td> \n",
       "    </tr>    <tr> \n",
       "        <th id=\"T_25660cf8_5c1e_11e9_842e_acde48001122level0_row16\" class=\"row_heading level0 row16\" >195.35</th> \n",
       "        <td id=\"T_25660cf8_5c1e_11e9_842e_acde48001122row16_col0\" class=\"data row16 col0\" >0</td> \n",
       "        <td id=\"T_25660cf8_5c1e_11e9_842e_acde48001122row16_col1\" class=\"data row16 col1\" >0</td> \n",
       "        <td id=\"T_25660cf8_5c1e_11e9_842e_acde48001122row16_col2\" class=\"data row16 col2\" >0</td> \n",
       "        <td id=\"T_25660cf8_5c1e_11e9_842e_acde48001122row16_col3\" class=\"data row16 col3\" >0</td> \n",
       "        <td id=\"T_25660cf8_5c1e_11e9_842e_acde48001122row16_col4\" class=\"data row16 col4\" >1</td> \n",
       "        <td id=\"T_25660cf8_5c1e_11e9_842e_acde48001122row16_col5\" class=\"data row16 col5\" >0</td> \n",
       "        <td id=\"T_25660cf8_5c1e_11e9_842e_acde48001122row16_col6\" class=\"data row16 col6\" >0</td> \n",
       "        <td id=\"T_25660cf8_5c1e_11e9_842e_acde48001122row16_col7\" class=\"data row16 col7\" >0</td> \n",
       "        <td id=\"T_25660cf8_5c1e_11e9_842e_acde48001122row16_col8\" class=\"data row16 col8\" >0</td> \n",
       "        <td id=\"T_25660cf8_5c1e_11e9_842e_acde48001122row16_col9\" class=\"data row16 col9\" >0</td> \n",
       "        <td id=\"T_25660cf8_5c1e_11e9_842e_acde48001122row16_col10\" class=\"data row16 col10\" >0</td> \n",
       "        <td id=\"T_25660cf8_5c1e_11e9_842e_acde48001122row16_col11\" class=\"data row16 col11\" >0</td> \n",
       "        <td id=\"T_25660cf8_5c1e_11e9_842e_acde48001122row16_col12\" class=\"data row16 col12\" >0</td> \n",
       "        <td id=\"T_25660cf8_5c1e_11e9_842e_acde48001122row16_col13\" class=\"data row16 col13\" >0</td> \n",
       "        <td id=\"T_25660cf8_5c1e_11e9_842e_acde48001122row16_col14\" class=\"data row16 col14\" >0</td> \n",
       "        <td id=\"T_25660cf8_5c1e_11e9_842e_acde48001122row16_col15\" class=\"data row16 col15\" >0</td> \n",
       "        <td id=\"T_25660cf8_5c1e_11e9_842e_acde48001122row16_col16\" class=\"data row16 col16\" >0</td> \n",
       "        <td id=\"T_25660cf8_5c1e_11e9_842e_acde48001122row16_col17\" class=\"data row16 col17\" >0</td> \n",
       "        <td id=\"T_25660cf8_5c1e_11e9_842e_acde48001122row16_col18\" class=\"data row16 col18\" >0</td> \n",
       "        <td id=\"T_25660cf8_5c1e_11e9_842e_acde48001122row16_col19\" class=\"data row16 col19\" >0</td> \n",
       "    </tr>    <tr> \n",
       "        <th id=\"T_25660cf8_5c1e_11e9_842e_acde48001122level0_row17\" class=\"row_heading level0 row17\" >195.69</th> \n",
       "        <td id=\"T_25660cf8_5c1e_11e9_842e_acde48001122row17_col0\" class=\"data row17 col0\" >0</td> \n",
       "        <td id=\"T_25660cf8_5c1e_11e9_842e_acde48001122row17_col1\" class=\"data row17 col1\" >1</td> \n",
       "        <td id=\"T_25660cf8_5c1e_11e9_842e_acde48001122row17_col2\" class=\"data row17 col2\" >0</td> \n",
       "        <td id=\"T_25660cf8_5c1e_11e9_842e_acde48001122row17_col3\" class=\"data row17 col3\" >0</td> \n",
       "        <td id=\"T_25660cf8_5c1e_11e9_842e_acde48001122row17_col4\" class=\"data row17 col4\" >0</td> \n",
       "        <td id=\"T_25660cf8_5c1e_11e9_842e_acde48001122row17_col5\" class=\"data row17 col5\" >0</td> \n",
       "        <td id=\"T_25660cf8_5c1e_11e9_842e_acde48001122row17_col6\" class=\"data row17 col6\" >0</td> \n",
       "        <td id=\"T_25660cf8_5c1e_11e9_842e_acde48001122row17_col7\" class=\"data row17 col7\" >0</td> \n",
       "        <td id=\"T_25660cf8_5c1e_11e9_842e_acde48001122row17_col8\" class=\"data row17 col8\" >0</td> \n",
       "        <td id=\"T_25660cf8_5c1e_11e9_842e_acde48001122row17_col9\" class=\"data row17 col9\" >0</td> \n",
       "        <td id=\"T_25660cf8_5c1e_11e9_842e_acde48001122row17_col10\" class=\"data row17 col10\" >0</td> \n",
       "        <td id=\"T_25660cf8_5c1e_11e9_842e_acde48001122row17_col11\" class=\"data row17 col11\" >0</td> \n",
       "        <td id=\"T_25660cf8_5c1e_11e9_842e_acde48001122row17_col12\" class=\"data row17 col12\" >0</td> \n",
       "        <td id=\"T_25660cf8_5c1e_11e9_842e_acde48001122row17_col13\" class=\"data row17 col13\" >0</td> \n",
       "        <td id=\"T_25660cf8_5c1e_11e9_842e_acde48001122row17_col14\" class=\"data row17 col14\" >0</td> \n",
       "        <td id=\"T_25660cf8_5c1e_11e9_842e_acde48001122row17_col15\" class=\"data row17 col15\" >0</td> \n",
       "        <td id=\"T_25660cf8_5c1e_11e9_842e_acde48001122row17_col16\" class=\"data row17 col16\" >0</td> \n",
       "        <td id=\"T_25660cf8_5c1e_11e9_842e_acde48001122row17_col17\" class=\"data row17 col17\" >0</td> \n",
       "        <td id=\"T_25660cf8_5c1e_11e9_842e_acde48001122row17_col18\" class=\"data row17 col18\" >0</td> \n",
       "        <td id=\"T_25660cf8_5c1e_11e9_842e_acde48001122row17_col19\" class=\"data row17 col19\" >0</td> \n",
       "    </tr>    <tr> \n",
       "        <th id=\"T_25660cf8_5c1e_11e9_842e_acde48001122level0_row18\" class=\"row_heading level0 row18\" >197.0</th> \n",
       "        <td id=\"T_25660cf8_5c1e_11e9_842e_acde48001122row18_col0\" class=\"data row18 col0\" >1</td> \n",
       "        <td id=\"T_25660cf8_5c1e_11e9_842e_acde48001122row18_col1\" class=\"data row18 col1\" >0</td> \n",
       "        <td id=\"T_25660cf8_5c1e_11e9_842e_acde48001122row18_col2\" class=\"data row18 col2\" >0</td> \n",
       "        <td id=\"T_25660cf8_5c1e_11e9_842e_acde48001122row18_col3\" class=\"data row18 col3\" >0</td> \n",
       "        <td id=\"T_25660cf8_5c1e_11e9_842e_acde48001122row18_col4\" class=\"data row18 col4\" >0</td> \n",
       "        <td id=\"T_25660cf8_5c1e_11e9_842e_acde48001122row18_col5\" class=\"data row18 col5\" >0</td> \n",
       "        <td id=\"T_25660cf8_5c1e_11e9_842e_acde48001122row18_col6\" class=\"data row18 col6\" >0</td> \n",
       "        <td id=\"T_25660cf8_5c1e_11e9_842e_acde48001122row18_col7\" class=\"data row18 col7\" >0</td> \n",
       "        <td id=\"T_25660cf8_5c1e_11e9_842e_acde48001122row18_col8\" class=\"data row18 col8\" >0</td> \n",
       "        <td id=\"T_25660cf8_5c1e_11e9_842e_acde48001122row18_col9\" class=\"data row18 col9\" >0</td> \n",
       "        <td id=\"T_25660cf8_5c1e_11e9_842e_acde48001122row18_col10\" class=\"data row18 col10\" >0</td> \n",
       "        <td id=\"T_25660cf8_5c1e_11e9_842e_acde48001122row18_col11\" class=\"data row18 col11\" >0</td> \n",
       "        <td id=\"T_25660cf8_5c1e_11e9_842e_acde48001122row18_col12\" class=\"data row18 col12\" >0</td> \n",
       "        <td id=\"T_25660cf8_5c1e_11e9_842e_acde48001122row18_col13\" class=\"data row18 col13\" >0</td> \n",
       "        <td id=\"T_25660cf8_5c1e_11e9_842e_acde48001122row18_col14\" class=\"data row18 col14\" >0</td> \n",
       "        <td id=\"T_25660cf8_5c1e_11e9_842e_acde48001122row18_col15\" class=\"data row18 col15\" >0</td> \n",
       "        <td id=\"T_25660cf8_5c1e_11e9_842e_acde48001122row18_col16\" class=\"data row18 col16\" >0</td> \n",
       "        <td id=\"T_25660cf8_5c1e_11e9_842e_acde48001122row18_col17\" class=\"data row18 col17\" >0</td> \n",
       "        <td id=\"T_25660cf8_5c1e_11e9_842e_acde48001122row18_col18\" class=\"data row18 col18\" >0</td> \n",
       "        <td id=\"T_25660cf8_5c1e_11e9_842e_acde48001122row18_col19\" class=\"data row18 col19\" >0</td> \n",
       "    </tr>    <tr> \n",
       "        <th id=\"T_25660cf8_5c1e_11e9_842e_acde48001122level0_row19\" class=\"row_heading level0 row19\" >200.1</th> \n",
       "        <td id=\"T_25660cf8_5c1e_11e9_842e_acde48001122row19_col0\" class=\"data row19 col0\" >0</td> \n",
       "        <td id=\"T_25660cf8_5c1e_11e9_842e_acde48001122row19_col1\" class=\"data row19 col1\" >0</td> \n",
       "        <td id=\"T_25660cf8_5c1e_11e9_842e_acde48001122row19_col2\" class=\"data row19 col2\" >0</td> \n",
       "        <td id=\"T_25660cf8_5c1e_11e9_842e_acde48001122row19_col3\" class=\"data row19 col3\" >0</td> \n",
       "        <td id=\"T_25660cf8_5c1e_11e9_842e_acde48001122row19_col4\" class=\"data row19 col4\" >0</td> \n",
       "        <td id=\"T_25660cf8_5c1e_11e9_842e_acde48001122row19_col5\" class=\"data row19 col5\" >0</td> \n",
       "        <td id=\"T_25660cf8_5c1e_11e9_842e_acde48001122row19_col6\" class=\"data row19 col6\" >0</td> \n",
       "        <td id=\"T_25660cf8_5c1e_11e9_842e_acde48001122row19_col7\" class=\"data row19 col7\" >1</td> \n",
       "        <td id=\"T_25660cf8_5c1e_11e9_842e_acde48001122row19_col8\" class=\"data row19 col8\" >0</td> \n",
       "        <td id=\"T_25660cf8_5c1e_11e9_842e_acde48001122row19_col9\" class=\"data row19 col9\" >0</td> \n",
       "        <td id=\"T_25660cf8_5c1e_11e9_842e_acde48001122row19_col10\" class=\"data row19 col10\" >0</td> \n",
       "        <td id=\"T_25660cf8_5c1e_11e9_842e_acde48001122row19_col11\" class=\"data row19 col11\" >0</td> \n",
       "        <td id=\"T_25660cf8_5c1e_11e9_842e_acde48001122row19_col12\" class=\"data row19 col12\" >0</td> \n",
       "        <td id=\"T_25660cf8_5c1e_11e9_842e_acde48001122row19_col13\" class=\"data row19 col13\" >0</td> \n",
       "        <td id=\"T_25660cf8_5c1e_11e9_842e_acde48001122row19_col14\" class=\"data row19 col14\" >0</td> \n",
       "        <td id=\"T_25660cf8_5c1e_11e9_842e_acde48001122row19_col15\" class=\"data row19 col15\" >0</td> \n",
       "        <td id=\"T_25660cf8_5c1e_11e9_842e_acde48001122row19_col16\" class=\"data row19 col16\" >0</td> \n",
       "        <td id=\"T_25660cf8_5c1e_11e9_842e_acde48001122row19_col17\" class=\"data row19 col17\" >0</td> \n",
       "        <td id=\"T_25660cf8_5c1e_11e9_842e_acde48001122row19_col18\" class=\"data row19 col18\" >0</td> \n",
       "        <td id=\"T_25660cf8_5c1e_11e9_842e_acde48001122row19_col19\" class=\"data row19 col19\" >0</td> \n",
       "    </tr></tbody> \n",
       "</table> "
      ],
      "text/plain": [
       "<pandas.io.formats.style.Styler at 0x1a2b018b70>"
      ]
     },
     "execution_count": 201,
     "metadata": {},
     "output_type": "execute_result"
    }
   ],
   "source": [
    "tem = AAPL_hist[:20]\n",
    "clo_vol= ['close', 'volume']\n",
    "cm = sns.light_palette(\"green\", as_cmap = True)\n",
    "pd.crosstab(tem[clo_vol[0]], tem[clo_vol[1]]).style.background_gradient(cmap = cm)"
   ]
  },
  {
   "cell_type": "markdown",
   "metadata": {},
   "source": [
    "# Feature engenieering"
   ]
  },
  {
   "cell_type": "markdown",
   "metadata": {},
   "source": [
    "#### First type of Features"
   ]
  },
  {
   "cell_type": "markdown",
   "metadata": {},
   "source": [
    "We create a window moving average"
   ]
  },
  {
   "cell_type": "code",
   "execution_count": 202,
   "metadata": {},
   "outputs": [],
   "source": [
    "def pastNdayCloseMean(variable,N):\n",
    "    \"\"\"This function returns past N day moving average serie\n",
    "    N is number of days\n",
    "    variable is Dataframe or series to apply the function EX: AAPL_hist.close\"\"\"\n",
    "    pastNdaysCloseMean = []\n",
    "    for ind in range(0,variable.count()):\n",
    "        pastNdaysCloseMean.append(variable.head(ind+N).tail(N).mean())\n",
    "    return pastNdaysCloseMean"
   ]
  },
  {
   "cell_type": "markdown",
   "metadata": {},
   "source": [
    "We will create a weekley window and a monthly window for the close, Meaning 7 days and 30 days"
   ]
  },
  {
   "cell_type": "code",
   "execution_count": 203,
   "metadata": {},
   "outputs": [],
   "source": [
    "AAPL_hist[\"weekely_close_window_mean\"] = pd.Series(pastNdayCloseMean(AAPL_hist.close,7),index=AAPL_hist.index)\n",
    "AAPL_hist[\"monthly_close_window_mean\"] = pd.Series(pastNdayCloseMean(AAPL_hist.close,30),index=AAPL_hist.index)"
   ]
  },
  {
   "cell_type": "code",
   "execution_count": 205,
   "metadata": {},
   "outputs": [
    {
     "data": {
      "text/plain": [
       "[<matplotlib.lines.Line2D at 0x1a33544ba8>]"
      ]
     },
     "execution_count": 205,
     "metadata": {},
     "output_type": "execute_result"
    },
    {
     "data": {
      "image/png": "[encoded data removed]",
      "text/plain": [
       "<Figure size 864x576 with 1 Axes>"
      ]
     },
     "metadata": {
      "needs_background": "light"
     },
     "output_type": "display_data"
    },
    {
     "data": {
      "image/png": "[encoded data removed]",
      "text/plain": [
       "<Figure size 864x576 with 1 Axes>"
      ]
     },
     "metadata": {
      "needs_background": "light"
     },
     "output_type": "display_data"
    }
   ],
   "source": [
    "x = plt.subplots(figsize=(12,8))\n",
    "x = plt.subplot(211)\n",
    "x.plot( AAPL_hist[\"weekely_close_window_mean\"], color='blue')\n",
    "ax = plt.subplots(figsize=(12,8))\n",
    "ax = plt.subplot(212)\n",
    "ax.plot( AAPL_hist[\"monthly_close_window_mean\"], color='blue')"
   ]
  },
  {
   "cell_type": "markdown",
   "metadata": {},
   "source": [
    "We will create a weekley window and a monthly window for the volume, Meaning 7 days and 30 days"
   ]
  },
  {
   "cell_type": "code",
   "execution_count": 204,
   "metadata": {},
   "outputs": [],
   "source": [
    "AAPL_hist[\"weekely_volume_window_mean\"] = pd.Series(pastNdayCloseMean(AAPL_hist.volume,7),index=AAPL_hist.index)\n",
    "AAPL_hist[\"monthly_volume_window_mean\"] = pd.Series(pastNdayCloseMean(AAPL_hist.volume,30),index=AAPL_hist.index)"
   ]
  },
  {
   "cell_type": "code",
   "execution_count": 206,
   "metadata": {},
   "outputs": [
    {
     "data": {
      "text/plain": [
       "[<matplotlib.lines.Line2D at 0x1a3393fb00>]"
      ]
     },
     "execution_count": 206,
     "metadata": {},
     "output_type": "execute_result"
    },
    {
     "data": {
      "image/png": "[encoded data removed]",
      "text/plain": [
       "<Figure size 864x576 with 1 Axes>"
      ]
     },
     "metadata": {
      "needs_background": "light"
     },
     "output_type": "display_data"
    },
    {
     "data": {
      "image/png": "[encoded data removed]",
      "text/plain": [
       "<Figure size 864x576 with 1 Axes>"
      ]
     },
     "metadata": {
      "needs_background": "light"
     },
     "output_type": "display_data"
    }
   ],
   "source": [
    "x = plt.subplots(figsize=(12,8))\n",
    "x = plt.subplot(211)\n",
    "x.plot( AAPL_hist[\"weekely_volume_window_mean\"], color='blue')\n",
    "ax = plt.subplots(figsize=(12,8))\n",
    "ax = plt.subplot(212)\n",
    "ax.plot( AAPL_hist[\"monthly_volume_window_mean\"], color='blue')"
   ]
  },
  {
   "cell_type": "markdown",
   "metadata": {},
   "source": [
    "#### Second Feature"
   ]
  },
  {
   "cell_type": "markdown",
   "metadata": {},
   "source": [
    "We create the feature indicating duration between current value and last anomalie detected"
   ]
  },
  {
   "cell_type": "code",
   "execution_count": 165,
   "metadata": {},
   "outputs": [],
   "source": [
    "def lastAnomaly(variable):\n",
    "    \"\"\"This function returns serie of last anomalie detected\n",
    "    variable is Dataframe or series to apply the function EX: AAPL_hist\"\"\"\n",
    "    lastAnomaly = variable.anomaly.copy().values\n",
    "    firstAnomalyIndex = np.where(lastAnomaly==-1)[0][0]\n",
    "    last=0\n",
    "    for ind,value in enumerate(lastAnomaly):\n",
    "        if(value==-1):\n",
    "            last=0\n",
    "            lastAnomaly[ind]=last\n",
    "        else:\n",
    "            last=last+1\n",
    "            lastAnomaly[ind]=last\n",
    "    maxAnomaly = lastAnomaly[firstAnomalyIndex:].max()\n",
    "    for ind,value in enumerate(lastAnomaly[:firstAnomalyIndex]):\n",
    "        lastAnomaly[ind]=maxAnomaly-firstAnomalyIndex+ind\n",
    "    return lastAnomaly"
   ]
  },
  {
   "cell_type": "code",
   "execution_count": 166,
   "metadata": {},
   "outputs": [],
   "source": [
    "AAPL_hist[\"lastAnomaly_AAPL\"] = pd.Series(lastAnomaly(AAPL_hist),index=AAPL_hist.index)"
   ]
  },
  {
   "cell_type": "markdown",
   "metadata": {},
   "source": [
    "We can see the UP and Downs of the last anomaly "
   ]
  },
  {
   "cell_type": "code",
   "execution_count": 172,
   "metadata": {
    "scrolled": false
   },
   "outputs": [
    {
     "data": {
      "text/plain": [
       "<matplotlib.axes._subplots.AxesSubplot at 0x1a2a4bcdd8>"
      ]
     },
     "execution_count": 172,
     "metadata": {},
     "output_type": "execute_result"
    },
    {
     "data": {
      "image/png": "[encoded data removed]",
      "text/plain": [
       "<Figure size 720x576 with 1 Axes>"
      ]
     },
     "metadata": {
      "needs_background": "light"
     },
     "output_type": "display_data"
    }
   ],
   "source": [
    "AAPL_hist.lastAnomaly_AAPL.plot(figsize=(10,8))"
   ]
  },
  {
   "cell_type": "code",
   "execution_count": 181,
   "metadata": {},
   "outputs": [
    {
     "data": {
      "text/plain": [
       "[<matplotlib.lines.Line2D at 0x1a2a7a56d8>]"
      ]
     },
     "execution_count": 181,
     "metadata": {},
     "output_type": "execute_result"
    },
    {
     "data": {
      "image/png": "[encoded data removed]",
      "text/plain": [
       "<Figure size 864x576 with 1 Axes>"
      ]
     },
     "metadata": {
      "needs_background": "light"
     },
     "output_type": "display_data"
    }
   ],
   "source": [
    "ax = plt.subplots(figsize=(12,8))\n",
    "ax = plt.subplot(212)\n",
    "ax.plot( AAPL_hist[\"lastAnomaly_AAPL\"], color='blue')"
   ]
  },
  {
   "cell_type": "markdown",
   "metadata": {},
   "source": [
    "### Related data"
   ]
  },
  {
   "cell_type": "markdown",
   "metadata": {},
   "source": [
    "We can add other features which related domain companies. In AAPL case, we can use [ AMZN, FB, GOOG, MSFT, TSLA ] and aggregate their data to be added to our dataset"
   ]
  },
  {
   "cell_type": "markdown",
   "metadata": {},
   "source": [
    "We will focus only on Close and volume"
   ]
  },
  {
   "cell_type": "code",
   "execution_count": 182,
   "metadata": {},
   "outputs": [
    {
     "name": "stderr",
     "output_type": "stream",
     "text": [
      "ERROR:root:Internal Python error in the inspect module.\n",
      "Below is the traceback from this internal error.\n",
      "\n"
     ]
    },
    {
     "name": "stdout",
     "output_type": "stream",
     "text": [
      "Traceback (most recent call last):\n",
      "  File \"/Users/xinpeiwang/anaconda3/lib/python3.7/site-packages/IPython/core/interactiveshell.py\", line 3267, in run_code\n",
      "    exec(code_obj, self.user_global_ns, self.user_ns)\n",
      "  File \"<ipython-input-182-f3076905fd25>\", line 1, in <module>\n",
      "    AMZN_hist = pd.DataFrame(data = getHistoricalPrice(Ticker='AMZN',rng=\"3y\",interval=1)[\"Stock price\"])\n",
      "KeyError: 'Stock price'\n",
      "\n",
      "During handling of the above exception, another exception occurred:\n",
      "\n",
      "Traceback (most recent call last):\n",
      "  File \"/Users/xinpeiwang/anaconda3/lib/python3.7/site-packages/IPython/core/interactiveshell.py\", line 2018, in showtraceback\n",
      "    stb = value._render_traceback_()\n",
      "AttributeError: 'KeyError' object has no attribute '_render_traceback_'\n",
      "\n",
      "During handling of the above exception, another exception occurred:\n",
      "\n",
      "Traceback (most recent call last):\n",
      "  File \"/Users/xinpeiwang/anaconda3/lib/python3.7/site-packages/IPython/core/ultratb.py\", line 1095, in get_records\n",
      "    return _fixed_getinnerframes(etb, number_of_lines_of_context, tb_offset)\n",
      "  File \"/Users/xinpeiwang/anaconda3/lib/python3.7/site-packages/IPython/core/ultratb.py\", line 313, in wrapped\n",
      "    return f(*args, **kwargs)\n",
      "  File \"/Users/xinpeiwang/anaconda3/lib/python3.7/site-packages/IPython/core/ultratb.py\", line 347, in _fixed_getinnerframes\n",
      "    records = fix_frame_records_filenames(inspect.getinnerframes(etb, context))\n",
      "  File \"/Users/xinpeiwang/anaconda3/lib/python3.7/inspect.py\", line 1500, in getinnerframes\n",
      "    frameinfo = (tb.tb_frame,) + getframeinfo(tb, context)\n",
      "  File \"/Users/xinpeiwang/anaconda3/lib/python3.7/inspect.py\", line 1458, in getframeinfo\n",
      "    filename = getsourcefile(frame) or getfile(frame)\n",
      "  File \"/Users/xinpeiwang/anaconda3/lib/python3.7/inspect.py\", line 696, in getsourcefile\n",
      "    if getattr(getmodule(object, filename), '__loader__', None) is not None:\n",
      "  File \"/Users/xinpeiwang/anaconda3/lib/python3.7/inspect.py\", line 725, in getmodule\n",
      "    file = getabsfile(object, _filename)\n",
      "  File \"/Users/xinpeiwang/anaconda3/lib/python3.7/inspect.py\", line 709, in getabsfile\n",
      "    return os.path.normcase(os.path.abspath(_filename))\n",
      "  File \"/Users/xinpeiwang/anaconda3/lib/python3.7/posixpath.py\", line 376, in abspath\n",
      "    cwd = os.getcwd()\n",
      "FileNotFoundError: [Errno 2] No such file or directory\n"
     ]
    },
    {
     "ename": "KeyError",
     "evalue": "'Stock price'",
     "output_type": "error",
     "traceback": [
      "\u001b[0;31m---------------------------------------------------------------------------\u001b[0m"
     ]
    }
   ],
   "source": [
    "AMZN_hist = pd.DataFrame(data = getHistoricalPrice(Ticker='AMZN',rng=\"3y\",interval=1)[\"Stock price\"])\n",
    "FB_hist = pd.DataFrame(data = getHistoricalPrice(Ticker='FB',rng=\"3y\",interval=1)[\"Stock price\"])\n",
    "GOOG_hist = pd.DataFrame(data = getHistoricalPrice(Ticker='GOOG',rng=\"3y\",interval=1)[\"Stock price\"])\n",
    "#MSFT_hist = pd.DataFrame(data = getHistoricalPrice(Ticker='MSFT',rng=\"3y\",interval=1)[\"Stock price\"])\n",
    "#TSLA_hist = pd.DataFrame(data = getHistoricalPrice(Ticker='TSLA',rng=\"3y\",interval=1)[\"Stock price\"])\n",
    "#Internal server error on microsoft and tesla data"
   ]
  },
  {
   "cell_type": "markdown",
   "metadata": {},
   "source": [
    "Setting the time index"
   ]
  },
  {
   "cell_type": "code",
   "execution_count": 176,
   "metadata": {},
   "outputs": [
    {
     "name": "stderr",
     "output_type": "stream",
     "text": [
      "ERROR:root:Internal Python error in the inspect module.\n",
      "Below is the traceback from this internal error.\n",
      "\n"
     ]
    },
    {
     "name": "stdout",
     "output_type": "stream",
     "text": [
      "Traceback (most recent call last):\n",
      "  File \"/Users/xinpeiwang/anaconda3/lib/python3.7/site-packages/IPython/core/interactiveshell.py\", line 3267, in run_code\n",
      "    exec(code_obj, self.user_global_ns, self.user_ns)\n",
      "  File \"<ipython-input-176-bb2c13468334>\", line 1, in <module>\n",
      "    AMZN_hist.date = pd.to_datetime(AMZN_hist.date)\n",
      "NameError: name 'AMZN_hist' is not defined\n",
      "\n",
      "During handling of the above exception, another exception occurred:\n",
      "\n",
      "Traceback (most recent call last):\n",
      "  File \"/Users/xinpeiwang/anaconda3/lib/python3.7/site-packages/IPython/core/interactiveshell.py\", line 2018, in showtraceback\n",
      "    stb = value._render_traceback_()\n",
      "AttributeError: 'NameError' object has no attribute '_render_traceback_'\n",
      "\n",
      "During handling of the above exception, another exception occurred:\n",
      "\n",
      "Traceback (most recent call last):\n",
      "  File \"/Users/xinpeiwang/anaconda3/lib/python3.7/site-packages/IPython/core/ultratb.py\", line 1095, in get_records\n",
      "    return _fixed_getinnerframes(etb, number_of_lines_of_context, tb_offset)\n",
      "  File \"/Users/xinpeiwang/anaconda3/lib/python3.7/site-packages/IPython/core/ultratb.py\", line 313, in wrapped\n",
      "    return f(*args, **kwargs)\n",
      "  File \"/Users/xinpeiwang/anaconda3/lib/python3.7/site-packages/IPython/core/ultratb.py\", line 347, in _fixed_getinnerframes\n",
      "    records = fix_frame_records_filenames(inspect.getinnerframes(etb, context))\n",
      "  File \"/Users/xinpeiwang/anaconda3/lib/python3.7/inspect.py\", line 1500, in getinnerframes\n",
      "    frameinfo = (tb.tb_frame,) + getframeinfo(tb, context)\n",
      "  File \"/Users/xinpeiwang/anaconda3/lib/python3.7/inspect.py\", line 1458, in getframeinfo\n",
      "    filename = getsourcefile(frame) or getfile(frame)\n",
      "  File \"/Users/xinpeiwang/anaconda3/lib/python3.7/inspect.py\", line 696, in getsourcefile\n",
      "    if getattr(getmodule(object, filename), '__loader__', None) is not None:\n",
      "  File \"/Users/xinpeiwang/anaconda3/lib/python3.7/inspect.py\", line 725, in getmodule\n",
      "    file = getabsfile(object, _filename)\n",
      "  File \"/Users/xinpeiwang/anaconda3/lib/python3.7/inspect.py\", line 709, in getabsfile\n",
      "    return os.path.normcase(os.path.abspath(_filename))\n",
      "  File \"/Users/xinpeiwang/anaconda3/lib/python3.7/posixpath.py\", line 376, in abspath\n",
      "    cwd = os.getcwd()\n",
      "FileNotFoundError: [Errno 2] No such file or directory\n"
     ]
    },
    {
     "ename": "NameError",
     "evalue": "name 'AMZN_hist' is not defined",
     "output_type": "error",
     "traceback": [
      "\u001b[0;31m---------------------------------------------------------------------------\u001b[0m"
     ]
    }
   ],
   "source": [
    "AMZN_hist.date = pd.to_datetime(AMZN_hist.date)\n",
    "AMZN_hist.set_index(\"date\",inplace=True)\n",
    "FB_hist.date = pd.to_datetime(FB_hist.date)\n",
    "FB_hist.set_index(\"date\",inplace=True)\n",
    "GOOG_hist.date = pd.to_datetime(GOOG_hist.date)\n",
    "GOOG_hist.set_index(\"date\",inplace=True)"
   ]
  },
  {
   "cell_type": "markdown",
   "metadata": {},
   "source": [
    "##### After a little search I found top 10 Major Companies Tied to the Apple Supply Chain like \"Analog Devices, Inc (ADI)\", \"Glu Mobile, Inc. (GLUU)\", \"Jabil Circuit Inc. (JBL)\", \"STMicroelectronics (STM)\" ... \n",
    "\n",
    "We can add some of those companies stock to our model"
   ]
  },
  {
   "cell_type": "code",
   "execution_count": 177,
   "metadata": {},
   "outputs": [
    {
     "name": "stderr",
     "output_type": "stream",
     "text": [
      "ERROR:root:Internal Python error in the inspect module.\n",
      "Below is the traceback from this internal error.\n",
      "\n"
     ]
    },
    {
     "name": "stdout",
     "output_type": "stream",
     "text": [
      "Traceback (most recent call last):\n",
      "  File \"/Users/xinpeiwang/anaconda3/lib/python3.7/site-packages/IPython/core/interactiveshell.py\", line 3267, in run_code\n",
      "    exec(code_obj, self.user_global_ns, self.user_ns)\n",
      "  File \"<ipython-input-177-6bbd7b6af92d>\", line 1, in <module>\n",
      "    ADI_hist = pd.DataFrame(data = getHistoricalPrice(Ticker='ADI',rng=\"3y\",interval=1)[\"Stock price\"])\n",
      "KeyError: 'Stock price'\n",
      "\n",
      "During handling of the above exception, another exception occurred:\n",
      "\n",
      "Traceback (most recent call last):\n",
      "  File \"/Users/xinpeiwang/anaconda3/lib/python3.7/site-packages/IPython/core/interactiveshell.py\", line 2018, in showtraceback\n",
      "    stb = value._render_traceback_()\n",
      "AttributeError: 'KeyError' object has no attribute '_render_traceback_'\n",
      "\n",
      "During handling of the above exception, another exception occurred:\n",
      "\n",
      "Traceback (most recent call last):\n",
      "  File \"/Users/xinpeiwang/anaconda3/lib/python3.7/site-packages/IPython/core/ultratb.py\", line 1095, in get_records\n",
      "    return _fixed_getinnerframes(etb, number_of_lines_of_context, tb_offset)\n",
      "  File \"/Users/xinpeiwang/anaconda3/lib/python3.7/site-packages/IPython/core/ultratb.py\", line 313, in wrapped\n",
      "    return f(*args, **kwargs)\n",
      "  File \"/Users/xinpeiwang/anaconda3/lib/python3.7/site-packages/IPython/core/ultratb.py\", line 347, in _fixed_getinnerframes\n",
      "    records = fix_frame_records_filenames(inspect.getinnerframes(etb, context))\n",
      "  File \"/Users/xinpeiwang/anaconda3/lib/python3.7/inspect.py\", line 1500, in getinnerframes\n",
      "    frameinfo = (tb.tb_frame,) + getframeinfo(tb, context)\n",
      "  File \"/Users/xinpeiwang/anaconda3/lib/python3.7/inspect.py\", line 1458, in getframeinfo\n",
      "    filename = getsourcefile(frame) or getfile(frame)\n",
      "  File \"/Users/xinpeiwang/anaconda3/lib/python3.7/inspect.py\", line 696, in getsourcefile\n",
      "    if getattr(getmodule(object, filename), '__loader__', None) is not None:\n",
      "  File \"/Users/xinpeiwang/anaconda3/lib/python3.7/inspect.py\", line 725, in getmodule\n",
      "    file = getabsfile(object, _filename)\n",
      "  File \"/Users/xinpeiwang/anaconda3/lib/python3.7/inspect.py\", line 709, in getabsfile\n",
      "    return os.path.normcase(os.path.abspath(_filename))\n",
      "  File \"/Users/xinpeiwang/anaconda3/lib/python3.7/posixpath.py\", line 376, in abspath\n",
      "    cwd = os.getcwd()\n",
      "FileNotFoundError: [Errno 2] No such file or directory\n"
     ]
    },
    {
     "ename": "KeyError",
     "evalue": "'Stock price'",
     "output_type": "error",
     "traceback": [
      "\u001b[0;31m---------------------------------------------------------------------------\u001b[0m"
     ]
    }
   ],
   "source": [
    "ADI_hist = pd.DataFrame(data = getHistoricalPrice(Ticker='ADI',rng=\"3y\",interval=1)[\"Stock price\"])\n",
    "GLUU_hist = pd.DataFrame(data = getHistoricalPrice(Ticker='GLUU',rng=\"3y\",interval=1)[\"Stock price\"])\n",
    "JBL_hist = pd.DataFrame(data = getHistoricalPrice(Ticker='JBL',rng=\"3y\",interval=1)[\"Stock price\"])\n",
    "#STM_hist = pd.DataFrame(data = getHistoricalPrice(Ticker='STM',rng=\"3y\",interval=1)[\"Stock price\"])"
   ]
  },
  {
   "cell_type": "markdown",
   "metadata": {},
   "source": [
    "Setting Time Index"
   ]
  },
  {
   "cell_type": "code",
   "execution_count": 178,
   "metadata": {},
   "outputs": [
    {
     "name": "stderr",
     "output_type": "stream",
     "text": [
      "ERROR:root:Internal Python error in the inspect module.\n",
      "Below is the traceback from this internal error.\n",
      "\n"
     ]
    },
    {
     "name": "stdout",
     "output_type": "stream",
     "text": [
      "Traceback (most recent call last):\n",
      "  File \"/Users/xinpeiwang/anaconda3/lib/python3.7/site-packages/IPython/core/interactiveshell.py\", line 3267, in run_code\n",
      "    exec(code_obj, self.user_global_ns, self.user_ns)\n",
      "  File \"<ipython-input-178-23d767819db6>\", line 1, in <module>\n",
      "    ADI_hist.date = pd.to_datetime(ADI_hist.date)\n",
      "NameError: name 'ADI_hist' is not defined\n",
      "\n",
      "During handling of the above exception, another exception occurred:\n",
      "\n",
      "Traceback (most recent call last):\n",
      "  File \"/Users/xinpeiwang/anaconda3/lib/python3.7/site-packages/IPython/core/interactiveshell.py\", line 2018, in showtraceback\n",
      "    stb = value._render_traceback_()\n",
      "AttributeError: 'NameError' object has no attribute '_render_traceback_'\n",
      "\n",
      "During handling of the above exception, another exception occurred:\n",
      "\n",
      "Traceback (most recent call last):\n",
      "  File \"/Users/xinpeiwang/anaconda3/lib/python3.7/site-packages/IPython/core/ultratb.py\", line 1095, in get_records\n",
      "    return _fixed_getinnerframes(etb, number_of_lines_of_context, tb_offset)\n",
      "  File \"/Users/xinpeiwang/anaconda3/lib/python3.7/site-packages/IPython/core/ultratb.py\", line 313, in wrapped\n",
      "    return f(*args, **kwargs)\n",
      "  File \"/Users/xinpeiwang/anaconda3/lib/python3.7/site-packages/IPython/core/ultratb.py\", line 347, in _fixed_getinnerframes\n",
      "    records = fix_frame_records_filenames(inspect.getinnerframes(etb, context))\n",
      "  File \"/Users/xinpeiwang/anaconda3/lib/python3.7/inspect.py\", line 1500, in getinnerframes\n",
      "    frameinfo = (tb.tb_frame,) + getframeinfo(tb, context)\n",
      "  File \"/Users/xinpeiwang/anaconda3/lib/python3.7/inspect.py\", line 1458, in getframeinfo\n",
      "    filename = getsourcefile(frame) or getfile(frame)\n",
      "  File \"/Users/xinpeiwang/anaconda3/lib/python3.7/inspect.py\", line 696, in getsourcefile\n",
      "    if getattr(getmodule(object, filename), '__loader__', None) is not None:\n",
      "  File \"/Users/xinpeiwang/anaconda3/lib/python3.7/inspect.py\", line 725, in getmodule\n",
      "    file = getabsfile(object, _filename)\n",
      "  File \"/Users/xinpeiwang/anaconda3/lib/python3.7/inspect.py\", line 709, in getabsfile\n",
      "    return os.path.normcase(os.path.abspath(_filename))\n",
      "  File \"/Users/xinpeiwang/anaconda3/lib/python3.7/posixpath.py\", line 376, in abspath\n",
      "    cwd = os.getcwd()\n",
      "FileNotFoundError: [Errno 2] No such file or directory\n"
     ]
    },
    {
     "ename": "NameError",
     "evalue": "name 'ADI_hist' is not defined",
     "output_type": "error",
     "traceback": [
      "\u001b[0;31m---------------------------------------------------------------------------\u001b[0m"
     ]
    }
   ],
   "source": [
    "ADI_hist.date = pd.to_datetime(ADI_hist.date)\n",
    "ADI_hist.set_index(\"date\",inplace=True)\n",
    "GLUU_hist.date = pd.to_datetime(GLUU_hist.date)\n",
    "GLUU_hist.set_index(\"date\",inplace=True)\n",
    "JBL_hist.date = pd.to_datetime(JBL_hist.date)\n",
    "JBL_hist.set_index(\"date\",inplace=True)"
   ]
  },
  {
   "cell_type": "markdown",
   "metadata": {},
   "source": [
    "We will create two more features, One for related field companies and the Other for the tied to the apple supply chain"
   ]
  },
  {
   "cell_type": "markdown",
   "metadata": {},
   "source": [
    "##### Related field dataframe"
   ]
  },
  {
   "cell_type": "code",
   "execution_count": 179,
   "metadata": {},
   "outputs": [
    {
     "name": "stderr",
     "output_type": "stream",
     "text": [
      "ERROR:root:Internal Python error in the inspect module.\n",
      "Below is the traceback from this internal error.\n",
      "\n"
     ]
    },
    {
     "name": "stdout",
     "output_type": "stream",
     "text": [
      "Traceback (most recent call last):\n",
      "  File \"/Users/xinpeiwang/anaconda3/lib/python3.7/site-packages/IPython/core/interactiveshell.py\", line 3267, in run_code\n",
      "    exec(code_obj, self.user_global_ns, self.user_ns)\n",
      "  File \"<ipython-input-179-043817b576c7>\", line 1, in <module>\n",
      "    Related_field = pd.merge(AMZN_hist[['close','volume']],FB_hist[['close','volume']],how='left',on='date',suffixes=('_AMZN','_FB'))\n",
      "NameError: name 'AMZN_hist' is not defined\n",
      "\n",
      "During handling of the above exception, another exception occurred:\n",
      "\n",
      "Traceback (most recent call last):\n",
      "  File \"/Users/xinpeiwang/anaconda3/lib/python3.7/site-packages/IPython/core/interactiveshell.py\", line 2018, in showtraceback\n",
      "    stb = value._render_traceback_()\n",
      "AttributeError: 'NameError' object has no attribute '_render_traceback_'\n",
      "\n",
      "During handling of the above exception, another exception occurred:\n",
      "\n",
      "Traceback (most recent call last):\n",
      "  File \"/Users/xinpeiwang/anaconda3/lib/python3.7/site-packages/IPython/core/ultratb.py\", line 1095, in get_records\n",
      "    return _fixed_getinnerframes(etb, number_of_lines_of_context, tb_offset)\n",
      "  File \"/Users/xinpeiwang/anaconda3/lib/python3.7/site-packages/IPython/core/ultratb.py\", line 313, in wrapped\n",
      "    return f(*args, **kwargs)\n",
      "  File \"/Users/xinpeiwang/anaconda3/lib/python3.7/site-packages/IPython/core/ultratb.py\", line 347, in _fixed_getinnerframes\n",
      "    records = fix_frame_records_filenames(inspect.getinnerframes(etb, context))\n",
      "  File \"/Users/xinpeiwang/anaconda3/lib/python3.7/inspect.py\", line 1500, in getinnerframes\n",
      "    frameinfo = (tb.tb_frame,) + getframeinfo(tb, context)\n",
      "  File \"/Users/xinpeiwang/anaconda3/lib/python3.7/inspect.py\", line 1458, in getframeinfo\n",
      "    filename = getsourcefile(frame) or getfile(frame)\n",
      "  File \"/Users/xinpeiwang/anaconda3/lib/python3.7/inspect.py\", line 696, in getsourcefile\n",
      "    if getattr(getmodule(object, filename), '__loader__', None) is not None:\n",
      "  File \"/Users/xinpeiwang/anaconda3/lib/python3.7/inspect.py\", line 725, in getmodule\n",
      "    file = getabsfile(object, _filename)\n",
      "  File \"/Users/xinpeiwang/anaconda3/lib/python3.7/inspect.py\", line 709, in getabsfile\n",
      "    return os.path.normcase(os.path.abspath(_filename))\n",
      "  File \"/Users/xinpeiwang/anaconda3/lib/python3.7/posixpath.py\", line 376, in abspath\n",
      "    cwd = os.getcwd()\n",
      "FileNotFoundError: [Errno 2] No such file or directory\n"
     ]
    },
    {
     "ename": "NameError",
     "evalue": "name 'AMZN_hist' is not defined",
     "output_type": "error",
     "traceback": [
      "\u001b[0;31m---------------------------------------------------------------------------\u001b[0m"
     ]
    }
   ],
   "source": [
    "Related_field = pd.merge(AMZN_hist[['close','volume']],FB_hist[['close','volume']],how='left',on='date',suffixes=('_AMZN','_FB'))\n",
    "Related_field = pd.merge(Related_field,GOOG_hist[['close','volume']],how='left',on='date',suffixes=('','_GOOG'))"
   ]
  },
  {
   "cell_type": "markdown",
   "metadata": {},
   "source": [
    "##### Tied to supply chain"
   ]
  },
  {
   "cell_type": "code",
   "execution_count": 27,
   "metadata": {},
   "outputs": [],
   "source": [
    "Supply_chain = pd.merge(ADI_hist[['close','volume']],GLUU_hist[['close','volume']],how='left',on='date',suffixes=('_ADI','_GLUU'))\n",
    "Supply_chain = pd.merge(Supply_chain,JBL_hist[['close','volume']],how='left',on='date',suffixes=('','_JBL'))"
   ]
  },
  {
   "cell_type": "markdown",
   "metadata": {},
   "source": [
    "Scaling Values for volume and close"
   ]
  },
  {
   "cell_type": "code",
   "execution_count": 28,
   "metadata": {},
   "outputs": [],
   "source": [
    "from sklearn.preprocessing import StandardScaler\n",
    "\n",
    "scaler = StandardScaler()\n",
    "\n",
    "scaler.fit(Related_field.fillna(0))\n",
    "Related_field_fit = scaler.transform(Related_field.fillna(0))\n",
    "\n",
    "scaler.fit(Supply_chain.fillna(0))\n",
    "Supply_chain_fit = scaler.transform(Supply_chain.fillna(0))"
   ]
  },
  {
   "cell_type": "code",
   "execution_count": 29,
   "metadata": {},
   "outputs": [],
   "source": [
    "Related_field = pd.DataFrame(Related_field_fit,index=Related_field.index,columns=Related_field.columns)\n",
    "Supply_chain = pd.DataFrame(Supply_chain_fit,index=Supply_chain.index,columns=Supply_chain.columns)"
   ]
  },
  {
   "cell_type": "markdown",
   "metadata": {},
   "source": [
    "Now extract the mean of each"
   ]
  },
  {
   "cell_type": "code",
   "execution_count": 30,
   "metadata": {},
   "outputs": [],
   "source": [
    "Related_field[\"Related_field_close_mean\"] = Related_field[[\"close_AMZN\",\"close_FB\",\"close\"]].mean(axis=1)\n",
    "Related_field[\"Related_field_volume_mean\"] = Related_field[[\"volume_AMZN\",\"volume_FB\",\"volume\"]].mean(axis=1)"
   ]
  },
  {
   "cell_type": "code",
   "execution_count": 31,
   "metadata": {},
   "outputs": [],
   "source": [
    "Supply_chain[\"Supply_chain_close_mean\"] = Supply_chain[[\"close_ADI\",\"close_GLUU\",\"close\"]].mean(axis=1)\n",
    "Supply_chain[\"Supply_chain_volume_mean\"] = Supply_chain[[\"volume_ADI\",\"volume_GLUU\",\"volume\"]].mean(axis=1)"
   ]
  },
  {
   "cell_type": "markdown",
   "metadata": {},
   "source": [
    "#### Now we merge all data to AAPL_hist dataframe"
   ]
  },
  {
   "cell_type": "code",
   "execution_count": 32,
   "metadata": {},
   "outputs": [],
   "source": [
    "AAPL_hist[\"Related_field_close_mean\"] = Related_field[\"Related_field_close_mean\"]\n",
    "AAPL_hist[\"Related_field_volume_mean\"] =Related_field[\"Related_field_volume_mean\"]\n",
    "AAPL_hist[\"Supply_chain_close_mean\"] = Supply_chain[\"Supply_chain_close_mean\"]\n",
    "AAPL_hist[\"Supply_chain_volume_mean\"] = Supply_chain[\"Supply_chain_volume_mean\"]"
   ]
  },
  {
   "cell_type": "markdown",
   "metadata": {},
   "source": [
    "Standardizing AAPL features"
   ]
  },
  {
   "cell_type": "code",
   "execution_count": 35,
   "metadata": {},
   "outputs": [],
   "source": [
    "scaler = StandardScaler()\n",
    "scaler.fit(AAPL_hist[['adj_close', 'close', 'high', 'low', 'open', 'volume','weekely_close_window_mean','monthly_close_window_mean','weekely_volume_window_mean','monthly_volume_window_mean']])\n",
    "AAPL_hist_fit = scaler.transform(AAPL_hist[['adj_close', 'close', 'high', 'low', 'open', 'volume','weekely_close_window_mean','monthly_close_window_mean','weekely_volume_window_mean','monthly_volume_window_mean']])\n",
    "AAPL_hist[['adj_close', 'close', 'high', 'low', 'open', 'volume','weekely_close_window_mean','monthly_close_window_mean','weekely_volume_window_mean','monthly_volume_window_mean']] = AAPL_hist_fit"
   ]
  },
  {
   "cell_type": "markdown",
   "metadata": {},
   "source": [
    "Filling missing values"
   ]
  },
  {
   "cell_type": "code",
   "execution_count": 36,
   "metadata": {
    "scrolled": true
   },
   "outputs": [
    {
     "data": {
      "text/plain": [
       "adj_close                     0\n",
       "close                         0\n",
       "high                          0\n",
       "low                           0\n",
       "open                          0\n",
       "volume                        0\n",
       "anomaly                       0\n",
       "weekely_close_window_mean     0\n",
       "monthly_close_window_mean     0\n",
       "weekely_volume_window_mean    0\n",
       "monthly_volume_window_mean    0\n",
       "lastAnomaly_AAPL              0\n",
       "Related_field_close_mean      3\n",
       "Related_field_volume_mean     3\n",
       "Supply_chain_close_mean       3\n",
       "Supply_chain_volume_mean      3\n",
       "dtype: int64"
      ]
     },
     "execution_count": 36,
     "metadata": {},
     "output_type": "execute_result"
    }
   ],
   "source": [
    "AAPL_hist.isnull().sum(axis = 0)"
   ]
  },
  {
   "cell_type": "code",
   "execution_count": 37,
   "metadata": {},
   "outputs": [],
   "source": [
    "AAPL_hist.fillna(0,inplace=True)"
   ]
  },
  {
   "cell_type": "code",
   "execution_count": 38,
   "metadata": {},
   "outputs": [],
   "source": [
    "AAPL_hist.drop(['anomaly'],axis=1,inplace=True)"
   ]
  },
  {
   "cell_type": "code",
   "execution_count": 39,
   "metadata": {},
   "outputs": [],
   "source": [
    "AAPL_hist.to_csv(\"clean_Stock_data.csv\",index=True)"
   ]
  },
  {
   "cell_type": "code",
   "execution_count": 40,
   "metadata": {},
   "outputs": [],
   "source": [
    "AAPL_hist.to_csv(\"clean_Stock_data_no_index.csv\",index=False)"
   ]
  },
  {
   "cell_type": "markdown",
   "metadata": {},
   "source": [
    "# Model building"
   ]
  },
  {
   "cell_type": "markdown",
   "metadata": {},
   "source": [
    "Rearranging columns"
   ]
  },
  {
   "cell_type": "code",
   "execution_count": 41,
   "metadata": {},
   "outputs": [],
   "source": [
    "cols = AAPL_hist.columns.tolist()\n",
    "type(cols)\n",
    "cols.remove('close')\n",
    "cols.append('close')\n",
    "AAPL_hist = AAPL_hist[cols]"
   ]
  },
  {
   "cell_type": "markdown",
   "metadata": {},
   "source": [
    "## We will use a RNNs with basic, LSTM, GRU cells"
   ]
  },
  {
   "cell_type": "markdown",
   "metadata": {},
   "source": [
    "### First method"
   ]
  },
  {
   "cell_type": "code",
   "execution_count": 183,
   "metadata": {},
   "outputs": [
    {
     "name": "stderr",
     "output_type": "stream",
     "text": [
      "ERROR:root:Internal Python error in the inspect module.\n",
      "Below is the traceback from this internal error.\n",
      "\n"
     ]
    },
    {
     "name": "stdout",
     "output_type": "stream",
     "text": [
      "Traceback (most recent call last):\n",
      "  File \"/Users/xinpeiwang/anaconda3/lib/python3.7/site-packages/IPython/core/interactiveshell.py\", line 3267, in run_code\n",
      "    exec(code_obj, self.user_global_ns, self.user_ns)\n",
      "  File \"<ipython-input-183-68a691baeb20>\", line 3, in <module>\n",
      "    from keras.models import Sequential\n",
      "ModuleNotFoundError: No module named 'keras'\n",
      "\n",
      "During handling of the above exception, another exception occurred:\n",
      "\n",
      "Traceback (most recent call last):\n",
      "  File \"/Users/xinpeiwang/anaconda3/lib/python3.7/site-packages/IPython/core/interactiveshell.py\", line 2018, in showtraceback\n",
      "    stb = value._render_traceback_()\n",
      "AttributeError: 'ModuleNotFoundError' object has no attribute '_render_traceback_'\n",
      "\n",
      "During handling of the above exception, another exception occurred:\n",
      "\n",
      "Traceback (most recent call last):\n",
      "  File \"/Users/xinpeiwang/anaconda3/lib/python3.7/site-packages/IPython/core/ultratb.py\", line 1095, in get_records\n",
      "    return _fixed_getinnerframes(etb, number_of_lines_of_context, tb_offset)\n",
      "  File \"/Users/xinpeiwang/anaconda3/lib/python3.7/site-packages/IPython/core/ultratb.py\", line 313, in wrapped\n",
      "    return f(*args, **kwargs)\n",
      "  File \"/Users/xinpeiwang/anaconda3/lib/python3.7/site-packages/IPython/core/ultratb.py\", line 347, in _fixed_getinnerframes\n",
      "    records = fix_frame_records_filenames(inspect.getinnerframes(etb, context))\n",
      "  File \"/Users/xinpeiwang/anaconda3/lib/python3.7/inspect.py\", line 1500, in getinnerframes\n",
      "    frameinfo = (tb.tb_frame,) + getframeinfo(tb, context)\n",
      "  File \"/Users/xinpeiwang/anaconda3/lib/python3.7/inspect.py\", line 1458, in getframeinfo\n",
      "    filename = getsourcefile(frame) or getfile(frame)\n",
      "  File \"/Users/xinpeiwang/anaconda3/lib/python3.7/inspect.py\", line 696, in getsourcefile\n",
      "    if getattr(getmodule(object, filename), '__loader__', None) is not None:\n",
      "  File \"/Users/xinpeiwang/anaconda3/lib/python3.7/inspect.py\", line 725, in getmodule\n",
      "    file = getabsfile(object, _filename)\n",
      "  File \"/Users/xinpeiwang/anaconda3/lib/python3.7/inspect.py\", line 709, in getabsfile\n",
      "    return os.path.normcase(os.path.abspath(_filename))\n",
      "  File \"/Users/xinpeiwang/anaconda3/lib/python3.7/posixpath.py\", line 376, in abspath\n",
      "    cwd = os.getcwd()\n",
      "FileNotFoundError: [Errno 2] No such file or directory\n"
     ]
    },
    {
     "ename": "ModuleNotFoundError",
     "evalue": "No module named 'keras'",
     "output_type": "error",
     "traceback": [
      "\u001b[0;31m---------------------------------------------------------------------------\u001b[0m"
     ]
    }
   ],
   "source": [
    "import matplotlib.pyplot as plt\n",
    "import math\n",
    "from keras.models import Sequential\n",
    "from keras.layers import Dense\n",
    "from keras.layers import LSTM\n",
    "from sklearn.preprocessing import MinMaxScaler\n",
    "from sklearn.metrics import mean_squared_error\n",
    "import numpy"
   ]
  },
  {
   "cell_type": "code",
   "execution_count": 184,
   "metadata": {},
   "outputs": [
    {
     "name": "stderr",
     "output_type": "stream",
     "text": [
      "ERROR:root:Internal Python error in the inspect module.\n",
      "Below is the traceback from this internal error.\n",
      "\n"
     ]
    },
    {
     "name": "stdout",
     "output_type": "stream",
     "text": [
      "Traceback (most recent call last):\n",
      "  File \"/Users/xinpeiwang/anaconda3/lib/python3.7/site-packages/IPython/core/interactiveshell.py\", line 3267, in run_code\n",
      "    exec(code_obj, self.user_global_ns, self.user_ns)\n",
      "  File \"<ipython-input-184-0cc2c2aece67>\", line 2, in <module>\n",
      "    dataframe = pd.read_csv('clean_Stock_data_no_index.csv', engine='python', skipfooter=3)\n",
      "  File \"/Users/xinpeiwang/anaconda3/lib/python3.7/site-packages/pandas/io/parsers.py\", line 678, in parser_f\n",
      "    return _read(filepath_or_buffer, kwds)\n",
      "  File \"/Users/xinpeiwang/anaconda3/lib/python3.7/site-packages/pandas/io/parsers.py\", line 440, in _read\n",
      "    parser = TextFileReader(filepath_or_buffer, **kwds)\n",
      "  File \"/Users/xinpeiwang/anaconda3/lib/python3.7/site-packages/pandas/io/parsers.py\", line 787, in __init__\n",
      "    self._make_engine(self.engine)\n",
      "  File \"/Users/xinpeiwang/anaconda3/lib/python3.7/site-packages/pandas/io/parsers.py\", line 1024, in _make_engine\n",
      "    self._engine = klass(self.f, **self.options)\n",
      "  File \"/Users/xinpeiwang/anaconda3/lib/python3.7/site-packages/pandas/io/parsers.py\", line 2077, in __init__\n",
      "    memory_map=self.memory_map)\n",
      "  File \"/Users/xinpeiwang/anaconda3/lib/python3.7/site-packages/pandas/io/common.py\", line 403, in _get_handle\n",
      "    f = open(path_or_buf, mode, errors='replace')\n",
      "FileNotFoundError: [Errno 2] No such file or directory: 'clean_Stock_data_no_index.csv'\n",
      "\n",
      "During handling of the above exception, another exception occurred:\n",
      "\n",
      "Traceback (most recent call last):\n",
      "  File \"/Users/xinpeiwang/anaconda3/lib/python3.7/site-packages/IPython/core/interactiveshell.py\", line 2018, in showtraceback\n",
      "    stb = value._render_traceback_()\n",
      "AttributeError: 'FileNotFoundError' object has no attribute '_render_traceback_'\n",
      "\n",
      "During handling of the above exception, another exception occurred:\n",
      "\n",
      "Traceback (most recent call last):\n",
      "  File \"/Users/xinpeiwang/anaconda3/lib/python3.7/site-packages/IPython/core/ultratb.py\", line 1095, in get_records\n",
      "    return _fixed_getinnerframes(etb, number_of_lines_of_context, tb_offset)\n",
      "  File \"/Users/xinpeiwang/anaconda3/lib/python3.7/site-packages/IPython/core/ultratb.py\", line 313, in wrapped\n",
      "    return f(*args, **kwargs)\n",
      "  File \"/Users/xinpeiwang/anaconda3/lib/python3.7/site-packages/IPython/core/ultratb.py\", line 347, in _fixed_getinnerframes\n",
      "    records = fix_frame_records_filenames(inspect.getinnerframes(etb, context))\n",
      "  File \"/Users/xinpeiwang/anaconda3/lib/python3.7/inspect.py\", line 1500, in getinnerframes\n",
      "    frameinfo = (tb.tb_frame,) + getframeinfo(tb, context)\n",
      "  File \"/Users/xinpeiwang/anaconda3/lib/python3.7/inspect.py\", line 1458, in getframeinfo\n",
      "    filename = getsourcefile(frame) or getfile(frame)\n",
      "  File \"/Users/xinpeiwang/anaconda3/lib/python3.7/inspect.py\", line 696, in getsourcefile\n",
      "    if getattr(getmodule(object, filename), '__loader__', None) is not None:\n",
      "  File \"/Users/xinpeiwang/anaconda3/lib/python3.7/inspect.py\", line 725, in getmodule\n",
      "    file = getabsfile(object, _filename)\n",
      "  File \"/Users/xinpeiwang/anaconda3/lib/python3.7/inspect.py\", line 709, in getabsfile\n",
      "    return os.path.normcase(os.path.abspath(_filename))\n",
      "  File \"/Users/xinpeiwang/anaconda3/lib/python3.7/posixpath.py\", line 376, in abspath\n",
      "    cwd = os.getcwd()\n",
      "FileNotFoundError: [Errno 2] No such file or directory\n"
     ]
    },
    {
     "ename": "FileNotFoundError",
     "evalue": "[Errno 2] No such file or directory: 'clean_Stock_data_no_index.csv'",
     "output_type": "error",
     "traceback": [
      "\u001b[0;31m---------------------------------------------------------------------------\u001b[0m"
     ]
    }
   ],
   "source": [
    "# load the dataset\n",
    "dataframe = pd.read_csv('clean_Stock_data_no_index.csv', engine='python', skipfooter=3)\n",
    "dataset = dataframe.values\n",
    "dataset = dataset.astype('float32')"
   ]
  },
  {
   "cell_type": "code",
   "execution_count": 44,
   "metadata": {},
   "outputs": [
    {
     "name": "stdout",
     "output_type": "stream",
     "text": [
      "892 440\n"
     ]
    }
   ],
   "source": [
    "# split into train and test sets\n",
    "train_size = int(len(dataset) * 0.67)\n",
    "test_size = len(dataset) - train_size\n",
    "train, test = dataset[0:train_size,:], dataset[train_size:len(dataset),:]\n",
    "print(len(train), len(test))"
   ]
  },
  {
   "cell_type": "code",
   "execution_count": 45,
   "metadata": {},
   "outputs": [],
   "source": [
    "# convert an array of values into a dataset matrix\n",
    "def create_dataset(dataset, look_back=1):\n",
    "    dataX, dataY = [], []\n",
    "    for i in range(len(dataset)-look_back-1):\n",
    "        a = dataset[i:(i+look_back), :dataset.shape[1]-1]\n",
    "        dataX.append(a)\n",
    "        dataY.append(dataset[i + look_back, dataset.shape[1]-1])\n",
    "    return numpy.array(dataX), numpy.array(dataY)"
   ]
  },
  {
   "cell_type": "code",
   "execution_count": 46,
   "metadata": {},
   "outputs": [],
   "source": [
    "# reshape into X=t and Y=t+1\n",
    "look_back = 1\n",
    "trainX, trainY = create_dataset(train, look_back)\n",
    "testX, testY = create_dataset(test, look_back)"
   ]
  },
  {
   "cell_type": "code",
   "execution_count": 47,
   "metadata": {},
   "outputs": [],
   "source": [
    "# reshape input to be [samples, time steps, features]\n",
    "trainX = numpy.reshape(trainX, (trainX.shape[0], dataset.shape[1]-1, trainX.shape[1]))\n",
    "testX = numpy.reshape(testX, (testX.shape[0], dataset.shape[1]-1, testX.shape[1]))"
   ]
  },
  {
   "cell_type": "code",
   "execution_count": 48,
   "metadata": {},
   "outputs": [
    {
     "name": "stdout",
     "output_type": "stream",
     "text": [
      "Epoch 1/100\n",
      " - 7s - loss: 0.2791\n",
      "Epoch 2/100\n",
      " - 6s - loss: 0.2764\n",
      "Epoch 3/100\n",
      " - 6s - loss: 0.2731\n",
      "Epoch 4/100\n",
      " - 8s - loss: 0.2684\n",
      "Epoch 5/100\n",
      " - 7s - loss: 0.2639\n",
      "Epoch 6/100\n",
      " - 6s - loss: 0.2597\n",
      "Epoch 7/100\n",
      " - 6s - loss: 0.2561\n",
      "Epoch 8/100\n",
      " - 6s - loss: 0.2519\n",
      "Epoch 9/100\n",
      " - 7s - loss: 0.2498\n",
      "Epoch 10/100\n",
      " - 8s - loss: 0.2450\n",
      "Epoch 11/100\n",
      " - 8s - loss: 0.2420\n",
      "Epoch 12/100\n",
      " - 6s - loss: 0.2391\n",
      "Epoch 13/100\n",
      " - 7s - loss: 0.2372\n",
      "Epoch 14/100\n",
      " - 7s - loss: 0.2368\n",
      "Epoch 15/100\n",
      " - 6s - loss: 0.2362\n",
      "Epoch 16/100\n",
      " - 6s - loss: 0.2346\n",
      "Epoch 17/100\n",
      " - 6s - loss: 0.2324\n",
      "Epoch 18/100\n",
      " - 6s - loss: 0.2323\n",
      "Epoch 19/100\n",
      " - 6s - loss: 0.2347\n",
      "Epoch 20/100\n",
      " - 6s - loss: 0.2326\n",
      "Epoch 21/100\n",
      " - 6s - loss: 0.2317\n",
      "Epoch 22/100\n",
      " - 6s - loss: 0.2493\n",
      "Epoch 23/100\n",
      " - 6s - loss: 0.2308\n",
      "Epoch 24/100\n",
      " - 7s - loss: 0.2316\n",
      "Epoch 25/100\n",
      " - 6s - loss: 0.2316\n",
      "Epoch 26/100\n",
      " - 6s - loss: 0.2310\n",
      "Epoch 27/100\n",
      " - 6s - loss: 0.2304\n",
      "Epoch 28/100\n",
      " - 7s - loss: 0.2295\n",
      "Epoch 29/100\n",
      " - 7s - loss: 0.2297\n",
      "Epoch 30/100\n",
      " - 7s - loss: 0.2289\n",
      "Epoch 31/100\n",
      " - 7s - loss: 0.2296\n",
      "Epoch 32/100\n",
      " - 6s - loss: 0.2287\n",
      "Epoch 33/100\n",
      " - 6s - loss: 0.2286\n",
      "Epoch 34/100\n",
      " - 6s - loss: 0.2290\n",
      "Epoch 35/100\n",
      " - 6s - loss: 0.2277\n",
      "Epoch 36/100\n",
      " - 7s - loss: 0.2274\n",
      "Epoch 37/100\n",
      " - 6s - loss: 0.2270\n",
      "Epoch 38/100\n",
      " - 6s - loss: 0.2260\n",
      "Epoch 39/100\n",
      " - 6s - loss: 0.2283\n",
      "Epoch 40/100\n",
      " - 7s - loss: 0.2263\n",
      "Epoch 41/100\n",
      " - 5s - loss: 0.2266\n",
      "Epoch 42/100\n",
      " - 7s - loss: 0.2270\n",
      "Epoch 43/100\n",
      " - 5s - loss: 0.2256\n",
      "Epoch 44/100\n",
      " - 6s - loss: 0.2273\n",
      "Epoch 45/100\n",
      " - 6s - loss: 0.2250\n",
      "Epoch 46/100\n",
      " - 6s - loss: 0.2250\n",
      "Epoch 47/100\n",
      " - 6s - loss: 0.2246\n",
      "Epoch 48/100\n",
      " - 6s - loss: 0.2263\n",
      "Epoch 49/100\n",
      " - 7s - loss: 0.2246\n",
      "Epoch 50/100\n",
      " - 6s - loss: 0.2246\n",
      "Epoch 51/100\n",
      " - 7s - loss: 0.2243\n",
      "Epoch 52/100\n",
      " - 5s - loss: 0.2236\n",
      "Epoch 53/100\n",
      " - 6s - loss: 0.2228\n",
      "Epoch 54/100\n",
      " - 6s - loss: 0.2240\n",
      "Epoch 55/100\n",
      " - 6s - loss: 0.2226\n",
      "Epoch 56/100\n",
      " - 5s - loss: 0.2228\n",
      "Epoch 57/100\n",
      " - 6s - loss: 0.2227\n",
      "Epoch 58/100\n",
      " - 6s - loss: 0.2234\n",
      "Epoch 59/100\n",
      " - 6s - loss: 0.2220\n",
      "Epoch 60/100\n",
      " - 6s - loss: 0.2216\n",
      "Epoch 61/100\n",
      " - 6s - loss: 0.2267\n",
      "Epoch 62/100\n",
      " - 6s - loss: 0.2223\n",
      "Epoch 63/100\n",
      " - 6s - loss: 0.2221\n",
      "Epoch 64/100\n",
      " - 6s - loss: 0.2210\n",
      "Epoch 65/100\n",
      " - 5s - loss: 0.2231\n",
      "Epoch 66/100\n",
      " - 6s - loss: 0.2221\n",
      "Epoch 67/100\n",
      " - 5s - loss: 0.2222\n",
      "Epoch 68/100\n",
      " - 6s - loss: 0.2218\n",
      "Epoch 69/100\n",
      " - 6s - loss: 0.2216\n",
      "Epoch 70/100\n",
      " - 6s - loss: 0.2216\n",
      "Epoch 71/100\n",
      " - 6s - loss: 0.2230\n",
      "Epoch 72/100\n",
      " - 5s - loss: 0.2201\n",
      "Epoch 73/100\n",
      " - 6s - loss: 0.2201\n",
      "Epoch 74/100\n",
      " - 6s - loss: 0.2215\n",
      "Epoch 75/100\n",
      " - 6s - loss: 0.2218\n",
      "Epoch 76/100\n",
      " - 6s - loss: 0.2211\n",
      "Epoch 77/100\n",
      " - 6s - loss: 0.2207\n",
      "Epoch 78/100\n",
      " - 6s - loss: 0.2194\n",
      "Epoch 79/100\n",
      " - 6s - loss: 0.2201\n",
      "Epoch 80/100\n",
      " - 6s - loss: 0.2203\n",
      "Epoch 81/100\n",
      " - 6s - loss: 0.2198\n",
      "Epoch 82/100\n",
      " - 6s - loss: 0.2199\n",
      "Epoch 83/100\n",
      " - 6s - loss: 0.2201\n",
      "Epoch 84/100\n",
      " - 6s - loss: 0.2201\n",
      "Epoch 85/100\n",
      " - 6s - loss: 0.2213\n",
      "Epoch 86/100\n",
      " - 6s - loss: 0.2401\n",
      "Epoch 87/100\n",
      " - 6s - loss: 0.2211\n",
      "Epoch 88/100\n",
      " - 6s - loss: 0.2189\n",
      "Epoch 89/100\n",
      " - 6s - loss: 0.2197\n",
      "Epoch 90/100\n",
      " - 6s - loss: 0.2205\n",
      "Epoch 91/100\n",
      " - 6s - loss: 0.2188\n",
      "Epoch 92/100\n",
      " - 6s - loss: 0.2190\n",
      "Epoch 93/100\n",
      " - 7s - loss: 0.2192\n",
      "Epoch 94/100\n",
      " - 6s - loss: 0.2218\n",
      "Epoch 95/100\n",
      " - 7s - loss: 0.2187\n",
      "Epoch 96/100\n",
      " - 6s - loss: 0.2187\n",
      "Epoch 97/100\n",
      " - 6s - loss: 0.2228\n",
      "Epoch 98/100\n",
      " - 6s - loss: 0.2189\n",
      "Epoch 99/100\n",
      " - 7s - loss: 0.2191\n",
      "Epoch 100/100\n",
      " - 6s - loss: 0.2193\n"
     ]
    },
    {
     "data": {
      "text/plain": [
       "<keras.callbacks.History at 0x1fdb45f1518>"
      ]
     },
     "execution_count": 48,
     "metadata": {},
     "output_type": "execute_result"
    }
   ],
   "source": [
    "# create and fit the LSTM network\n",
    "model = Sequential()\n",
    "model.add(LSTM(4, input_shape=(dataset.shape[1]-1, look_back)))\n",
    "model.add(Dense(1))\n",
    "model.compile(loss='mean_squared_error', optimizer='adam')\n",
    "model.fit(trainX, trainY, epochs=100, batch_size=1, verbose=2)"
   ]
  },
  {
   "cell_type": "code",
   "execution_count": 49,
   "metadata": {},
   "outputs": [
    {
     "name": "stdout",
     "output_type": "stream",
     "text": [
      "Train Score: 0.46 RMSE\n",
      "Test Score: 0.70 RMSE\n"
     ]
    }
   ],
   "source": [
    "# make predictions\n",
    "trainPredict = model.predict(trainX)\n",
    "testPredict = model.predict(testX)\n",
    "\n",
    "# calculate root mean squared error\n",
    "trainScore = math.sqrt(mean_squared_error(trainY, trainPredict[:,0]))\n",
    "print('Train Score: %.2f RMSE' % (trainScore))\n",
    "testScore = math.sqrt(mean_squared_error(testY, testPredict[:,0]))\n",
    "print('Test Score: %.2f RMSE' % (testScore))"
   ]
  },
  {
   "cell_type": "code",
   "execution_count": 50,
   "metadata": {},
   "outputs": [
    {
     "data": {
      "text/plain": [
       "[<matplotlib.lines.Line2D at 0x1fdb724a048>]"
      ]
     },
     "execution_count": 50,
     "metadata": {},
     "output_type": "execute_result"
    },
    {
     "data": {
      "image/png": "[encoded data removed]",
      "text/plain": [
       "<Figure size 432x288 with 1 Axes>"
      ]
     },
     "metadata": {},
     "output_type": "display_data"
    }
   ],
   "source": [
    "plt.plot(trainY)\n",
    "plt.plot(trainPredict)"
   ]
  },
  {
   "cell_type": "markdown",
   "metadata": {},
   "source": [
    "### Second Method"
   ]
  },
  {
   "cell_type": "code",
   "execution_count": 51,
   "metadata": {},
   "outputs": [],
   "source": [
    "import tensorflow as tf\n",
    "\n",
    "# split data in 80%/10%/10% train/validation/test sets\n",
    "valid_set_size_percentage = 10 \n",
    "test_set_size_percentage = 10 "
   ]
  },
  {
   "cell_type": "code",
   "execution_count": 52,
   "metadata": {},
   "outputs": [],
   "source": [
    "def load_data(stock, seq_len):\n",
    "    data_raw = stock.as_matrix() # convert to numpy array\n",
    "    data = []\n",
    "    \n",
    "    # create all possible sequences of length seq_len\n",
    "    for index in range(len(data_raw) - seq_len): \n",
    "        data.append(data_raw[index: index + seq_len])\n",
    "    \n",
    "    data = np.array(data);\n",
    "    valid_set_size = int(np.round(valid_set_size_percentage/100*data.shape[0]));  \n",
    "    test_set_size = int(np.round(test_set_size_percentage/100*data.shape[0]));\n",
    "    train_set_size = data.shape[0] - (valid_set_size + test_set_size);\n",
    "    \n",
    "    x_train = data[:train_set_size,:-1,:]\n",
    "    y_train = data[:train_set_size,-1,:]\n",
    "    \n",
    "    x_valid = data[train_set_size:train_set_size+valid_set_size,:-1,:]\n",
    "    y_valid = data[train_set_size:train_set_size+valid_set_size,-1,:]\n",
    "    \n",
    "    x_test = data[train_set_size+valid_set_size:,:-1,:]\n",
    "    y_test = data[train_set_size+valid_set_size:,-1,:]\n",
    "    \n",
    "    return [x_train, y_train, x_valid, y_valid, x_test, y_test]"
   ]
  },
  {
   "cell_type": "code",
   "execution_count": 53,
   "metadata": {},
   "outputs": [
    {
     "name": "stdout",
     "output_type": "stream",
     "text": [
      "x_train.shape =  (1051, 19, 15)\n",
      "y_train.shape =  (1051, 15)\n",
      "x_valid.shape =  (132, 19, 15)\n",
      "y_valid.shape =  (132, 15)\n",
      "x_test.shape =  (132, 19, 15)\n",
      "y_test.shape =  (132, 15)\n"
     ]
    },
    {
     "name": "stderr",
     "output_type": "stream",
     "text": [
      "D:\\Anaconda3\\lib\\site-packages\\ipykernel_launcher.py:2: FutureWarning: Method .as_matrix will be removed in a future version. Use .values instead.\n",
      "  \n"
     ]
    }
   ],
   "source": [
    "# create train, test data\n",
    "seq_len = 20 # choose sequence length\n",
    "x_train, y_train, x_valid, y_valid, x_test, y_test = load_data(AAPL_hist, seq_len)\n",
    "print('x_train.shape = ',x_train.shape)\n",
    "print('y_train.shape = ', y_train.shape)\n",
    "print('x_valid.shape = ',x_valid.shape)\n",
    "print('y_valid.shape = ', y_valid.shape)\n",
    "print('x_test.shape = ', x_test.shape)\n",
    "print('y_test.shape = ',y_test.shape)"
   ]
  },
  {
   "cell_type": "code",
   "execution_count": 54,
   "metadata": {},
   "outputs": [
    {
     "name": "stdout",
     "output_type": "stream",
     "text": [
      "WARNING:tensorflow:From <ipython-input-54-70134432c6d2>:40: BasicRNNCell.__init__ (from tensorflow.python.ops.rnn_cell_impl) is deprecated and will be removed in a future version.\n",
      "Instructions for updating:\n",
      "This class is equivalent as tf.keras.layers.SimpleRNNCell, and will be replaced by that in Tensorflow 2.0.\n",
      "0.00 epochs: MSE train/valid = 924.753357/60.628922\n",
      "5.00 epochs: MSE train/valid = 16.248083/4.127186\n",
      "9.99 epochs: MSE train/valid = 15.219675/4.040225\n",
      "14.99 epochs: MSE train/valid = 21.390024/4.137837\n",
      "19.98 epochs: MSE train/valid = 18.072943/4.334026\n",
      "24.98 epochs: MSE train/valid = 29.360153/4.593444\n",
      "29.97 epochs: MSE train/valid = 15.637210/4.010762\n",
      "34.97 epochs: MSE train/valid = 29.508242/4.639712\n",
      "39.96 epochs: MSE train/valid = 14.486982/4.363230\n",
      "44.96 epochs: MSE train/valid = 14.685497/4.513310\n",
      "49.95 epochs: MSE train/valid = 17.776358/4.398561\n",
      "54.95 epochs: MSE train/valid = 15.397426/4.616565\n",
      "59.94 epochs: MSE train/valid = 14.949018/4.703108\n",
      "64.94 epochs: MSE train/valid = 16.759302/5.597197\n",
      "69.93 epochs: MSE train/valid = 14.358047/5.407842\n",
      "74.93 epochs: MSE train/valid = 13.502975/5.693261\n",
      "79.92 epochs: MSE train/valid = 15.369617/6.239914\n",
      "84.92 epochs: MSE train/valid = 13.806519/7.050323\n",
      "89.91 epochs: MSE train/valid = 13.574717/5.461615\n",
      "94.91 epochs: MSE train/valid = 13.128179/8.755743\n",
      "99.90 epochs: MSE train/valid = 12.927915/5.486947\n"
     ]
    }
   ],
   "source": [
    "## Basic Cell RNN in tensorflow\n",
    "\n",
    "index_in_epoch = 0;\n",
    "perm_array  = np.arange(x_train.shape[0])\n",
    "np.random.shuffle(perm_array)\n",
    "\n",
    "# function to get the next batch\n",
    "def get_next_batch(batch_size):\n",
    "    global index_in_epoch, x_train, perm_array   \n",
    "    start = index_in_epoch\n",
    "    index_in_epoch += batch_size\n",
    "    \n",
    "    if index_in_epoch > x_train.shape[0]:\n",
    "        np.random.shuffle(perm_array) # shuffle permutation array\n",
    "        start = 0 # start next epoch\n",
    "        index_in_epoch = batch_size\n",
    "        \n",
    "    end = index_in_epoch\n",
    "    return x_train[perm_array[start:end]], y_train[perm_array[start:end]]\n",
    "\n",
    "# parameters\n",
    "n_steps = seq_len-1 \n",
    "n_inputs = len(AAPL_hist.columns) \n",
    "n_neurons = 200 \n",
    "n_outputs = len(AAPL_hist.columns) \n",
    "n_layers = 2\n",
    "learning_rate = 0.001\n",
    "batch_size = 50\n",
    "n_epochs = 100 \n",
    "train_set_size = x_train.shape[0]\n",
    "test_set_size = x_test.shape[0]\n",
    "\n",
    "tf.reset_default_graph()\n",
    "\n",
    "X = tf.placeholder(tf.float32, [None, n_steps, n_inputs])\n",
    "y = tf.placeholder(tf.float32, [None, n_outputs])\n",
    "\n",
    "# use Basic RNN Cell\n",
    "layers = [tf.contrib.rnn.BasicRNNCell(num_units=n_neurons, activation=tf.nn.elu)\n",
    "          for layer in range(n_layers)]\n",
    "\n",
    "# use Basic LSTM Cell \n",
    "#layers = [tf.contrib.rnn.BasicLSTMCell(num_units=n_neurons, activation=tf.nn.elu)\n",
    "#          for layer in range(n_layers)]\n",
    "\n",
    "# use LSTM Cell with peephole connections\n",
    "#layers = [tf.contrib.rnn.LSTMCell(num_units=n_neurons, \n",
    "#                                  activation=tf.nn.leaky_relu, use_peepholes = True)\n",
    "#          for layer in range(n_layers)]\n",
    "\n",
    "# use GRU cell\n",
    "#layers = [tf.contrib.rnn.GRUCell(num_units=n_neurons, activation=tf.nn.leaky_relu)\n",
    "#          for layer in range(n_layers)]\n",
    "                                                                     \n",
    "multi_layer_cell = tf.contrib.rnn.MultiRNNCell(layers)\n",
    "rnn_outputs, states = tf.nn.dynamic_rnn(multi_layer_cell, X, dtype=tf.float32)\n",
    "\n",
    "stacked_rnn_outputs = tf.reshape(rnn_outputs, [-1, n_neurons]) \n",
    "stacked_outputs = tf.layers.dense(stacked_rnn_outputs, n_outputs)\n",
    "outputs = tf.reshape(stacked_outputs, [-1, n_steps, n_outputs])\n",
    "outputs = outputs[:,n_steps-1,:] # keep only last output of sequence\n",
    "                                              \n",
    "loss = tf.reduce_mean(tf.square(outputs - y)) # loss function = mean squared error \n",
    "optimizer = tf.train.AdamOptimizer(learning_rate=learning_rate) \n",
    "training_op = optimizer.minimize(loss)\n",
    "\n",
    "# run graph\n",
    "with tf.Session() as sess: \n",
    "    sess.run(tf.global_variables_initializer())\n",
    "    for iteration in range(int(n_epochs*train_set_size/batch_size)):\n",
    "        x_batch, y_batch = get_next_batch(batch_size) # fetch the next training batch \n",
    "        sess.run(training_op, feed_dict={X: x_batch, y: y_batch}) \n",
    "        if iteration % int(5*train_set_size/batch_size) == 0:\n",
    "            mse_train = loss.eval(feed_dict={X: x_train, y: y_train}) \n",
    "            mse_valid = loss.eval(feed_dict={X: x_valid, y: y_valid}) \n",
    "            print('%.2f epochs: MSE train/valid = %.6f/%.6f'%(\n",
    "                iteration*batch_size/train_set_size, mse_train, mse_valid))\n",
    "\n",
    "    y_train_pred = sess.run(outputs, feed_dict={X: x_train})\n",
    "    y_valid_pred = sess.run(outputs, feed_dict={X: x_valid})\n",
    "    y_test_pred = sess.run(outputs, feed_dict={X: x_test})"
   ]
  },
  {
   "cell_type": "code",
   "execution_count": 74,
   "metadata": {},
   "outputs": [
    {
     "name": "stdout",
     "output_type": "stream",
     "text": [
      "correct sign prediction for close - open price for train/valid/test: 0.49/0.80/0.26\n"
     ]
    },
    {
     "data": {
      "image/png": "[encoded data removed]",
      "text/plain": [
       "<Figure size 1080x360 with 2 Axes>"
      ]
     },
     "metadata": {},
     "output_type": "display_data"
    }
   ],
   "source": [
    "ft = 4 # 0 to 14 including all variables\n",
    "\n",
    "## show predictions\n",
    "plt.figure(figsize=(15, 5));\n",
    "plt.subplot(1,2,1);\n",
    "\n",
    "plt.plot(np.arange(y_train.shape[0]), y_train[:,ft], color='blue', label='train target')\n",
    "\n",
    "plt.plot(np.arange(y_train.shape[0], y_train.shape[0]+y_valid.shape[0]), y_valid[:,ft],\n",
    "         color='gray', label='valid target')\n",
    "\n",
    "plt.plot(np.arange(y_train.shape[0]+y_valid.shape[0],\n",
    "                   y_train.shape[0]+y_test.shape[0]+y_test.shape[0]),\n",
    "         y_test[:,ft], color='black', label='test target')\n",
    "\n",
    "plt.plot(np.arange(y_train_pred.shape[0]),y_train_pred[:,ft], color='red',\n",
    "         label='train prediction')\n",
    "\n",
    "plt.plot(np.arange(y_train_pred.shape[0], y_train_pred.shape[0]+y_valid_pred.shape[0]),\n",
    "         y_valid_pred[:,ft], color='orange', label='valid prediction')\n",
    "\n",
    "plt.plot(np.arange(y_train_pred.shape[0]+y_valid_pred.shape[0],\n",
    "                   y_train_pred.shape[0]+y_valid_pred.shape[0]+y_test_pred.shape[0]),\n",
    "         y_test_pred[:,ft], color='green', label='test prediction')\n",
    "\n",
    "plt.title('past and future stock prices')\n",
    "plt.xlabel('time [days]')\n",
    "plt.ylabel('normalized price')\n",
    "plt.legend(loc='best');\n",
    "\n",
    "plt.subplot(1,2,2);\n",
    "\n",
    "plt.plot(np.arange(y_train.shape[0], y_train.shape[0]+y_test.shape[0]),\n",
    "         y_test[:,ft], color='black', label='test target')\n",
    "\n",
    "plt.plot(np.arange(y_train_pred.shape[0], y_train_pred.shape[0]+y_test_pred.shape[0]),\n",
    "         y_test_pred[:,ft], color='green', label='test prediction')\n",
    "\n",
    "plt.title('future stock prices')\n",
    "plt.xlabel('time [days]')\n",
    "plt.ylabel('normalized price')\n",
    "plt.legend(loc='best');\n",
    "\n",
    "corr_price_development_train = np.sum(np.equal(np.sign(y_train[:,1]-y_train[:,0]),\n",
    "            np.sign(y_train_pred[:,1]-y_train_pred[:,0])).astype(int)) / y_train.shape[0]\n",
    "corr_price_development_valid = np.sum(np.equal(np.sign(y_valid[:,1]-y_valid[:,0]),\n",
    "            np.sign(y_valid_pred[:,1]-y_valid_pred[:,0])).astype(int)) / y_valid.shape[0]\n",
    "corr_price_development_test = np.sum(np.equal(np.sign(y_test[:,1]-y_test[:,0]),\n",
    "            np.sign(y_test_pred[:,1]-y_test_pred[:,0])).astype(int)) / y_test.shape[0]\n",
    "\n",
    "print('correct sign prediction for close - open price for train/valid/test: %.2f/%.2f/%.2f'%(\n",
    "    corr_price_development_train, corr_price_development_valid, corr_price_development_test))"
   ]
  }
 ],
 "metadata": {
  "kernelspec": {
   "display_name": "Python 3",
   "language": "python",
   "name": "python3"
  },
  "language_info": {
   "codemirror_mode": {
    "name": "ipython",
    "version": 3
   },
   "file_extension": ".py",
   "mimetype": "text/x-python",
   "name": "python",
   "nbconvert_exporter": "python",
   "pygments_lexer": "ipython3",
   "version": "3.7.1"
  }
 },
 "nbformat": 4,
 "nbformat_minor": 2
}
